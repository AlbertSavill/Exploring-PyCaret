{
 "cells": [
  {
   "cell_type": "code",
   "execution_count": 1,
   "metadata": {},
   "outputs": [
    {
     "name": "stdout",
     "output_type": "stream",
     "text": [
      "Collecting pycaret\n",
      "  Downloading pycaret-2.2.3-py3-none-any.whl (249 kB)\n",
      "Collecting umap-learn\n",
      "  Downloading umap-learn-0.4.6.tar.gz (69 kB)\n",
      "Requirement already satisfied: nltk in c:\\users\\savil\\anaconda3\\lib\\site-packages (from pycaret) (3.5)\n",
      "Collecting wordcloud\n",
      "  Downloading wordcloud-1.8.1-cp38-cp38-win_amd64.whl (155 kB)\n",
      "Processing c:\\users\\savil\\appdata\\local\\pip\\cache\\wheels\\6b\\76\\62\\6da97734911ffcbdd559fd1a3f28526321f0ae699182a23866\\cufflinks-0.17.3-py3-none-any.whl\n",
      "Collecting kmodes>=0.10.1\n",
      "  Using cached kmodes-0.10.2-py2.py3-none-any.whl (18 kB)\n",
      "Requirement already satisfied: scikit-learn==0.23.2 in c:\\users\\savil\\anaconda3\\lib\\site-packages (from pycaret) (0.23.2)\n",
      "Collecting yellowbrick>=1.0.1\n",
      "  Using cached yellowbrick-1.2-py3-none-any.whl (269 kB)\n",
      "Requirement already satisfied: seaborn in c:\\users\\savil\\anaconda3\\lib\\site-packages (from pycaret) (0.11.0)\n",
      "Collecting imbalanced-learn>=0.7.0\n",
      "  Using cached imbalanced_learn-0.7.0-py3-none-any.whl (167 kB)\n",
      "Collecting spacy\n",
      "  Downloading spacy-2.3.5-cp38-cp38-win_amd64.whl (9.7 MB)\n",
      "Requirement already satisfied: matplotlib in c:\\users\\savil\\anaconda3\\lib\\site-packages (from pycaret) (3.3.2)\n",
      "Requirement already satisfied: ipywidgets in c:\\users\\savil\\anaconda3\\lib\\site-packages (from pycaret) (7.5.1)\n",
      "Collecting pyod\n",
      "  Downloading pyod-0.8.5.tar.gz (98 kB)\n",
      "Collecting pyLDAvis\n",
      "  Using cached pyLDAvis-2.1.2.tar.gz (1.6 MB)\n",
      "Requirement already satisfied: joblib in c:\\users\\savil\\anaconda3\\lib\\site-packages (from pycaret) (0.17.0)\n",
      "Collecting lightgbm>=2.3.1\n",
      "  Downloading lightgbm-3.1.1-py2.py3-none-win_amd64.whl (754 kB)\n",
      "Collecting pandas-profiling>=2.8.0\n",
      "  Using cached pandas_profiling-2.9.0-py2.py3-none-any.whl (258 kB)\n",
      "Collecting mlxtend\n",
      "  Using cached mlxtend-0.18.0-py2.py3-none-any.whl (1.3 MB)\n",
      "Requirement already satisfied: numpy>=1.17 in c:\\users\\savil\\anaconda3\\lib\\site-packages (from pycaret) (1.19.2)\n",
      "Collecting plotly>=4.4.1\n",
      "  Using cached plotly-4.14.1-py2.py3-none-any.whl (13.2 MB)\n",
      "Requirement already satisfied: pandas in c:\\users\\savil\\anaconda3\\lib\\site-packages (from pycaret) (1.1.3)\n",
      "Collecting scikit-plot\n",
      "  Downloading scikit_plot-0.3.7-py3-none-any.whl (33 kB)\n",
      "Collecting catboost>=0.23.2\n",
      "  Downloading catboost-0.24.4-cp38-none-win_amd64.whl (65.4 MB)\n",
      "Collecting mlflow\n",
      "  Downloading mlflow-1.13.1-py3-none-any.whl (14.1 MB)\n",
      "Collecting textblob\n",
      "  Using cached textblob-0.15.3-py2.py3-none-any.whl (636 kB)\n",
      "Requirement already satisfied: IPython in c:\\users\\savil\\anaconda3\\lib\\site-packages (from pycaret) (7.19.0)\n",
      "Requirement already satisfied: xgboost>=1.1.0 in c:\\users\\savil\\anaconda3\\lib\\site-packages (from pycaret) (1.3.1)\n",
      "Collecting gensim\n",
      "  Downloading gensim-3.8.3-cp38-cp38-win_amd64.whl (24.2 MB)\n",
      "Requirement already satisfied: scipy>=1.3.1 in c:\\users\\savil\\anaconda3\\lib\\site-packages (from umap-learn->pycaret) (1.5.2)\n",
      "Requirement already satisfied: numba!=0.47,>=0.46 in c:\\users\\savil\\anaconda3\\lib\\site-packages (from umap-learn->pycaret) (0.51.2)\n",
      "Requirement already satisfied: tqdm in c:\\users\\savil\\anaconda3\\lib\\site-packages (from nltk->pycaret) (4.50.2)\n",
      "Requirement already satisfied: regex in c:\\users\\savil\\anaconda3\\lib\\site-packages (from nltk->pycaret) (2020.10.15)\n",
      "Requirement already satisfied: click in c:\\users\\savil\\anaconda3\\lib\\site-packages (from nltk->pycaret) (7.1.2)\n",
      "Requirement already satisfied: pillow in c:\\users\\savil\\anaconda3\\lib\\site-packages (from wordcloud->pycaret) (8.0.1)\n",
      "Collecting colorlover>=0.2.1\n",
      "  Using cached colorlover-0.3.0-py3-none-any.whl (8.9 kB)\n",
      "Requirement already satisfied: six>=1.9.0 in c:\\users\\savil\\anaconda3\\lib\\site-packages (from cufflinks>=0.17.0->pycaret) (1.15.0)\n",
      "Requirement already satisfied: setuptools>=34.4.1 in c:\\users\\savil\\anaconda3\\lib\\site-packages (from cufflinks>=0.17.0->pycaret) (50.3.1.post20201107)\n",
      "Requirement already satisfied: threadpoolctl>=2.0.0 in c:\\users\\savil\\anaconda3\\lib\\site-packages (from scikit-learn==0.23.2->pycaret) (2.1.0)\n",
      "Requirement already satisfied: cycler>=0.10.0 in c:\\users\\savil\\anaconda3\\lib\\site-packages (from yellowbrick>=1.0.1->pycaret) (0.10.0)\n",
      "Collecting plac<1.2.0,>=0.9.6\n",
      "  Using cached plac-1.1.3-py2.py3-none-any.whl (20 kB)\n",
      "Collecting blis<0.8.0,>=0.4.0\n",
      "  Downloading blis-0.7.4-cp38-cp38-win_amd64.whl (6.5 MB)\n",
      "Collecting thinc<7.5.0,>=7.4.1\n",
      "  Downloading thinc-7.4.5-cp38-cp38-win_amd64.whl (910 kB)\n",
      "Collecting srsly<1.1.0,>=1.0.2\n",
      "  Downloading srsly-1.0.5-cp38-cp38-win_amd64.whl (178 kB)\n",
      "Collecting catalogue<1.1.0,>=0.0.7\n",
      "  Using cached catalogue-1.0.0-py2.py3-none-any.whl (7.7 kB)\n",
      "Collecting wasabi<1.1.0,>=0.4.0\n",
      "  Using cached wasabi-0.8.0-py3-none-any.whl (23 kB)\n",
      "Collecting murmurhash<1.1.0,>=0.28.0\n",
      "  Downloading murmurhash-1.0.5-cp38-cp38-win_amd64.whl (21 kB)\n",
      "Requirement already satisfied: requests<3.0.0,>=2.13.0 in c:\\users\\savil\\anaconda3\\lib\\site-packages (from spacy->pycaret) (2.24.0)\n",
      "Collecting preshed<3.1.0,>=3.0.2\n",
      "  Downloading preshed-3.0.5-cp38-cp38-win_amd64.whl (112 kB)\n",
      "Collecting cymem<2.1.0,>=2.0.2\n",
      "  Downloading cymem-2.0.5-cp38-cp38-win_amd64.whl (36 kB)\n",
      "Requirement already satisfied: python-dateutil>=2.1 in c:\\users\\savil\\anaconda3\\lib\\site-packages (from matplotlib->pycaret) (2.8.1)\n",
      "Requirement already satisfied: certifi>=2020.06.20 in c:\\users\\savil\\anaconda3\\lib\\site-packages (from matplotlib->pycaret) (2020.6.20)\n",
      "Requirement already satisfied: pyparsing!=2.0.4,!=2.1.2,!=2.1.6,>=2.0.3 in c:\\users\\savil\\anaconda3\\lib\\site-packages (from matplotlib->pycaret) (2.4.7)\n",
      "Requirement already satisfied: kiwisolver>=1.0.1 in c:\\users\\savil\\anaconda3\\lib\\site-packages (from matplotlib->pycaret) (1.3.0)\n",
      "Requirement already satisfied: traitlets>=4.3.1 in c:\\users\\savil\\anaconda3\\lib\\site-packages (from ipywidgets->pycaret) (5.0.5)\n",
      "Requirement already satisfied: nbformat>=4.2.0 in c:\\users\\savil\\anaconda3\\lib\\site-packages (from ipywidgets->pycaret) (5.0.8)\n",
      "Requirement already satisfied: ipykernel>=4.5.1 in c:\\users\\savil\\anaconda3\\lib\\site-packages (from ipywidgets->pycaret) (5.3.4)\n",
      "Requirement already satisfied: widgetsnbextension~=3.5.0 in c:\\users\\savil\\anaconda3\\lib\\site-packages (from ipywidgets->pycaret) (3.5.1)\n",
      "Collecting combo\n",
      "  Downloading combo-0.1.2.tar.gz (37 kB)\n",
      "Requirement already satisfied: statsmodels in c:\\users\\savil\\anaconda3\\lib\\site-packages (from pyod->pycaret) (0.12.0)\n",
      "Collecting suod\n",
      "  Downloading suod-0.0.5.tar.gz (2.1 MB)\n",
      "Requirement already satisfied: wheel>=0.23.0 in c:\\users\\savil\\anaconda3\\lib\\site-packages (from pyLDAvis->pycaret) (0.35.1)\n",
      "Requirement already satisfied: jinja2>=2.7.2 in c:\\users\\savil\\anaconda3\\lib\\site-packages (from pyLDAvis->pycaret) (2.11.2)\n",
      "Requirement already satisfied: numexpr in c:\\users\\savil\\anaconda3\\lib\\site-packages (from pyLDAvis->pycaret) (2.7.1)\n",
      "Requirement already satisfied: pytest in c:\\users\\savil\\anaconda3\\lib\\site-packages (from pyLDAvis->pycaret) (0.0.0)\n",
      "Requirement already satisfied: future in c:\\users\\savil\\anaconda3\\lib\\site-packages (from pyLDAvis->pycaret) (0.18.2)\n",
      "Collecting funcy\n",
      "  Downloading funcy-1.15-py2.py3-none-any.whl (32 kB)\n",
      "Collecting visions[type_image_path]==0.5.0\n",
      "  Downloading visions-0.5.0-py3-none-any.whl (64 kB)\n",
      "Requirement already satisfied: attrs>=19.3.0 in c:\\users\\savil\\anaconda3\\lib\\site-packages (from pandas-profiling>=2.8.0->pycaret) (20.3.0)\n",
      "Collecting tangled-up-in-unicode>=0.0.6\n",
      "  Downloading tangled_up_in_unicode-0.0.6-py3-none-any.whl (3.1 MB)\n",
      "Collecting phik>=0.9.10\n",
      "  Downloading phik-0.10.0-py3-none-any.whl (599 kB)\n",
      "Collecting confuse>=1.0.0\n",
      "  Downloading confuse-1.4.0-py2.py3-none-any.whl (21 kB)\n",
      "Collecting htmlmin>=0.1.12\n",
      "  Downloading htmlmin-0.1.12.tar.gz (19 kB)\n",
      "Collecting missingno>=0.4.2\n",
      "  Using cached missingno-0.4.2-py3-none-any.whl (9.7 kB)\n",
      "Processing c:\\users\\savil\\appdata\\local\\pip\\cache\\wheels\\c4\\a7\\48\\0a434133f6d56e878ca511c0e6c38326907c0792f67b476e56\\retrying-1.3.3-py3-none-any.whl\n",
      "Requirement already satisfied: pytz>=2017.2 in c:\\users\\savil\\anaconda3\\lib\\site-packages (from pandas->pycaret) (2020.1)\n",
      "Collecting graphviz\n",
      "  Downloading graphviz-0.16-py2.py3-none-any.whl (19 kB)\n",
      "Collecting azure-storage-blob>=12.0.0\n",
      "  Downloading azure_storage_blob-12.6.0-py2.py3-none-any.whl (328 kB)\n",
      "Requirement already satisfied: Flask in c:\\users\\savil\\anaconda3\\lib\\site-packages (from mlflow->pycaret) (1.1.2)\n",
      "Collecting docker>=4.0.0\n",
      "  Downloading docker-4.4.1-py2.py3-none-any.whl (146 kB)\n",
      "Requirement already satisfied: pyyaml in c:\\users\\savil\\anaconda3\\lib\\site-packages (from mlflow->pycaret) (5.3.1)\n",
      "Collecting databricks-cli>=0.8.7\n",
      "  Downloading databricks-cli-0.14.1.tar.gz (54 kB)\n",
      "Requirement already satisfied: sqlalchemy in c:\\users\\savil\\anaconda3\\lib\\site-packages (from mlflow->pycaret) (1.3.20)\n",
      "Collecting waitress; platform_system == \"Windows\"\n",
      "  Downloading waitress-1.4.4-py2.py3-none-any.whl (58 kB)\n",
      "Requirement already satisfied: entrypoints in c:\\users\\savil\\anaconda3\\lib\\site-packages (from mlflow->pycaret) (0.3)\n",
      "Collecting alembic<=1.4.1\n",
      "  Downloading alembic-1.4.1.tar.gz (1.1 MB)\n",
      "Collecting protobuf>=3.6.0\n",
      "  Downloading protobuf-3.14.0-py2.py3-none-any.whl (173 kB)\n",
      "Collecting sqlparse>=0.3.1\n",
      "  Downloading sqlparse-0.4.1-py3-none-any.whl (42 kB)\n",
      "Collecting gitpython>=2.1.0\n",
      "  Downloading GitPython-3.1.11-py3-none-any.whl (159 kB)\n",
      "Collecting querystring-parser\n",
      "  Downloading querystring_parser-1.2.4-py2.py3-none-any.whl (7.9 kB)\n",
      "Requirement already satisfied: cloudpickle in c:\\users\\savil\\anaconda3\\lib\\site-packages (from mlflow->pycaret) (1.6.0)\n",
      "Collecting prometheus-flask-exporter\n",
      "  Downloading prometheus_flask_exporter-0.18.1.tar.gz (21 kB)\n",
      "Requirement already satisfied: pickleshare in c:\\users\\savil\\anaconda3\\lib\\site-packages (from IPython->pycaret) (0.7.5)\n",
      "Requirement already satisfied: jedi>=0.10 in c:\\users\\savil\\anaconda3\\lib\\site-packages (from IPython->pycaret) (0.17.1)\n",
      "Requirement already satisfied: prompt-toolkit!=3.0.0,!=3.0.1,<3.1.0,>=2.0.0 in c:\\users\\savil\\anaconda3\\lib\\site-packages (from IPython->pycaret) (3.0.8)\n",
      "Requirement already satisfied: decorator in c:\\users\\savil\\anaconda3\\lib\\site-packages (from IPython->pycaret) (4.4.2)\n",
      "Requirement already satisfied: colorama; sys_platform == \"win32\" in c:\\users\\savil\\anaconda3\\lib\\site-packages (from IPython->pycaret) (0.4.4)\n",
      "Requirement already satisfied: backcall in c:\\users\\savil\\anaconda3\\lib\\site-packages (from IPython->pycaret) (0.2.0)\n",
      "Requirement already satisfied: pygments in c:\\users\\savil\\anaconda3\\lib\\site-packages (from IPython->pycaret) (2.7.2)\n",
      "Collecting smart-open>=1.8.1\n",
      "  Downloading smart_open-4.1.0.tar.gz (116 kB)\n",
      "Collecting Cython==0.29.14\n",
      "  Downloading Cython-0.29.14-cp38-cp38-win_amd64.whl (1.7 MB)\n",
      "Requirement already satisfied: llvmlite<0.35,>=0.34.0.dev0 in c:\\users\\savil\\anaconda3\\lib\\site-packages (from numba!=0.47,>=0.46->umap-learn->pycaret) (0.34.0)\n",
      "Requirement already satisfied: urllib3!=1.25.0,!=1.25.1,<1.26,>=1.21.1 in c:\\users\\savil\\anaconda3\\lib\\site-packages (from requests<3.0.0,>=2.13.0->spacy->pycaret) (1.25.11)\n",
      "Requirement already satisfied: idna<3,>=2.5 in c:\\users\\savil\\anaconda3\\lib\\site-packages (from requests<3.0.0,>=2.13.0->spacy->pycaret) (2.10)\n",
      "Requirement already satisfied: chardet<4,>=3.0.2 in c:\\users\\savil\\anaconda3\\lib\\site-packages (from requests<3.0.0,>=2.13.0->spacy->pycaret) (3.0.4)\n",
      "Requirement already satisfied: ipython-genutils in c:\\users\\savil\\anaconda3\\lib\\site-packages (from traitlets>=4.3.1->ipywidgets->pycaret) (0.2.0)\n",
      "Requirement already satisfied: jupyter-core in c:\\users\\savil\\anaconda3\\lib\\site-packages (from nbformat>=4.2.0->ipywidgets->pycaret) (4.6.3)\n",
      "Requirement already satisfied: jsonschema!=2.5.0,>=2.4 in c:\\users\\savil\\anaconda3\\lib\\site-packages (from nbformat>=4.2.0->ipywidgets->pycaret) (3.2.0)\n",
      "Requirement already satisfied: tornado>=4.2 in c:\\users\\savil\\anaconda3\\lib\\site-packages (from ipykernel>=4.5.1->ipywidgets->pycaret) (6.0.4)\n",
      "Requirement already satisfied: jupyter-client in c:\\users\\savil\\anaconda3\\lib\\site-packages (from ipykernel>=4.5.1->ipywidgets->pycaret) (6.1.7)\n",
      "Requirement already satisfied: notebook>=4.4.1 in c:\\users\\savil\\anaconda3\\lib\\site-packages (from widgetsnbextension~=3.5.0->ipywidgets->pycaret) (6.1.4)\n",
      "Requirement already satisfied: patsy>=0.5 in c:\\users\\savil\\anaconda3\\lib\\site-packages (from statsmodels->pyod->pycaret) (0.5.1)\n",
      "Requirement already satisfied: psutil in c:\\users\\savil\\anaconda3\\lib\\site-packages (from suod->pyod->pycaret) (5.7.2)\n",
      "Requirement already satisfied: MarkupSafe>=0.23 in c:\\users\\savil\\anaconda3\\lib\\site-packages (from jinja2>=2.7.2->pyLDAvis->pycaret) (1.1.1)\n",
      "Requirement already satisfied: iniconfig in c:\\users\\savil\\anaconda3\\lib\\site-packages (from pytest->pyLDAvis->pycaret) (1.1.1)\n",
      "Requirement already satisfied: packaging in c:\\users\\savil\\anaconda3\\lib\\site-packages (from pytest->pyLDAvis->pycaret) (20.4)\n",
      "Requirement already satisfied: pluggy<1.0,>=0.12 in c:\\users\\savil\\anaconda3\\lib\\site-packages (from pytest->pyLDAvis->pycaret) (0.13.1)\n",
      "Requirement already satisfied: py>=1.8.2 in c:\\users\\savil\\anaconda3\\lib\\site-packages (from pytest->pyLDAvis->pycaret) (1.9.0)\n",
      "Requirement already satisfied: toml in c:\\users\\savil\\anaconda3\\lib\\site-packages (from pytest->pyLDAvis->pycaret) (0.10.1)\n",
      "Requirement already satisfied: atomicwrites>=1.0 in c:\\users\\savil\\anaconda3\\lib\\site-packages (from pytest->pyLDAvis->pycaret) (1.4.0)\n",
      "Requirement already satisfied: networkx>=2.4 in c:\\users\\savil\\anaconda3\\lib\\site-packages (from visions[type_image_path]==0.5.0->pandas-profiling>=2.8.0->pycaret) (2.5)\n",
      "Collecting imagehash; extra == \"type_image_path\"\n",
      "  Downloading ImageHash-4.2.0-py2.py3-none-any.whl (295 kB)\n",
      "Requirement already satisfied: cryptography>=2.1.4 in c:\\users\\savil\\anaconda3\\lib\\site-packages (from azure-storage-blob>=12.0.0->mlflow->pycaret) (3.1.1)\n",
      "Collecting msrest>=0.6.10\n",
      "  Downloading msrest-0.6.19-py2.py3-none-any.whl (84 kB)\n",
      "Collecting azure-core<2.0.0,>=1.9.0\n",
      "  Downloading azure_core-1.9.0-py2.py3-none-any.whl (124 kB)\n",
      "Requirement already satisfied: itsdangerous>=0.24 in c:\\users\\savil\\anaconda3\\lib\\site-packages (from Flask->mlflow->pycaret) (1.1.0)\n",
      "Requirement already satisfied: Werkzeug>=0.15 in c:\\users\\savil\\anaconda3\\lib\\site-packages (from Flask->mlflow->pycaret) (1.0.1)\n",
      "Requirement already satisfied: pywin32==227; sys_platform == \"win32\" in c:\\users\\savil\\anaconda3\\lib\\site-packages (from docker>=4.0.0->mlflow->pycaret) (227)\n",
      "Collecting websocket-client>=0.32.0\n",
      "  Downloading websocket_client-0.57.0-py2.py3-none-any.whl (200 kB)\n",
      "Collecting tabulate>=0.7.7\n",
      "  Using cached tabulate-0.8.7-py3-none-any.whl (24 kB)\n",
      "Collecting Mako\n",
      "  Downloading Mako-1.1.3-py2.py3-none-any.whl (75 kB)\n",
      "Collecting python-editor>=0.3\n",
      "  Downloading python_editor-1.0.4-py3-none-any.whl (4.9 kB)\n",
      "Collecting gitdb<5,>=4.0.1\n",
      "  Downloading gitdb-4.0.5-py3-none-any.whl (63 kB)\n",
      "Requirement already satisfied: prometheus_client in c:\\users\\savil\\anaconda3\\lib\\site-packages (from prometheus-flask-exporter->mlflow->pycaret) (0.8.0)\n",
      "Requirement already satisfied: parso<0.8.0,>=0.7.0 in c:\\users\\savil\\anaconda3\\lib\\site-packages (from jedi>=0.10->IPython->pycaret) (0.7.0)\n",
      "Requirement already satisfied: wcwidth in c:\\users\\savil\\anaconda3\\lib\\site-packages (from prompt-toolkit!=3.0.0,!=3.0.1,<3.1.0,>=2.0.0->IPython->pycaret) (0.2.5)\n",
      "Requirement already satisfied: pyrsistent>=0.14.0 in c:\\users\\savil\\anaconda3\\lib\\site-packages (from jsonschema!=2.5.0,>=2.4->nbformat>=4.2.0->ipywidgets->pycaret) (0.17.3)\n",
      "Requirement already satisfied: pyzmq>=13 in c:\\users\\savil\\anaconda3\\lib\\site-packages (from jupyter-client->ipykernel>=4.5.1->ipywidgets->pycaret) (19.0.2)\n",
      "Requirement already satisfied: terminado>=0.8.3 in c:\\users\\savil\\anaconda3\\lib\\site-packages (from notebook>=4.4.1->widgetsnbextension~=3.5.0->ipywidgets->pycaret) (0.9.1)\n",
      "Requirement already satisfied: argon2-cffi in c:\\users\\savil\\anaconda3\\lib\\site-packages (from notebook>=4.4.1->widgetsnbextension~=3.5.0->ipywidgets->pycaret) (20.1.0)\n",
      "Requirement already satisfied: nbconvert in c:\\users\\savil\\anaconda3\\lib\\site-packages (from notebook>=4.4.1->widgetsnbextension~=3.5.0->ipywidgets->pycaret) (6.0.7)\n",
      "Requirement already satisfied: Send2Trash in c:\\users\\savil\\anaconda3\\lib\\site-packages (from notebook>=4.4.1->widgetsnbextension~=3.5.0->ipywidgets->pycaret) (1.5.0)\n",
      "Requirement already satisfied: PyWavelets in c:\\users\\savil\\anaconda3\\lib\\site-packages (from imagehash; extra == \"type_image_path\"->visions[type_image_path]==0.5.0->pandas-profiling>=2.8.0->pycaret) (1.1.1)\n",
      "Requirement already satisfied: cffi!=1.11.3,>=1.8 in c:\\users\\savil\\anaconda3\\lib\\site-packages (from cryptography>=2.1.4->azure-storage-blob>=12.0.0->mlflow->pycaret) (1.14.3)\n",
      "Collecting isodate>=0.6.0\n",
      "  Downloading isodate-0.6.0-py2.py3-none-any.whl (45 kB)\n",
      "Collecting requests-oauthlib>=0.5.0\n",
      "  Using cached requests_oauthlib-1.3.0-py2.py3-none-any.whl (23 kB)\n",
      "Collecting smmap<4,>=3.0.1\n",
      "  Downloading smmap-3.0.4-py2.py3-none-any.whl (25 kB)\n",
      "Requirement already satisfied: pywinpty>=0.5 in c:\\users\\savil\\anaconda3\\lib\\site-packages (from terminado>=0.8.3->notebook>=4.4.1->widgetsnbextension~=3.5.0->ipywidgets->pycaret) (0.5.7)\n",
      "Requirement already satisfied: defusedxml in c:\\users\\savil\\anaconda3\\lib\\site-packages (from nbconvert->notebook>=4.4.1->widgetsnbextension~=3.5.0->ipywidgets->pycaret) (0.6.0)\n",
      "Requirement already satisfied: jupyterlab-pygments in c:\\users\\savil\\anaconda3\\lib\\site-packages (from nbconvert->notebook>=4.4.1->widgetsnbextension~=3.5.0->ipywidgets->pycaret) (0.1.2)\n",
      "Requirement already satisfied: bleach in c:\\users\\savil\\anaconda3\\lib\\site-packages (from nbconvert->notebook>=4.4.1->widgetsnbextension~=3.5.0->ipywidgets->pycaret) (3.2.1)\n",
      "Requirement already satisfied: mistune<2,>=0.8.1 in c:\\users\\savil\\anaconda3\\lib\\site-packages (from nbconvert->notebook>=4.4.1->widgetsnbextension~=3.5.0->ipywidgets->pycaret) (0.8.4)\n",
      "Requirement already satisfied: pandocfilters>=1.4.1 in c:\\users\\savil\\anaconda3\\lib\\site-packages (from nbconvert->notebook>=4.4.1->widgetsnbextension~=3.5.0->ipywidgets->pycaret) (1.4.3)\n",
      "Requirement already satisfied: testpath in c:\\users\\savil\\anaconda3\\lib\\site-packages (from nbconvert->notebook>=4.4.1->widgetsnbextension~=3.5.0->ipywidgets->pycaret) (0.4.4)\n",
      "Requirement already satisfied: nbclient<0.6.0,>=0.5.0 in c:\\users\\savil\\anaconda3\\lib\\site-packages (from nbconvert->notebook>=4.4.1->widgetsnbextension~=3.5.0->ipywidgets->pycaret) (0.5.1)\n",
      "Requirement already satisfied: pycparser in c:\\users\\savil\\anaconda3\\lib\\site-packages (from cffi!=1.11.3,>=1.8->cryptography>=2.1.4->azure-storage-blob>=12.0.0->mlflow->pycaret) (2.20)\n",
      "Collecting oauthlib>=3.0.0\n",
      "  Using cached oauthlib-3.1.0-py2.py3-none-any.whl (147 kB)\n",
      "Requirement already satisfied: webencodings in c:\\users\\savil\\anaconda3\\lib\\site-packages (from bleach->nbconvert->notebook>=4.4.1->widgetsnbextension~=3.5.0->ipywidgets->pycaret) (0.5.1)\n",
      "Requirement already satisfied: async-generator in c:\\users\\savil\\anaconda3\\lib\\site-packages (from nbclient<0.6.0,>=0.5.0->nbconvert->notebook>=4.4.1->widgetsnbextension~=3.5.0->ipywidgets->pycaret) (1.10)\n",
      "Requirement already satisfied: nest-asyncio in c:\\users\\savil\\anaconda3\\lib\\site-packages (from nbclient<0.6.0,>=0.5.0->nbconvert->notebook>=4.4.1->widgetsnbextension~=3.5.0->ipywidgets->pycaret) (1.4.2)\n",
      "Building wheels for collected packages: umap-learn, pyod, pyLDAvis, combo, suod, htmlmin, databricks-cli, alembic, prometheus-flask-exporter, smart-open\n",
      "  Building wheel for umap-learn (setup.py): started\n",
      "  Building wheel for umap-learn (setup.py): finished with status 'done'\n",
      "  Created wheel for umap-learn: filename=umap_learn-0.4.6-py3-none-any.whl size=67957 sha256=40e85d2d7aa9067ea3f05b167e9765913284011fac347bb640201b9b6207dd59\n",
      "  Stored in directory: c:\\users\\savil\\appdata\\local\\pip\\cache\\wheels\\9c\\18\\d0\\2bcf7df75d19c6ca6ff8097b12abd4c46879e9a8275e93e651\n",
      "  Building wheel for pyod (setup.py): started\n",
      "  Building wheel for pyod (setup.py): finished with status 'done'\n",
      "  Created wheel for pyod: filename=pyod-0.8.5-py3-none-any.whl size=112042 sha256=ee3225e0b7d9a1524cabdcb8f53355b2198065473bd6d21c93944d33caa648e9\n",
      "  Stored in directory: c:\\users\\savil\\appdata\\local\\pip\\cache\\wheels\\9b\\11\\7b\\ddd0bd17bf088e6d1d670031f28b879e92ef1b741e322447af\n",
      "  Building wheel for pyLDAvis (setup.py): started\n",
      "  Building wheel for pyLDAvis (setup.py): finished with status 'done'\n",
      "  Created wheel for pyLDAvis: filename=pyLDAvis-2.1.2-py2.py3-none-any.whl size=97717 sha256=3e95e0d97c9d38ba3a5dbe1551a616dca412aa021911f199bc9e34be05acb317\n",
      "  Stored in directory: c:\\users\\savil\\appdata\\local\\pip\\cache\\wheels\\31\\8c\\a0\\24a443892f2134e691d59c8c6c35e19821e02f85e49871f8fd\n",
      "  Building wheel for combo (setup.py): started\n",
      "  Building wheel for combo (setup.py): finished with status 'done'\n",
      "  Created wheel for combo: filename=combo-0.1.2-py3-none-any.whl size=42032 sha256=04584d631bc3a410cf469fdf6bc2eb2f750c18e2928f08cc988304c9fdfbfdf4\n",
      "  Stored in directory: c:\\users\\savil\\appdata\\local\\pip\\cache\\wheels\\40\\d4\\93\\ea2224f96bd2868538da3b8231211c42632221600b080ddf16\n",
      "  Building wheel for suod (setup.py): started\n",
      "  Building wheel for suod (setup.py): finished with status 'done'\n",
      "  Created wheel for suod: filename=suod-0.0.5-py3-none-any.whl size=2154293 sha256=d4d3740bbfb3f97563c3e8889e9d522a11ab8b074562dc862c1d271c1d7bb8d3\n",
      "  Stored in directory: c:\\users\\savil\\appdata\\local\\pip\\cache\\wheels\\02\\99\\38\\ab5c8ccac715bc8d24508fa9f3fbece37da44ee158b39a8e05\n",
      "  Building wheel for htmlmin (setup.py): started\n",
      "  Building wheel for htmlmin (setup.py): finished with status 'done'\n",
      "  Created wheel for htmlmin: filename=htmlmin-0.1.12-py3-none-any.whl size=27091 sha256=5deb92246fb86b841a03d76412b612b01a1c0b8aa82197741471abe4a0349da7\n",
      "  Stored in directory: c:\\users\\savil\\appdata\\local\\pip\\cache\\wheels\\23\\14\\6e\\4be5bfeeb027f4939a01764b48edd5996acf574b0913fe5243\n",
      "  Building wheel for databricks-cli (setup.py): started\n",
      "  Building wheel for databricks-cli (setup.py): finished with status 'done'\n",
      "  Created wheel for databricks-cli: filename=databricks_cli-0.14.1-py3-none-any.whl size=100583 sha256=5ecf1d79d15ebf6f42ea4121ba3be93a02d12cb96b2ddf13125fe809200da07f\n",
      "  Stored in directory: c:\\users\\savil\\appdata\\local\\pip\\cache\\wheels\\f8\\a7\\7c\\74d614edb0dea04c3bb450951ec35c8f62aa197302ad2c3baa\n",
      "  Building wheel for alembic (setup.py): started\n",
      "  Building wheel for alembic (setup.py): finished with status 'done'\n",
      "  Created wheel for alembic: filename=alembic-1.4.1-py2.py3-none-any.whl size=158162 sha256=a908c774eaaaf143df1d3acaad8feaee51b39c6d4bc2490d4e3fe1ae5e64b259\n",
      "  Stored in directory: c:\\users\\savil\\appdata\\local\\pip\\cache\\wheels\\9d\\de\\6d\\ca8d461ec29e010b1267d7353d0b058819770f7680bb9360e4\n",
      "  Building wheel for prometheus-flask-exporter (setup.py): started\n",
      "  Building wheel for prometheus-flask-exporter (setup.py): finished with status 'done'\n",
      "  Created wheel for prometheus-flask-exporter: filename=prometheus_flask_exporter-0.18.1-py3-none-any.whl size=17162 sha256=f885ee098290d40fae4ff08254143eec6b84d8c9b2782b75da15948cce61f4f9\n",
      "  Stored in directory: c:\\users\\savil\\appdata\\local\\pip\\cache\\wheels\\12\\1a\\8d\\0c016e06370d07f82def661b6cb7d91d4e6b4ff7f2982e9f2c\n",
      "  Building wheel for smart-open (setup.py): started\n",
      "  Building wheel for smart-open (setup.py): finished with status 'done'\n",
      "  Created wheel for smart-open: filename=smart_open-4.1.0-py3-none-any.whl size=106208 sha256=a6481711b6c0c260b13d86d60426b8f3e500293b8d627791ba3e12d9549c73b9\n",
      "  Stored in directory: c:\\users\\savil\\appdata\\local\\pip\\cache\\wheels\\74\\33\\8e\\37e22f50ce94856f37b3e23a93c648c194aa8d5a546083d09a\n",
      "Successfully built umap-learn pyod pyLDAvis combo suod htmlmin databricks-cli alembic prometheus-flask-exporter smart-open\n",
      "Installing collected packages: umap-learn, wordcloud, colorlover, retrying, plotly, cufflinks, kmodes, yellowbrick, imbalanced-learn, plac, blis, wasabi, catalogue, murmurhash, srsly, cymem, preshed, thinc, spacy, combo, suod, pyod, funcy, pyLDAvis, lightgbm, tangled-up-in-unicode, imagehash, visions, phik, confuse, htmlmin, missingno, pandas-profiling, mlxtend, scikit-plot, graphviz, catboost, isodate, oauthlib, requests-oauthlib, msrest, azure-core, azure-storage-blob, websocket-client, docker, tabulate, databricks-cli, waitress, Mako, python-editor, alembic, protobuf, sqlparse, smmap, gitdb, gitpython, querystring-parser, prometheus-flask-exporter, mlflow, textblob, smart-open, Cython, gensim, pycaret\n",
      "  Attempting uninstall: Cython\n",
      "    Found existing installation: Cython 0.29.21\n",
      "    Uninstalling Cython-0.29.21:\n",
      "      Successfully uninstalled Cython-0.29.21\n",
      "Successfully installed Cython-0.29.14 Mako-1.1.3 alembic-1.4.1 azure-core-1.9.0 azure-storage-blob-12.6.0 blis-0.7.4 catalogue-1.0.0 catboost-0.24.4 colorlover-0.3.0 combo-0.1.2 confuse-1.4.0 cufflinks-0.17.3 cymem-2.0.5 databricks-cli-0.14.1 docker-4.4.1 funcy-1.15 gensim-3.8.3 gitdb-4.0.5 gitpython-3.1.11 graphviz-0.16 htmlmin-0.1.12 imagehash-4.2.0 imbalanced-learn-0.7.0 isodate-0.6.0 kmodes-0.10.2 lightgbm-3.1.1 missingno-0.4.2 mlflow-1.13.1 mlxtend-0.18.0 msrest-0.6.19 murmurhash-1.0.5 oauthlib-3.1.0 pandas-profiling-2.9.0 phik-0.10.0 plac-1.1.3 plotly-4.14.1 preshed-3.0.5 prometheus-flask-exporter-0.18.1 protobuf-3.14.0 pyLDAvis-2.1.2 pycaret-2.2.3 pyod-0.8.5 python-editor-1.0.4 querystring-parser-1.2.4 requests-oauthlib-1.3.0 retrying-1.3.3 scikit-plot-0.3.7 smart-open-4.1.0 smmap-3.0.4 spacy-2.3.5 sqlparse-0.4.1 srsly-1.0.5 suod-0.0.5 tabulate-0.8.7 tangled-up-in-unicode-0.0.6 textblob-0.15.3 thinc-7.4.5 umap-learn-0.4.6 visions-0.5.0 waitress-1.4.4 wasabi-0.8.0 websocket-client-0.57.0 wordcloud-1.8.1 yellowbrick-1.2\n"
     ]
    }
   ],
   "source": [
    "!pip install pycaret"
   ]
  },
  {
   "cell_type": "code",
   "execution_count": 2,
   "metadata": {},
   "outputs": [],
   "source": [
    "import pandas as pd\n",
    "import seaborn as sns\n",
    "import matplotlib.pyplot as plt\n",
    "%matplotlib inline"
   ]
  },
  {
   "cell_type": "code",
   "execution_count": 9,
   "metadata": {},
   "outputs": [
    {
     "data": {
      "text/html": [
       "<div>\n",
       "<style scoped>\n",
       "    .dataframe tbody tr th:only-of-type {\n",
       "        vertical-align: middle;\n",
       "    }\n",
       "\n",
       "    .dataframe tbody tr th {\n",
       "        vertical-align: top;\n",
       "    }\n",
       "\n",
       "    .dataframe thead th {\n",
       "        text-align: right;\n",
       "    }\n",
       "</style>\n",
       "<table border=\"1\" class=\"dataframe\">\n",
       "  <thead>\n",
       "    <tr style=\"text-align: right;\">\n",
       "      <th></th>\n",
       "      <th>country</th>\n",
       "      <th>latitude</th>\n",
       "      <th>longitude</th>\n",
       "      <th>name</th>\n",
       "    </tr>\n",
       "  </thead>\n",
       "  <tbody>\n",
       "    <tr>\n",
       "      <th>0</th>\n",
       "      <td>AD</td>\n",
       "      <td>42.546245</td>\n",
       "      <td>1.601554</td>\n",
       "      <td>Andorra</td>\n",
       "    </tr>\n",
       "    <tr>\n",
       "      <th>1</th>\n",
       "      <td>AE</td>\n",
       "      <td>23.424076</td>\n",
       "      <td>53.847818</td>\n",
       "      <td>United Arab Emirates</td>\n",
       "    </tr>\n",
       "    <tr>\n",
       "      <th>2</th>\n",
       "      <td>AF</td>\n",
       "      <td>33.939110</td>\n",
       "      <td>67.709953</td>\n",
       "      <td>Afghanistan</td>\n",
       "    </tr>\n",
       "    <tr>\n",
       "      <th>3</th>\n",
       "      <td>AG</td>\n",
       "      <td>17.060816</td>\n",
       "      <td>-61.796428</td>\n",
       "      <td>Antigua and Barbuda</td>\n",
       "    </tr>\n",
       "    <tr>\n",
       "      <th>4</th>\n",
       "      <td>AI</td>\n",
       "      <td>18.220554</td>\n",
       "      <td>-63.068615</td>\n",
       "      <td>Anguilla</td>\n",
       "    </tr>\n",
       "  </tbody>\n",
       "</table>\n",
       "</div>"
      ],
      "text/plain": [
       "  country   latitude  longitude                  name\n",
       "0      AD  42.546245   1.601554               Andorra\n",
       "1      AE  23.424076  53.847818  United Arab Emirates\n",
       "2      AF  33.939110  67.709953           Afghanistan\n",
       "3      AG  17.060816 -61.796428   Antigua and Barbuda\n",
       "4      AI  18.220554 -63.068615              Anguilla"
      ]
     },
     "execution_count": 9,
     "metadata": {},
     "output_type": "execute_result"
    }
   ],
   "source": [
    "df = pd.read_csv(\"Documents/Countries.csv\", encoding='latin-1')\n",
    "df.head()"
   ]
  },
  {
   "cell_type": "code",
   "execution_count": 10,
   "metadata": {},
   "outputs": [],
   "source": [
    "import pycaret.clustering as pc"
   ]
  },
  {
   "cell_type": "code",
   "execution_count": 11,
   "metadata": {},
   "outputs": [
    {
     "data": {
      "text/plain": [
       "['Any',\n",
       " 'Dict',\n",
       " 'Display',\n",
       " 'List',\n",
       " 'MLUsecase',\n",
       " 'Optional',\n",
       " 'Tuple',\n",
       " 'Union',\n",
       " '__builtins__',\n",
       " '__cached__',\n",
       " '__doc__',\n",
       " '__file__',\n",
       " '__loader__',\n",
       " '__name__',\n",
       " '__package__',\n",
       " '__spec__',\n",
       " 'add_metric',\n",
       " 'assign_model',\n",
       " 'create_model',\n",
       " 'datetime',\n",
       " 'deploy_model',\n",
       " 'enable_colab',\n",
       " 'evaluate_model',\n",
       " 'get_clusters',\n",
       " 'get_config',\n",
       " 'get_logger',\n",
       " 'get_logs',\n",
       " 'get_metrics',\n",
       " 'ipw',\n",
       " 'is_in_colab',\n",
       " 'load_config',\n",
       " 'load_model',\n",
       " 'models',\n",
       " 'np',\n",
       " 'pd',\n",
       " 'plot_model',\n",
       " 'predict_model',\n",
       " 'pull',\n",
       " 'pycaret',\n",
       " 'remove_metric',\n",
       " 'save_config',\n",
       " 'save_model',\n",
       " 'set_config',\n",
       " 'setup',\n",
       " 'sys',\n",
       " 'time',\n",
       " 'tune_model',\n",
       " 'warnings']"
      ]
     },
     "execution_count": 11,
     "metadata": {},
     "output_type": "execute_result"
    }
   ],
   "source": [
    "dir(pc)"
   ]
  },
  {
   "cell_type": "markdown",
   "metadata": {},
   "source": [
    "## Segment the countries by clustering"
   ]
  },
  {
   "cell_type": "code",
   "execution_count": 13,
   "metadata": {},
   "outputs": [
    {
     "data": {
      "text/html": [
       "<style  type=\"text/css\" >\n",
       "#T_9388c4a0_4e9a_11eb_9d14_acd564d56f76row2_col1{\n",
       "            background-color:  lightgreen;\n",
       "        }</style><table id=\"T_9388c4a0_4e9a_11eb_9d14_acd564d56f76\" ><thead>    <tr>        <th class=\"blank level0\" ></th>        <th class=\"col_heading level0 col0\" >Description</th>        <th class=\"col_heading level0 col1\" >Value</th>    </tr></thead><tbody>\n",
       "                <tr>\n",
       "                        <th id=\"T_9388c4a0_4e9a_11eb_9d14_acd564d56f76level0_row0\" class=\"row_heading level0 row0\" >0</th>\n",
       "                        <td id=\"T_9388c4a0_4e9a_11eb_9d14_acd564d56f76row0_col0\" class=\"data row0 col0\" >session_id</td>\n",
       "                        <td id=\"T_9388c4a0_4e9a_11eb_9d14_acd564d56f76row0_col1\" class=\"data row0 col1\" >7715</td>\n",
       "            </tr>\n",
       "            <tr>\n",
       "                        <th id=\"T_9388c4a0_4e9a_11eb_9d14_acd564d56f76level0_row1\" class=\"row_heading level0 row1\" >1</th>\n",
       "                        <td id=\"T_9388c4a0_4e9a_11eb_9d14_acd564d56f76row1_col0\" class=\"data row1 col0\" >Original Data</td>\n",
       "                        <td id=\"T_9388c4a0_4e9a_11eb_9d14_acd564d56f76row1_col1\" class=\"data row1 col1\" >(245, 4)</td>\n",
       "            </tr>\n",
       "            <tr>\n",
       "                        <th id=\"T_9388c4a0_4e9a_11eb_9d14_acd564d56f76level0_row2\" class=\"row_heading level0 row2\" >2</th>\n",
       "                        <td id=\"T_9388c4a0_4e9a_11eb_9d14_acd564d56f76row2_col0\" class=\"data row2 col0\" >Missing Values</td>\n",
       "                        <td id=\"T_9388c4a0_4e9a_11eb_9d14_acd564d56f76row2_col1\" class=\"data row2 col1\" >True</td>\n",
       "            </tr>\n",
       "            <tr>\n",
       "                        <th id=\"T_9388c4a0_4e9a_11eb_9d14_acd564d56f76level0_row3\" class=\"row_heading level0 row3\" >3</th>\n",
       "                        <td id=\"T_9388c4a0_4e9a_11eb_9d14_acd564d56f76row3_col0\" class=\"data row3 col0\" >Numeric Features</td>\n",
       "                        <td id=\"T_9388c4a0_4e9a_11eb_9d14_acd564d56f76row3_col1\" class=\"data row3 col1\" >2</td>\n",
       "            </tr>\n",
       "            <tr>\n",
       "                        <th id=\"T_9388c4a0_4e9a_11eb_9d14_acd564d56f76level0_row4\" class=\"row_heading level0 row4\" >4</th>\n",
       "                        <td id=\"T_9388c4a0_4e9a_11eb_9d14_acd564d56f76row4_col0\" class=\"data row4 col0\" >Categorical Features</td>\n",
       "                        <td id=\"T_9388c4a0_4e9a_11eb_9d14_acd564d56f76row4_col1\" class=\"data row4 col1\" >0</td>\n",
       "            </tr>\n",
       "            <tr>\n",
       "                        <th id=\"T_9388c4a0_4e9a_11eb_9d14_acd564d56f76level0_row5\" class=\"row_heading level0 row5\" >5</th>\n",
       "                        <td id=\"T_9388c4a0_4e9a_11eb_9d14_acd564d56f76row5_col0\" class=\"data row5 col0\" >Ordinal Features</td>\n",
       "                        <td id=\"T_9388c4a0_4e9a_11eb_9d14_acd564d56f76row5_col1\" class=\"data row5 col1\" >False</td>\n",
       "            </tr>\n",
       "            <tr>\n",
       "                        <th id=\"T_9388c4a0_4e9a_11eb_9d14_acd564d56f76level0_row6\" class=\"row_heading level0 row6\" >6</th>\n",
       "                        <td id=\"T_9388c4a0_4e9a_11eb_9d14_acd564d56f76row6_col0\" class=\"data row6 col0\" >High Cardinality Features</td>\n",
       "                        <td id=\"T_9388c4a0_4e9a_11eb_9d14_acd564d56f76row6_col1\" class=\"data row6 col1\" >False</td>\n",
       "            </tr>\n",
       "            <tr>\n",
       "                        <th id=\"T_9388c4a0_4e9a_11eb_9d14_acd564d56f76level0_row7\" class=\"row_heading level0 row7\" >7</th>\n",
       "                        <td id=\"T_9388c4a0_4e9a_11eb_9d14_acd564d56f76row7_col0\" class=\"data row7 col0\" >High Cardinality Method</td>\n",
       "                        <td id=\"T_9388c4a0_4e9a_11eb_9d14_acd564d56f76row7_col1\" class=\"data row7 col1\" >None</td>\n",
       "            </tr>\n",
       "            <tr>\n",
       "                        <th id=\"T_9388c4a0_4e9a_11eb_9d14_acd564d56f76level0_row8\" class=\"row_heading level0 row8\" >8</th>\n",
       "                        <td id=\"T_9388c4a0_4e9a_11eb_9d14_acd564d56f76row8_col0\" class=\"data row8 col0\" >Transformed Data</td>\n",
       "                        <td id=\"T_9388c4a0_4e9a_11eb_9d14_acd564d56f76row8_col1\" class=\"data row8 col1\" >(245, 2)</td>\n",
       "            </tr>\n",
       "            <tr>\n",
       "                        <th id=\"T_9388c4a0_4e9a_11eb_9d14_acd564d56f76level0_row9\" class=\"row_heading level0 row9\" >9</th>\n",
       "                        <td id=\"T_9388c4a0_4e9a_11eb_9d14_acd564d56f76row9_col0\" class=\"data row9 col0\" >CPU Jobs</td>\n",
       "                        <td id=\"T_9388c4a0_4e9a_11eb_9d14_acd564d56f76row9_col1\" class=\"data row9 col1\" >-1</td>\n",
       "            </tr>\n",
       "            <tr>\n",
       "                        <th id=\"T_9388c4a0_4e9a_11eb_9d14_acd564d56f76level0_row10\" class=\"row_heading level0 row10\" >10</th>\n",
       "                        <td id=\"T_9388c4a0_4e9a_11eb_9d14_acd564d56f76row10_col0\" class=\"data row10 col0\" >Use GPU</td>\n",
       "                        <td id=\"T_9388c4a0_4e9a_11eb_9d14_acd564d56f76row10_col1\" class=\"data row10 col1\" >False</td>\n",
       "            </tr>\n",
       "            <tr>\n",
       "                        <th id=\"T_9388c4a0_4e9a_11eb_9d14_acd564d56f76level0_row11\" class=\"row_heading level0 row11\" >11</th>\n",
       "                        <td id=\"T_9388c4a0_4e9a_11eb_9d14_acd564d56f76row11_col0\" class=\"data row11 col0\" >Log Experiment</td>\n",
       "                        <td id=\"T_9388c4a0_4e9a_11eb_9d14_acd564d56f76row11_col1\" class=\"data row11 col1\" >False</td>\n",
       "            </tr>\n",
       "            <tr>\n",
       "                        <th id=\"T_9388c4a0_4e9a_11eb_9d14_acd564d56f76level0_row12\" class=\"row_heading level0 row12\" >12</th>\n",
       "                        <td id=\"T_9388c4a0_4e9a_11eb_9d14_acd564d56f76row12_col0\" class=\"data row12 col0\" >Experiment Name</td>\n",
       "                        <td id=\"T_9388c4a0_4e9a_11eb_9d14_acd564d56f76row12_col1\" class=\"data row12 col1\" >cluster-default-name</td>\n",
       "            </tr>\n",
       "            <tr>\n",
       "                        <th id=\"T_9388c4a0_4e9a_11eb_9d14_acd564d56f76level0_row13\" class=\"row_heading level0 row13\" >13</th>\n",
       "                        <td id=\"T_9388c4a0_4e9a_11eb_9d14_acd564d56f76row13_col0\" class=\"data row13 col0\" >USI</td>\n",
       "                        <td id=\"T_9388c4a0_4e9a_11eb_9d14_acd564d56f76row13_col1\" class=\"data row13 col1\" >9148</td>\n",
       "            </tr>\n",
       "            <tr>\n",
       "                        <th id=\"T_9388c4a0_4e9a_11eb_9d14_acd564d56f76level0_row14\" class=\"row_heading level0 row14\" >14</th>\n",
       "                        <td id=\"T_9388c4a0_4e9a_11eb_9d14_acd564d56f76row14_col0\" class=\"data row14 col0\" >Imputation Type</td>\n",
       "                        <td id=\"T_9388c4a0_4e9a_11eb_9d14_acd564d56f76row14_col1\" class=\"data row14 col1\" >simple</td>\n",
       "            </tr>\n",
       "            <tr>\n",
       "                        <th id=\"T_9388c4a0_4e9a_11eb_9d14_acd564d56f76level0_row15\" class=\"row_heading level0 row15\" >15</th>\n",
       "                        <td id=\"T_9388c4a0_4e9a_11eb_9d14_acd564d56f76row15_col0\" class=\"data row15 col0\" >Iterative Imputation Iteration</td>\n",
       "                        <td id=\"T_9388c4a0_4e9a_11eb_9d14_acd564d56f76row15_col1\" class=\"data row15 col1\" >None</td>\n",
       "            </tr>\n",
       "            <tr>\n",
       "                        <th id=\"T_9388c4a0_4e9a_11eb_9d14_acd564d56f76level0_row16\" class=\"row_heading level0 row16\" >16</th>\n",
       "                        <td id=\"T_9388c4a0_4e9a_11eb_9d14_acd564d56f76row16_col0\" class=\"data row16 col0\" >Numeric Imputer</td>\n",
       "                        <td id=\"T_9388c4a0_4e9a_11eb_9d14_acd564d56f76row16_col1\" class=\"data row16 col1\" >mean</td>\n",
       "            </tr>\n",
       "            <tr>\n",
       "                        <th id=\"T_9388c4a0_4e9a_11eb_9d14_acd564d56f76level0_row17\" class=\"row_heading level0 row17\" >17</th>\n",
       "                        <td id=\"T_9388c4a0_4e9a_11eb_9d14_acd564d56f76row17_col0\" class=\"data row17 col0\" >Iterative Imputation Numeric Model</td>\n",
       "                        <td id=\"T_9388c4a0_4e9a_11eb_9d14_acd564d56f76row17_col1\" class=\"data row17 col1\" >None</td>\n",
       "            </tr>\n",
       "            <tr>\n",
       "                        <th id=\"T_9388c4a0_4e9a_11eb_9d14_acd564d56f76level0_row18\" class=\"row_heading level0 row18\" >18</th>\n",
       "                        <td id=\"T_9388c4a0_4e9a_11eb_9d14_acd564d56f76row18_col0\" class=\"data row18 col0\" >Categorical Imputer</td>\n",
       "                        <td id=\"T_9388c4a0_4e9a_11eb_9d14_acd564d56f76row18_col1\" class=\"data row18 col1\" >mode</td>\n",
       "            </tr>\n",
       "            <tr>\n",
       "                        <th id=\"T_9388c4a0_4e9a_11eb_9d14_acd564d56f76level0_row19\" class=\"row_heading level0 row19\" >19</th>\n",
       "                        <td id=\"T_9388c4a0_4e9a_11eb_9d14_acd564d56f76row19_col0\" class=\"data row19 col0\" >Iterative Imputation Categorical Model</td>\n",
       "                        <td id=\"T_9388c4a0_4e9a_11eb_9d14_acd564d56f76row19_col1\" class=\"data row19 col1\" >None</td>\n",
       "            </tr>\n",
       "            <tr>\n",
       "                        <th id=\"T_9388c4a0_4e9a_11eb_9d14_acd564d56f76level0_row20\" class=\"row_heading level0 row20\" >20</th>\n",
       "                        <td id=\"T_9388c4a0_4e9a_11eb_9d14_acd564d56f76row20_col0\" class=\"data row20 col0\" >Unknown Categoricals Handling</td>\n",
       "                        <td id=\"T_9388c4a0_4e9a_11eb_9d14_acd564d56f76row20_col1\" class=\"data row20 col1\" >least_frequent</td>\n",
       "            </tr>\n",
       "            <tr>\n",
       "                        <th id=\"T_9388c4a0_4e9a_11eb_9d14_acd564d56f76level0_row21\" class=\"row_heading level0 row21\" >21</th>\n",
       "                        <td id=\"T_9388c4a0_4e9a_11eb_9d14_acd564d56f76row21_col0\" class=\"data row21 col0\" >Normalize</td>\n",
       "                        <td id=\"T_9388c4a0_4e9a_11eb_9d14_acd564d56f76row21_col1\" class=\"data row21 col1\" >False</td>\n",
       "            </tr>\n",
       "            <tr>\n",
       "                        <th id=\"T_9388c4a0_4e9a_11eb_9d14_acd564d56f76level0_row22\" class=\"row_heading level0 row22\" >22</th>\n",
       "                        <td id=\"T_9388c4a0_4e9a_11eb_9d14_acd564d56f76row22_col0\" class=\"data row22 col0\" >Normalize Method</td>\n",
       "                        <td id=\"T_9388c4a0_4e9a_11eb_9d14_acd564d56f76row22_col1\" class=\"data row22 col1\" >None</td>\n",
       "            </tr>\n",
       "            <tr>\n",
       "                        <th id=\"T_9388c4a0_4e9a_11eb_9d14_acd564d56f76level0_row23\" class=\"row_heading level0 row23\" >23</th>\n",
       "                        <td id=\"T_9388c4a0_4e9a_11eb_9d14_acd564d56f76row23_col0\" class=\"data row23 col0\" >Transformation</td>\n",
       "                        <td id=\"T_9388c4a0_4e9a_11eb_9d14_acd564d56f76row23_col1\" class=\"data row23 col1\" >False</td>\n",
       "            </tr>\n",
       "            <tr>\n",
       "                        <th id=\"T_9388c4a0_4e9a_11eb_9d14_acd564d56f76level0_row24\" class=\"row_heading level0 row24\" >24</th>\n",
       "                        <td id=\"T_9388c4a0_4e9a_11eb_9d14_acd564d56f76row24_col0\" class=\"data row24 col0\" >Transformation Method</td>\n",
       "                        <td id=\"T_9388c4a0_4e9a_11eb_9d14_acd564d56f76row24_col1\" class=\"data row24 col1\" >None</td>\n",
       "            </tr>\n",
       "            <tr>\n",
       "                        <th id=\"T_9388c4a0_4e9a_11eb_9d14_acd564d56f76level0_row25\" class=\"row_heading level0 row25\" >25</th>\n",
       "                        <td id=\"T_9388c4a0_4e9a_11eb_9d14_acd564d56f76row25_col0\" class=\"data row25 col0\" >PCA</td>\n",
       "                        <td id=\"T_9388c4a0_4e9a_11eb_9d14_acd564d56f76row25_col1\" class=\"data row25 col1\" >False</td>\n",
       "            </tr>\n",
       "            <tr>\n",
       "                        <th id=\"T_9388c4a0_4e9a_11eb_9d14_acd564d56f76level0_row26\" class=\"row_heading level0 row26\" >26</th>\n",
       "                        <td id=\"T_9388c4a0_4e9a_11eb_9d14_acd564d56f76row26_col0\" class=\"data row26 col0\" >PCA Method</td>\n",
       "                        <td id=\"T_9388c4a0_4e9a_11eb_9d14_acd564d56f76row26_col1\" class=\"data row26 col1\" >None</td>\n",
       "            </tr>\n",
       "            <tr>\n",
       "                        <th id=\"T_9388c4a0_4e9a_11eb_9d14_acd564d56f76level0_row27\" class=\"row_heading level0 row27\" >27</th>\n",
       "                        <td id=\"T_9388c4a0_4e9a_11eb_9d14_acd564d56f76row27_col0\" class=\"data row27 col0\" >PCA Components</td>\n",
       "                        <td id=\"T_9388c4a0_4e9a_11eb_9d14_acd564d56f76row27_col1\" class=\"data row27 col1\" >None</td>\n",
       "            </tr>\n",
       "            <tr>\n",
       "                        <th id=\"T_9388c4a0_4e9a_11eb_9d14_acd564d56f76level0_row28\" class=\"row_heading level0 row28\" >28</th>\n",
       "                        <td id=\"T_9388c4a0_4e9a_11eb_9d14_acd564d56f76row28_col0\" class=\"data row28 col0\" >Ignore Low Variance</td>\n",
       "                        <td id=\"T_9388c4a0_4e9a_11eb_9d14_acd564d56f76row28_col1\" class=\"data row28 col1\" >False</td>\n",
       "            </tr>\n",
       "            <tr>\n",
       "                        <th id=\"T_9388c4a0_4e9a_11eb_9d14_acd564d56f76level0_row29\" class=\"row_heading level0 row29\" >29</th>\n",
       "                        <td id=\"T_9388c4a0_4e9a_11eb_9d14_acd564d56f76row29_col0\" class=\"data row29 col0\" >Combine Rare Levels</td>\n",
       "                        <td id=\"T_9388c4a0_4e9a_11eb_9d14_acd564d56f76row29_col1\" class=\"data row29 col1\" >False</td>\n",
       "            </tr>\n",
       "            <tr>\n",
       "                        <th id=\"T_9388c4a0_4e9a_11eb_9d14_acd564d56f76level0_row30\" class=\"row_heading level0 row30\" >30</th>\n",
       "                        <td id=\"T_9388c4a0_4e9a_11eb_9d14_acd564d56f76row30_col0\" class=\"data row30 col0\" >Rare Level Threshold</td>\n",
       "                        <td id=\"T_9388c4a0_4e9a_11eb_9d14_acd564d56f76row30_col1\" class=\"data row30 col1\" >None</td>\n",
       "            </tr>\n",
       "            <tr>\n",
       "                        <th id=\"T_9388c4a0_4e9a_11eb_9d14_acd564d56f76level0_row31\" class=\"row_heading level0 row31\" >31</th>\n",
       "                        <td id=\"T_9388c4a0_4e9a_11eb_9d14_acd564d56f76row31_col0\" class=\"data row31 col0\" >Numeric Binning</td>\n",
       "                        <td id=\"T_9388c4a0_4e9a_11eb_9d14_acd564d56f76row31_col1\" class=\"data row31 col1\" >False</td>\n",
       "            </tr>\n",
       "            <tr>\n",
       "                        <th id=\"T_9388c4a0_4e9a_11eb_9d14_acd564d56f76level0_row32\" class=\"row_heading level0 row32\" >32</th>\n",
       "                        <td id=\"T_9388c4a0_4e9a_11eb_9d14_acd564d56f76row32_col0\" class=\"data row32 col0\" >Remove Outliers</td>\n",
       "                        <td id=\"T_9388c4a0_4e9a_11eb_9d14_acd564d56f76row32_col1\" class=\"data row32 col1\" >False</td>\n",
       "            </tr>\n",
       "            <tr>\n",
       "                        <th id=\"T_9388c4a0_4e9a_11eb_9d14_acd564d56f76level0_row33\" class=\"row_heading level0 row33\" >33</th>\n",
       "                        <td id=\"T_9388c4a0_4e9a_11eb_9d14_acd564d56f76row33_col0\" class=\"data row33 col0\" >Outliers Threshold</td>\n",
       "                        <td id=\"T_9388c4a0_4e9a_11eb_9d14_acd564d56f76row33_col1\" class=\"data row33 col1\" >None</td>\n",
       "            </tr>\n",
       "            <tr>\n",
       "                        <th id=\"T_9388c4a0_4e9a_11eb_9d14_acd564d56f76level0_row34\" class=\"row_heading level0 row34\" >34</th>\n",
       "                        <td id=\"T_9388c4a0_4e9a_11eb_9d14_acd564d56f76row34_col0\" class=\"data row34 col0\" >Remove Multicollinearity</td>\n",
       "                        <td id=\"T_9388c4a0_4e9a_11eb_9d14_acd564d56f76row34_col1\" class=\"data row34 col1\" >False</td>\n",
       "            </tr>\n",
       "            <tr>\n",
       "                        <th id=\"T_9388c4a0_4e9a_11eb_9d14_acd564d56f76level0_row35\" class=\"row_heading level0 row35\" >35</th>\n",
       "                        <td id=\"T_9388c4a0_4e9a_11eb_9d14_acd564d56f76row35_col0\" class=\"data row35 col0\" >Multicollinearity Threshold</td>\n",
       "                        <td id=\"T_9388c4a0_4e9a_11eb_9d14_acd564d56f76row35_col1\" class=\"data row35 col1\" >None</td>\n",
       "            </tr>\n",
       "            <tr>\n",
       "                        <th id=\"T_9388c4a0_4e9a_11eb_9d14_acd564d56f76level0_row36\" class=\"row_heading level0 row36\" >36</th>\n",
       "                        <td id=\"T_9388c4a0_4e9a_11eb_9d14_acd564d56f76row36_col0\" class=\"data row36 col0\" >Clustering</td>\n",
       "                        <td id=\"T_9388c4a0_4e9a_11eb_9d14_acd564d56f76row36_col1\" class=\"data row36 col1\" >False</td>\n",
       "            </tr>\n",
       "            <tr>\n",
       "                        <th id=\"T_9388c4a0_4e9a_11eb_9d14_acd564d56f76level0_row37\" class=\"row_heading level0 row37\" >37</th>\n",
       "                        <td id=\"T_9388c4a0_4e9a_11eb_9d14_acd564d56f76row37_col0\" class=\"data row37 col0\" >Clustering Iteration</td>\n",
       "                        <td id=\"T_9388c4a0_4e9a_11eb_9d14_acd564d56f76row37_col1\" class=\"data row37 col1\" >None</td>\n",
       "            </tr>\n",
       "            <tr>\n",
       "                        <th id=\"T_9388c4a0_4e9a_11eb_9d14_acd564d56f76level0_row38\" class=\"row_heading level0 row38\" >38</th>\n",
       "                        <td id=\"T_9388c4a0_4e9a_11eb_9d14_acd564d56f76row38_col0\" class=\"data row38 col0\" >Polynomial Features</td>\n",
       "                        <td id=\"T_9388c4a0_4e9a_11eb_9d14_acd564d56f76row38_col1\" class=\"data row38 col1\" >False</td>\n",
       "            </tr>\n",
       "            <tr>\n",
       "                        <th id=\"T_9388c4a0_4e9a_11eb_9d14_acd564d56f76level0_row39\" class=\"row_heading level0 row39\" >39</th>\n",
       "                        <td id=\"T_9388c4a0_4e9a_11eb_9d14_acd564d56f76row39_col0\" class=\"data row39 col0\" >Polynomial Degree</td>\n",
       "                        <td id=\"T_9388c4a0_4e9a_11eb_9d14_acd564d56f76row39_col1\" class=\"data row39 col1\" >None</td>\n",
       "            </tr>\n",
       "            <tr>\n",
       "                        <th id=\"T_9388c4a0_4e9a_11eb_9d14_acd564d56f76level0_row40\" class=\"row_heading level0 row40\" >40</th>\n",
       "                        <td id=\"T_9388c4a0_4e9a_11eb_9d14_acd564d56f76row40_col0\" class=\"data row40 col0\" >Trignometry Features</td>\n",
       "                        <td id=\"T_9388c4a0_4e9a_11eb_9d14_acd564d56f76row40_col1\" class=\"data row40 col1\" >False</td>\n",
       "            </tr>\n",
       "            <tr>\n",
       "                        <th id=\"T_9388c4a0_4e9a_11eb_9d14_acd564d56f76level0_row41\" class=\"row_heading level0 row41\" >41</th>\n",
       "                        <td id=\"T_9388c4a0_4e9a_11eb_9d14_acd564d56f76row41_col0\" class=\"data row41 col0\" >Polynomial Threshold</td>\n",
       "                        <td id=\"T_9388c4a0_4e9a_11eb_9d14_acd564d56f76row41_col1\" class=\"data row41 col1\" >None</td>\n",
       "            </tr>\n",
       "            <tr>\n",
       "                        <th id=\"T_9388c4a0_4e9a_11eb_9d14_acd564d56f76level0_row42\" class=\"row_heading level0 row42\" >42</th>\n",
       "                        <td id=\"T_9388c4a0_4e9a_11eb_9d14_acd564d56f76row42_col0\" class=\"data row42 col0\" >Group Features</td>\n",
       "                        <td id=\"T_9388c4a0_4e9a_11eb_9d14_acd564d56f76row42_col1\" class=\"data row42 col1\" >False</td>\n",
       "            </tr>\n",
       "            <tr>\n",
       "                        <th id=\"T_9388c4a0_4e9a_11eb_9d14_acd564d56f76level0_row43\" class=\"row_heading level0 row43\" >43</th>\n",
       "                        <td id=\"T_9388c4a0_4e9a_11eb_9d14_acd564d56f76row43_col0\" class=\"data row43 col0\" >Feature Selection</td>\n",
       "                        <td id=\"T_9388c4a0_4e9a_11eb_9d14_acd564d56f76row43_col1\" class=\"data row43 col1\" >False</td>\n",
       "            </tr>\n",
       "            <tr>\n",
       "                        <th id=\"T_9388c4a0_4e9a_11eb_9d14_acd564d56f76level0_row44\" class=\"row_heading level0 row44\" >44</th>\n",
       "                        <td id=\"T_9388c4a0_4e9a_11eb_9d14_acd564d56f76row44_col0\" class=\"data row44 col0\" >Features Selection Threshold</td>\n",
       "                        <td id=\"T_9388c4a0_4e9a_11eb_9d14_acd564d56f76row44_col1\" class=\"data row44 col1\" >None</td>\n",
       "            </tr>\n",
       "            <tr>\n",
       "                        <th id=\"T_9388c4a0_4e9a_11eb_9d14_acd564d56f76level0_row45\" class=\"row_heading level0 row45\" >45</th>\n",
       "                        <td id=\"T_9388c4a0_4e9a_11eb_9d14_acd564d56f76row45_col0\" class=\"data row45 col0\" >Feature Interaction</td>\n",
       "                        <td id=\"T_9388c4a0_4e9a_11eb_9d14_acd564d56f76row45_col1\" class=\"data row45 col1\" >False</td>\n",
       "            </tr>\n",
       "            <tr>\n",
       "                        <th id=\"T_9388c4a0_4e9a_11eb_9d14_acd564d56f76level0_row46\" class=\"row_heading level0 row46\" >46</th>\n",
       "                        <td id=\"T_9388c4a0_4e9a_11eb_9d14_acd564d56f76row46_col0\" class=\"data row46 col0\" >Feature Ratio</td>\n",
       "                        <td id=\"T_9388c4a0_4e9a_11eb_9d14_acd564d56f76row46_col1\" class=\"data row46 col1\" >False</td>\n",
       "            </tr>\n",
       "            <tr>\n",
       "                        <th id=\"T_9388c4a0_4e9a_11eb_9d14_acd564d56f76level0_row47\" class=\"row_heading level0 row47\" >47</th>\n",
       "                        <td id=\"T_9388c4a0_4e9a_11eb_9d14_acd564d56f76row47_col0\" class=\"data row47 col0\" >Interaction Threshold</td>\n",
       "                        <td id=\"T_9388c4a0_4e9a_11eb_9d14_acd564d56f76row47_col1\" class=\"data row47 col1\" >None</td>\n",
       "            </tr>\n",
       "    </tbody></table>"
      ],
      "text/plain": [
       "<pandas.io.formats.style.Styler at 0x19d61ce2a30>"
      ]
     },
     "metadata": {},
     "output_type": "display_data"
    }
   ],
   "source": [
    "cls = pc.setup(df, ignore_features = ['country', 'name'])"
   ]
  },
  {
   "cell_type": "code",
   "execution_count": 14,
   "metadata": {},
   "outputs": [
    {
     "data": {
      "text/html": [
       "<div>\n",
       "<style scoped>\n",
       "    .dataframe tbody tr th:only-of-type {\n",
       "        vertical-align: middle;\n",
       "    }\n",
       "\n",
       "    .dataframe tbody tr th {\n",
       "        vertical-align: top;\n",
       "    }\n",
       "\n",
       "    .dataframe thead th {\n",
       "        text-align: right;\n",
       "    }\n",
       "</style>\n",
       "<table border=\"1\" class=\"dataframe\">\n",
       "  <thead>\n",
       "    <tr style=\"text-align: right;\">\n",
       "      <th></th>\n",
       "      <th>Silhouette</th>\n",
       "      <th>Calinski-Harabasz</th>\n",
       "      <th>Davies-Bouldin</th>\n",
       "      <th>Homogeneity</th>\n",
       "      <th>Rand Index</th>\n",
       "      <th>Completeness</th>\n",
       "    </tr>\n",
       "  </thead>\n",
       "  <tbody>\n",
       "    <tr>\n",
       "      <th>0</th>\n",
       "      <td>0.4689</td>\n",
       "      <td>420.3668</td>\n",
       "      <td>0.6592</td>\n",
       "      <td>0</td>\n",
       "      <td>0</td>\n",
       "      <td>0</td>\n",
       "    </tr>\n",
       "  </tbody>\n",
       "</table>\n",
       "</div>"
      ],
      "text/plain": [
       "   Silhouette  Calinski-Harabasz  Davies-Bouldin  Homogeneity  Rand Index  \\\n",
       "0      0.4689           420.3668          0.6592            0           0   \n",
       "\n",
       "   Completeness  \n",
       "0             0  "
      ]
     },
     "metadata": {},
     "output_type": "display_data"
    }
   ],
   "source": [
    "# K means clustering model\n",
    "km = pc.create_model('kmeans', num_clusters = 7)"
   ]
  },
  {
   "cell_type": "code",
   "execution_count": 17,
   "metadata": {},
   "outputs": [
    {
     "data": {
      "image/png": "[encoded data removed]",
      "text/plain": [
       "<Figure size 576x396 with 1 Axes>"
      ]
     },
     "metadata": {},
     "output_type": "display_data"
    }
   ],
   "source": [
    "# Finding appropriate Cluster number\n",
    "pc.plot_model(km, plot = 'silhouette')"
   ]
  },
  {
   "cell_type": "code",
   "execution_count": 18,
   "metadata": {},
   "outputs": [
    {
     "data": {
      "application/vnd.plotly.v1+json": {
       "config": {
        "plotlyServerURL": "https://plot.ly"
       },
       "data": [
        {
         "customdata": [
          [
           "ZW"
          ],
          [
           "MZ"
          ],
          [
           null
          ],
          [
           "BV"
          ],
          [
           "BW"
          ],
          [
           "TF"
          ],
          [
           "CD"
          ],
          [
           "CF"
          ],
          [
           "CG"
          ],
          [
           "SZ"
          ],
          [
           "GA"
          ],
          [
           "CM"
          ],
          [
           "ST"
          ],
          [
           "RE"
          ],
          [
           "RW"
          ],
          [
           "SC"
          ],
          [
           "ZM"
          ],
          [
           "SH"
          ],
          [
           "BI"
          ],
          [
           "TZ"
          ],
          [
           "GQ"
          ],
          [
           "MG"
          ],
          [
           "MW"
          ],
          [
           "ZA"
          ],
          [
           "YT"
          ],
          [
           "AQ"
          ],
          [
           "MU"
          ],
          [
           "KM"
          ],
          [
           "AO"
          ],
          [
           "HM"
          ],
          [
           "UG"
          ],
          [
           "LS"
          ],
          [
           "KE"
          ]
         ],
         "hovertemplate": "Cluster=Cluster 0<br>PCA1=%{x}<br>PCA2=%{y}<br>Feature=%{customdata[0]}<extra></extra>",
         "legendgroup": "Cluster 0",
         "marker": {
          "color": "#636efa",
          "opacity": 0.5,
          "symbol": "circle"
         },
         "mode": "markers",
         "name": "Cluster 0",
         "orientation": "v",
         "showlegend": true,
         "textposition": "top center",
         "type": "scatter",
         "x": [
          -15.083916664123535,
          -21.46475601196289,
          -4.335699081420898,
          11.426941871643066,
          -10.542448997497559,
          -54.605228424072266,
          -8.017470359802246,
          -7.431653022766113,
          -2.171327829360962,
          -17.229982376098633,
          2.058481216430664,
          1.1343977451324463,
          7.0319647789001465,
          -41.413143157958984,
          -16.176692962646484,
          -41.72865295410156,
          -13.907502174377441,
          24.204532623291016,
          -16.190305709838867,
          -21.09343910217285,
          3.345958948135376,
          -32.79935836791992,
          -20.355506896972656,
          -8.615262031555176,
          -31.226966857910156,
          15.366783142089844,
          -43.44520950317383,
          -29.9541072845459,
          -3.9767379760742188,
          -58.67658233642578,
          -18.665061950683594,
          -13.930887222290039,
          -24.249042510986328
         ],
         "xaxis": "x",
         "y": [
          35.60739517211914,
          35.3973274230957,
          39.31511688232422,
          70.44296264648438,
          38.82175064086914,
          66.7452392578125,
          20.4719181060791,
          9.807088851928711,
          16.532642364501953,
          43.163265228271484,
          17.015796661376953,
          8.860669136047363,
          15.91657543182373,
          38.2843017578125,
          18.55207633972168,
          21.851709365844727,
          29.698671340942383,
          39.87610626220703,
          19.985496520996094,
          23.089582443237305,
          14.53252124786377,
          35.74687957763672,
          29.960350036621094,
          47.012516021728516,
          29.771562576293945,
          91.18943786621094,
          37.5618896484375,
          28.790958404541016,
          27.549489974975586,
          70.63676452636719,
          15.292174339294434,
          46.17923355102539,
          16.81171226501465
         ],
         "yaxis": "y"
        },
        {
         "customdata": [
          [
           "PM"
          ],
          [
           "PY"
          ],
          [
           "FK"
          ],
          [
           "LC"
          ],
          [
           "KN"
          ],
          [
           "PR"
          ],
          [
           "PE"
          ],
          [
           "MX"
          ],
          [
           "MQ"
          ],
          [
           "GD"
          ],
          [
           "PA"
          ],
          [
           "GF"
          ],
          [
           "HT"
          ],
          [
           "MS"
          ],
          [
           "HN"
          ],
          [
           "NI"
          ],
          [
           "GP"
          ],
          [
           "DO"
          ],
          [
           "GS"
          ],
          [
           "GT"
          ],
          [
           "GY"
          ],
          [
           "JM"
          ],
          [
           "DM"
          ],
          [
           "EC"
          ],
          [
           "KY"
          ],
          [
           "VE"
          ],
          [
           "UY"
          ],
          [
           "BB"
          ],
          [
           "US"
          ],
          [
           "VG"
          ],
          [
           "TT"
          ],
          [
           "BM"
          ],
          [
           "BO"
          ],
          [
           "BR"
          ],
          [
           "BS"
          ],
          [
           "AW"
          ],
          [
           "CA"
          ],
          [
           "TC"
          ],
          [
           "SV"
          ],
          [
           "BZ"
          ],
          [
           "CL"
          ],
          [
           "AG"
          ],
          [
           "AI"
          ],
          [
           "VI"
          ],
          [
           "AN"
          ],
          [
           "AR"
          ],
          [
           "CU"
          ],
          [
           "SR"
          ],
          [
           "CR"
          ],
          [
           "CO"
          ],
          [
           "VC"
          ]
         ],
         "hovertemplate": "Cluster=Cluster 1<br>PCA1=%{x}<br>PCA2=%{y}<br>Feature=%{customdata[0]}<extra></extra>",
         "legendgroup": "Cluster 1",
         "marker": {
          "color": "#EF553B",
          "opacity": 0.5,
          "symbol": "circle"
         },
         "mode": "markers",
         "name": "Cluster 1",
         "orientation": "v",
         "showlegend": true,
         "textposition": "top center",
         "type": "scatter",
         "x": [
          68.87720489501953,
          72.59070587158203,
          74.29113006591797,
          74.30721282958984,
          76.0353775024414,
          79.8227310180664,
          88.845947265625,
          115.65817260742188,
          74.33645629882812,
          74.9684066772461,
          94.22334289550781,
          66.67443084716797,
          85.49998474121094,
          75.45336151123047,
          99.5359115600586,
          98.5526123046875,
          75.32811737060547,
          83.3830795288086,
          51.41858673095703,
          103.51103210449219,
          72.45714569091797,
          90.52993774414062,
          74.66622924804688,
          91.852294921875,
          93.76786041259766,
          80.08062744140625,
          70.11219024658203,
          72.88754272460938,
          108.52526092529297,
          77.86863708496094,
          74.62122344970703,
          77.68161010742188,
          77.57767486572266,
          65.87208557128906,
          90.47704315185547,
          83.32490539550781,
          118.7396469116211,
          84.95318603515625,
          102.22068786621094,
          101.7475357055664,
          85.95458221435547,
          75.0555419921875,
          76.30203247070312,
          78.12679290771484,
          82.42332458496094,
          78.09020233154297,
          90.93876647949219,
          69.57605743408203,
          97.16741180419922,
          87.82696533203125,
          74.63572692871094
         ],
         "xaxis": "x",
         "y": [
          -32.20484161376953,
          38.11513137817383,
          66.43843078613281,
          0.7166332006454468,
          -2.7704248428344727,
          -3.7165989875793457,
          23.503135681152344,
          -9.916489601135254,
          -0.016266973689198494,
          2.349212884902954,
          5.6531500816345215,
          10.861763954162598,
          -4.591485977172852,
          -2.142204999923706,
          -1.1268298625946045,
          1.2298505306243896,
          -2.392995834350586,
          -4.309566974639893,
          69.5733871459961,
          -1.797511339187622,
          9.808353424072266,
          -3.83984637260437,
          -0.7971466183662415,
          16.07678985595703,
          -5.314993858337402,
          8.077664375305176,
          47.25187301635742,
          1.463457703590393,
          -23.21921730041504,
          -3.873706340789795,
          3.9281675815582275,
          -17.77363395690918,
          30.851839065551758,
          29.052587509155273,
          -10.765048027038574,
          1.907780408859253,
          -42.487640380859375,
          -7.302999496459961,
          0.22051513195037842,
          -3.1656272411346436,
          50.05799102783203,
          -2.451885223388672,
          -3.639204263687134,
          -3.794412612915039,
          2.2226297855377197,
          52.97185134887695,
          -7.2617950439453125,
          10.812796592712402,
          4.377438068389893,
          9.761317253112793,
          1.6347978115081787
         ],
         "yaxis": "y"
        },
        {
         "customdata": [
          [
           "MD"
          ],
          [
           "LT"
          ],
          [
           "MA"
          ],
          [
           "LY"
          ],
          [
           "ME"
          ],
          [
           "LV"
          ],
          [
           "LR"
          ],
          [
           "MK"
          ],
          [
           "LI"
          ],
          [
           "XK"
          ],
          [
           "ML"
          ],
          [
           "LU"
          ],
          [
           "MC"
          ],
          [
           "SJ"
          ],
          [
           "VA"
          ],
          [
           "SK"
          ],
          [
           "SL"
          ],
          [
           "SE"
          ],
          [
           "SM"
          ],
          [
           "SN"
          ],
          [
           "RS"
          ],
          [
           "RO"
          ],
          [
           "PT"
          ],
          [
           "PL"
          ],
          [
           "TD"
          ],
          [
           "NO"
          ],
          [
           "NL"
          ],
          [
           "TG"
          ],
          [
           "NG"
          ],
          [
           "NE"
          ],
          [
           "TN"
          ],
          [
           "SI"
          ],
          [
           "UM"
          ],
          [
           "MT"
          ],
          [
           "MR"
          ],
          [
           "UA"
          ],
          [
           "AD"
          ],
          [
           "FI"
          ],
          [
           "HU"
          ],
          [
           "HR"
          ],
          [
           "CZ"
          ],
          [
           "DE"
          ],
          [
           "GW"
          ],
          [
           "DK"
          ],
          [
           "DZ"
          ],
          [
           "GR"
          ],
          [
           "GN"
          ],
          [
           "GM"
          ],
          [
           "EE"
          ],
          [
           "GL"
          ],
          [
           "GI"
          ],
          [
           "GH"
          ],
          [
           "GG"
          ],
          [
           "EH"
          ],
          [
           "ES"
          ],
          [
           "FO"
          ],
          [
           "FR"
          ],
          [
           "GB"
          ],
          [
           "CI"
          ],
          [
           "CV"
          ],
          [
           "BA"
          ],
          [
           "BG"
          ],
          [
           "JE"
          ],
          [
           "CH"
          ],
          [
           "IT"
          ],
          [
           "IS"
          ],
          [
           "BJ"
          ],
          [
           "BF"
          ],
          [
           "BE"
          ],
          [
           "AT"
          ],
          [
           "IM"
          ],
          [
           "BY"
          ],
          [
           "IE"
          ],
          [
           "AL"
          ]
         ],
         "hovertemplate": "Cluster=Cluster 2<br>PCA1=%{x}<br>PCA2=%{y}<br>Feature=%{customdata[0]}<extra></extra>",
         "legendgroup": "Cluster 2",
         "marker": {
          "color": "#00cc96",
          "opacity": 0.5,
          "symbol": "circle"
         },
         "mode": "markers",
         "name": "Cluster 2",
         "orientation": "v",
         "showlegend": true,
         "textposition": "top center",
         "type": "scatter",
         "x": [
          -15.753772735595703,
          -11.436123847961426,
          20.042272567749023,
          -4.153351783752441,
          -6.657449722290039,
          -12.19531536102295,
          22.93401527404785,
          -9.003678321838379,
          3.061603546142578,
          -8.183347702026367,
          17.257980346679688,
          6.428559303283691,
          5.278420448303223,
          -11.715348243713379,
          0.27953580021858215,
          -7.112527847290039,
          25.239334106445312,
          -6.308193683624268,
          0.23048894107341766,
          27.77897071838379,
          -8.317167282104492,
          -12.319308280944824,
          21.007230758666992,
          -6.629951477050781,
          -5.41859245300293,
          3.856391191482544,
          7.215928077697754,
          12.63420295715332,
          4.7754645347595215,
          5.182232856750488,
          3.37026309967041,
          -2.3549599647521973,
          0,
          -1.5113972425460815,
          24.125717163085938,
          -18.56999397277832,
          11.114690780639648,
          -13.450469017028809,
          -6.88386344909668,
          -2.5364267826080322,
          -2.9126291275024414,
          2.078080177307129,
          28.565832138061523,
          2.9159493446350098,
          11.374417304992676,
          -9.027195930480957,
          23.124069213867188,
          28.659626007080078,
          -12.643203735351562,
          54.67136764526367,
          18.20027732849121,
          14.496474266052246,
          15.148985862731934,
          26.0000057220459,
          16.509777069091797,
          19.20234489440918,
          10.422017097473145,
          15.870003700256348,
          19.02817726135254,
          37.3045654296875,
          -4.988977432250977,
          -12.767975807189941,
          14.700566291809082,
          4.396762371063232,
          0.16625067591667175,
          31.241233825683594,
          11.128438949584961,
          14.940760612487793,
          8.072728157043457,
          -1.9395662546157837,
          17.0068302154541,
          -15.475296974182129,
          20.719804763793945,
          -7.417140483856201
         ],
         "xaxis": "x",
         "y": [
          -30.8209285736084,
          -38.675167083740234,
          -15.981314659118652,
          -9.99343490600586,
          -26.316091537475586,
          -40.369144439697266,
          9.3250732421875,
          -25.164390563964844,
          -30.98736572265625,
          -26.176597595214844,
          -1.6959103345870972,
          -33.71101760864258,
          -27.61939811706543,
          -61.0585823059082,
          -25.662080764770508,
          -32.26789855957031,
          7.24159049987793,
          -43.747398376464844,
          -27.700939178466797,
          1.147670030593872,
          -27.587888717651367,
          -29.427335739135742,
          -23.612445831298828,
          -35.5296630859375,
          0.9178206324577332,
          -44.31398391723633,
          -36.046180725097656,
          7.35866117477417,
          7.0682291984558105,
          -1.4685133695602417,
          -17.711856842041016,
          -29.853721618652344,
          0,
          -19.656002044677734,
          -5.284361362457275,
          -31.727279663085938,
          -26.542884826660156,
          -45.38733673095703,
          -30.766016006469727,
          -28.798250198364258,
          -33.508636474609375,
          -34.96647262573242,
          3.824732542037964,
          -40.08427429199219,
          -12.03274154663086,
          -22.628841400146484,
          5.802534103393555,
          2.1828525066375732,
          -42.075382232666016,
          -56.66462326049805,
          -20.28805160522461,
          7.991048336029053,
          -33.55236053466797,
          -8.533820152282715,
          -24.57798957824707,
          -46.07107162475586,
          -30.20999526977539,
          -39.48193359375,
          8.298423767089844,
          -0.5660170316696167,
          -27.560129165649414,
          -26.20745849609375,
          -33.291229248046875,
          -30.66871452331543,
          -25.62861442565918,
          -49.405914306640625,
          6.70333194732666,
          3.6884827613830566,
          -34.435813903808594,
          -31.22813606262207,
          -38.36461639404297,
          -37.126712799072266,
          -37.62255096435547,
          -24.743732452392578
         ],
         "yaxis": "y"
        },
        {
         "customdata": [
          [
           "PW"
          ],
          [
           "VN"
          ],
          [
           "BD"
          ],
          [
           "RU"
          ],
          [
           "CC"
          ],
          [
           "SG"
          ],
          [
           "BN"
          ],
          [
           "TL"
          ],
          [
           "TH"
          ],
          [
           "CX"
          ],
          [
           "BT"
          ],
          [
           "CN"
          ],
          [
           "TW"
          ],
          [
           "PH"
          ],
          [
           "KR"
          ],
          [
           "MN"
          ],
          [
           "ID"
          ],
          [
           "NP"
          ],
          [
           "MO"
          ],
          [
           "MM"
          ],
          [
           "IN"
          ],
          [
           "HK"
          ],
          [
           "LK"
          ],
          [
           "JP"
          ],
          [
           "LA"
          ],
          [
           "KP"
          ],
          [
           "KH"
          ],
          [
           "MY"
          ]
         ],
         "hovertemplate": "Cluster=Cluster 3<br>PCA1=%{x}<br>PCA2=%{y}<br>Feature=%{customdata[0]}<extra></extra>",
         "legendgroup": "Cluster 3",
         "marker": {
          "color": "#ab63fa",
          "opacity": 0.5,
          "symbol": "circle"
         },
         "mode": "markers",
         "name": "Cluster 3",
         "orientation": "v",
         "showlegend": true,
         "textposition": "top center",
         "type": "scatter",
         "x": [
          -121.0672607421875,
          -94.91153717041016,
          -77.2057876586914,
          -92.99323272705078,
          -82.93379974365234,
          -90.17700958251953,
          -101.15191650390625,
          -111.85552215576172,
          -87.66830444335938,
          -91.78878021240234,
          -77.36688995361328,
          -91.30817413330078,
          -107.80290222167969,
          -108.37931060791016,
          -114.87505340576172,
          -91.20040893554688,
          -100.22918701171875,
          -71.07809448242188,
          -100.35521697998047,
          -82.76554107666016,
          -65.74737548828125,
          -100.92501831054688,
          -67.27729034423828,
          -125.36505889892578,
          -89.25819396972656,
          -114.71534729003906,
          -91.5934066772461,
          -88.39596557617188
         ],
         "xaxis": "x",
         "y": [
          11.392029762268066,
          4.2742133140563965,
          -5.742583274841309,
          -43.244869232177734,
          30.240636825561523,
          16.879796981811523,
          13.936230659484863,
          27.583385467529297,
          2.303417921066284,
          28.717540740966797,
          -9.569141387939453,
          -17.6132755279541,
          -5.0852155685424805,
          5.748091220855713,
          -17.143186569213867,
          -28.619112014770508,
          19.241846084594727,
          -10.58779525756836,
          -3.7489237785339355,
          -3.8493521213531494,
          -2.9015119075775146,
          -3.9341719150543213,
          9.855677604675293,
          -17.210554122924805,
          -1.6489511728286743,
          -21.5798397064209,
          5.694538116455078,
          13.981700897216797
         ],
         "yaxis": "y"
        },
        {
         "customdata": [
          [
           "KI"
          ],
          [
           "TO"
          ],
          [
           "TK"
          ],
          [
           "AS"
          ],
          [
           "WF"
          ],
          [
           "WS"
          ],
          [
           "CK"
          ],
          [
           "PF"
          ],
          [
           "NU"
          ],
          [
           "PN"
          ]
         ],
         "hovertemplate": "Cluster=Cluster 4<br>PCA1=%{x}<br>PCA2=%{y}<br>Feature=%{customdata[0]}<extra></extra>",
         "legendgroup": "Cluster 4",
         "marker": {
          "color": "#FFA15A",
          "opacity": 0.5,
          "symbol": "circle"
         },
         "mode": "markers",
         "name": "Cluster 4",
         "orientation": "v",
         "showlegend": true,
         "textposition": "top center",
         "type": "scatter",
         "x": [
          182.41493225097656,
          189.26756286621094,
          185.65858459472656,
          184.05148315429688,
          191.06265258789062,
          186.01219177246094,
          173.8519287109375,
          163.40573120117188,
          183.8913116455078,
          141.59722900390625
         ],
         "xaxis": "x",
         "y": [
          15.632691383361816,
          33.295433044433594,
          21.15993309020996,
          26.50001335144043,
          25.844104766845703,
          25.94499969482422,
          33.69085693359375,
          30.361820220947266,
          31.288143157958984,
          37.86506271362305
         ],
         "yaxis": "y"
        },
        {
         "customdata": [
          [
           "NC"
          ],
          [
           "NF"
          ],
          [
           "NZ"
          ],
          [
           "FJ"
          ],
          [
           "AU"
          ],
          [
           "MH"
          ],
          [
           "FM"
          ],
          [
           "TV"
          ],
          [
           "NR"
          ],
          [
           "PG"
          ],
          [
           "SB"
          ],
          [
           "VU"
          ],
          [
           "GU"
          ],
          [
           "MP"
          ]
         ],
         "hovertemplate": "Cluster=Cluster 5<br>PCA1=%{x}<br>PCA2=%{y}<br>Feature=%{customdata[0]}<extra></extra>",
         "legendgroup": "Cluster 5",
         "marker": {
          "color": "#19d3f3",
          "opacity": 0.5,
          "symbol": "circle"
         },
         "mode": "markers",
         "name": "Cluster 5",
         "orientation": "v",
         "showlegend": true,
         "textposition": "top center",
         "type": "scatter",
         "x": [
          -151.47300720214844,
          -153.6309356689453,
          -160.3008270263672,
          -165.36080932617188,
          -119.54203033447266,
          -157.6520538330078,
          -137.02976989746094,
          -163.80349731445312,
          -153.2324676513672,
          -130.13519287109375,
          -146.25900268554688,
          -152.93484497070312,
          -131.40586853027344,
          -132.08180236816406
         ],
         "xaxis": "x",
         "y": [
          40.48412322998047,
          48.66987228393555,
          60.678531646728516,
          36.46116638183594,
          44.155860900878906,
          12.576966285705566,
          11.8311128616333,
          26.956127166748047,
          20.136247634887695,
          25.42393684387207,
          29.108625411987305,
          34.987220764160156,
          5.687736511230469,
          1.8150848150253296
         ],
         "yaxis": "y"
        },
        {
         "customdata": [
          [
           "AM"
          ],
          [
           "KG"
          ],
          [
           "AE"
          ],
          [
           "AF"
          ],
          [
           "PS"
          ],
          [
           "AZ"
          ],
          [
           "YE"
          ],
          [
           "PK"
          ],
          [
           "GE"
          ],
          [
           "LB"
          ],
          [
           "OM"
          ],
          [
           "UZ"
          ],
          [
           "KW"
          ],
          [
           "TR"
          ],
          [
           "JO"
          ],
          [
           "SD"
          ],
          [
           "DJ"
          ],
          [
           "MV"
          ],
          [
           "GZ"
          ],
          [
           "CY"
          ],
          [
           "EG"
          ],
          [
           "SO"
          ],
          [
           "SA"
          ],
          [
           "BH"
          ],
          [
           "SY"
          ],
          [
           "IL"
          ],
          [
           "TJ"
          ],
          [
           "ET"
          ],
          [
           "IO"
          ],
          [
           "TM"
          ],
          [
           "IQ"
          ],
          [
           "QA"
          ],
          [
           "IR"
          ],
          [
           "ER"
          ],
          [
           "KZ"
          ]
         ],
         "hovertemplate": "Cluster=Cluster 6<br>PCA1=%{x}<br>PCA2=%{y}<br>Feature=%{customdata[0]}<extra></extra>",
         "legendgroup": "Cluster 6",
         "marker": {
          "color": "#FF6692",
          "opacity": 0.5,
          "symbol": "circle"
         },
         "mode": "markers",
         "name": "Cluster 6",
         "orientation": "v",
         "showlegend": true,
         "textposition": "top center",
         "type": "scatter",
         "x": [
          -32.25728988647461,
          -62.002925872802734,
          -40.700252532958984,
          -54.78938293457031,
          -22.276859283447266,
          -34.79703903198242,
          -35.19778823852539,
          -56.346107482910156,
          -30.62558937072754,
          -22.94750213623047,
          -42.73339080810547,
          -51.82832336425781,
          -34.46471405029297,
          -22.440567016601562,
          -23.25194549560547,
          -16.844520568847656,
          -29.19146728515625,
          -59.62571334838867,
          -21.33966827392578,
          -20.543508529663086,
          -17.734891891479492,
          -32.65381622314453,
          -31.943870544433594,
          -37.54591751098633,
          -26.102025985717773,
          -21.875568389892578,
          -58.462440490722656,
          -27.032682418823242,
          -58.07282638549805,
          -46.74781799316406,
          -30.748804092407227,
          -38.07929611206055,
          -40.73774719238281,
          -26.457653045654297,
          -54.31163787841797
         ],
         "xaxis": "x",
         "y": [
          -23.115150451660156,
          -23.599166870117188,
          -6.281205177307129,
          -16.49015998840332,
          -15.214875221252441,
          -23.133543014526367,
          1.4715076684951782,
          -12.8914155960083,
          -25.397737503051758,
          -17.103199005126953,
          -4.324720859527588,
          -23.99517822265625,
          -12.306782722473145,
          -22.224552154541016,
          -13.826189041137695,
          3.7600698471069336,
          5.068429946899414,
          14.359476089477539,
          -14.637770652770996,
          -18.4278507232666,
          -10.181519508361816,
          11.818856239318848,
          -6.934978008270264,
          -8.857234001159668,
          -17.981685638427734,
          -14.317336082458496,
          -21.332809448242188,
          7.701925277709961,
          23.873722076416016,
          -21.698110580444336,
          -16.300643920898438,
          -8.269826889038086,
          -15.286377906799316,
          1.6534994840621948,
          -30.584461212158203
         ],
         "yaxis": "y"
        }
       ],
       "layout": {
        "height": 600,
        "legend": {
         "title": {
          "text": "Cluster"
         },
         "tracegroupgap": 0
        },
        "margin": {
         "t": 60
        },
        "plot_bgcolor": "rgb(240,240,240)",
        "template": {
         "data": {
          "bar": [
           {
            "error_x": {
             "color": "#2a3f5f"
            },
            "error_y": {
             "color": "#2a3f5f"
            },
            "marker": {
             "line": {
              "color": "#E5ECF6",
              "width": 0.5
             }
            },
            "type": "bar"
           }
          ],
          "barpolar": [
           {
            "marker": {
             "line": {
              "color": "#E5ECF6",
              "width": 0.5
             }
            },
            "type": "barpolar"
           }
          ],
          "carpet": [
           {
            "aaxis": {
             "endlinecolor": "#2a3f5f",
             "gridcolor": "white",
             "linecolor": "white",
             "minorgridcolor": "white",
             "startlinecolor": "#2a3f5f"
            },
            "baxis": {
             "endlinecolor": "#2a3f5f",
             "gridcolor": "white",
             "linecolor": "white",
             "minorgridcolor": "white",
             "startlinecolor": "#2a3f5f"
            },
            "type": "carpet"
           }
          ],
          "choropleth": [
           {
            "colorbar": {
             "outlinewidth": 0,
             "ticks": ""
            },
            "type": "choropleth"
           }
          ],
          "contour": [
           {
            "colorbar": {
             "outlinewidth": 0,
             "ticks": ""
            },
            "colorscale": [
             [
              0,
              "#0d0887"
             ],
             [
              0.1111111111111111,
              "#46039f"
             ],
             [
              0.2222222222222222,
              "#7201a8"
             ],
             [
              0.3333333333333333,
              "#9c179e"
             ],
             [
              0.4444444444444444,
              "#bd3786"
             ],
             [
              0.5555555555555556,
              "#d8576b"
             ],
             [
              0.6666666666666666,
              "#ed7953"
             ],
             [
              0.7777777777777778,
              "#fb9f3a"
             ],
             [
              0.8888888888888888,
              "#fdca26"
             ],
             [
              1,
              "#f0f921"
             ]
            ],
            "type": "contour"
           }
          ],
          "contourcarpet": [
           {
            "colorbar": {
             "outlinewidth": 0,
             "ticks": ""
            },
            "type": "contourcarpet"
           }
          ],
          "heatmap": [
           {
            "colorbar": {
             "outlinewidth": 0,
             "ticks": ""
            },
            "colorscale": [
             [
              0,
              "#0d0887"
             ],
             [
              0.1111111111111111,
              "#46039f"
             ],
             [
              0.2222222222222222,
              "#7201a8"
             ],
             [
              0.3333333333333333,
              "#9c179e"
             ],
             [
              0.4444444444444444,
              "#bd3786"
             ],
             [
              0.5555555555555556,
              "#d8576b"
             ],
             [
              0.6666666666666666,
              "#ed7953"
             ],
             [
              0.7777777777777778,
              "#fb9f3a"
             ],
             [
              0.8888888888888888,
              "#fdca26"
             ],
             [
              1,
              "#f0f921"
             ]
            ],
            "type": "heatmap"
           }
          ],
          "heatmapgl": [
           {
            "colorbar": {
             "outlinewidth": 0,
             "ticks": ""
            },
            "colorscale": [
             [
              0,
              "#0d0887"
             ],
             [
              0.1111111111111111,
              "#46039f"
             ],
             [
              0.2222222222222222,
              "#7201a8"
             ],
             [
              0.3333333333333333,
              "#9c179e"
             ],
             [
              0.4444444444444444,
              "#bd3786"
             ],
             [
              0.5555555555555556,
              "#d8576b"
             ],
             [
              0.6666666666666666,
              "#ed7953"
             ],
             [
              0.7777777777777778,
              "#fb9f3a"
             ],
             [
              0.8888888888888888,
              "#fdca26"
             ],
             [
              1,
              "#f0f921"
             ]
            ],
            "type": "heatmapgl"
           }
          ],
          "histogram": [
           {
            "marker": {
             "colorbar": {
              "outlinewidth": 0,
              "ticks": ""
             }
            },
            "type": "histogram"
           }
          ],
          "histogram2d": [
           {
            "colorbar": {
             "outlinewidth": 0,
             "ticks": ""
            },
            "colorscale": [
             [
              0,
              "#0d0887"
             ],
             [
              0.1111111111111111,
              "#46039f"
             ],
             [
              0.2222222222222222,
              "#7201a8"
             ],
             [
              0.3333333333333333,
              "#9c179e"
             ],
             [
              0.4444444444444444,
              "#bd3786"
             ],
             [
              0.5555555555555556,
              "#d8576b"
             ],
             [
              0.6666666666666666,
              "#ed7953"
             ],
             [
              0.7777777777777778,
              "#fb9f3a"
             ],
             [
              0.8888888888888888,
              "#fdca26"
             ],
             [
              1,
              "#f0f921"
             ]
            ],
            "type": "histogram2d"
           }
          ],
          "histogram2dcontour": [
           {
            "colorbar": {
             "outlinewidth": 0,
             "ticks": ""
            },
            "colorscale": [
             [
              0,
              "#0d0887"
             ],
             [
              0.1111111111111111,
              "#46039f"
             ],
             [
              0.2222222222222222,
              "#7201a8"
             ],
             [
              0.3333333333333333,
              "#9c179e"
             ],
             [
              0.4444444444444444,
              "#bd3786"
             ],
             [
              0.5555555555555556,
              "#d8576b"
             ],
             [
              0.6666666666666666,
              "#ed7953"
             ],
             [
              0.7777777777777778,
              "#fb9f3a"
             ],
             [
              0.8888888888888888,
              "#fdca26"
             ],
             [
              1,
              "#f0f921"
             ]
            ],
            "type": "histogram2dcontour"
           }
          ],
          "mesh3d": [
           {
            "colorbar": {
             "outlinewidth": 0,
             "ticks": ""
            },
            "type": "mesh3d"
           }
          ],
          "parcoords": [
           {
            "line": {
             "colorbar": {
              "outlinewidth": 0,
              "ticks": ""
             }
            },
            "type": "parcoords"
           }
          ],
          "pie": [
           {
            "automargin": true,
            "type": "pie"
           }
          ],
          "scatter": [
           {
            "marker": {
             "colorbar": {
              "outlinewidth": 0,
              "ticks": ""
             }
            },
            "type": "scatter"
           }
          ],
          "scatter3d": [
           {
            "line": {
             "colorbar": {
              "outlinewidth": 0,
              "ticks": ""
             }
            },
            "marker": {
             "colorbar": {
              "outlinewidth": 0,
              "ticks": ""
             }
            },
            "type": "scatter3d"
           }
          ],
          "scattercarpet": [
           {
            "marker": {
             "colorbar": {
              "outlinewidth": 0,
              "ticks": ""
             }
            },
            "type": "scattercarpet"
           }
          ],
          "scattergeo": [
           {
            "marker": {
             "colorbar": {
              "outlinewidth": 0,
              "ticks": ""
             }
            },
            "type": "scattergeo"
           }
          ],
          "scattergl": [
           {
            "marker": {
             "colorbar": {
              "outlinewidth": 0,
              "ticks": ""
             }
            },
            "type": "scattergl"
           }
          ],
          "scattermapbox": [
           {
            "marker": {
             "colorbar": {
              "outlinewidth": 0,
              "ticks": ""
             }
            },
            "type": "scattermapbox"
           }
          ],
          "scatterpolar": [
           {
            "marker": {
             "colorbar": {
              "outlinewidth": 0,
              "ticks": ""
             }
            },
            "type": "scatterpolar"
           }
          ],
          "scatterpolargl": [
           {
            "marker": {
             "colorbar": {
              "outlinewidth": 0,
              "ticks": ""
             }
            },
            "type": "scatterpolargl"
           }
          ],
          "scatterternary": [
           {
            "marker": {
             "colorbar": {
              "outlinewidth": 0,
              "ticks": ""
             }
            },
            "type": "scatterternary"
           }
          ],
          "surface": [
           {
            "colorbar": {
             "outlinewidth": 0,
             "ticks": ""
            },
            "colorscale": [
             [
              0,
              "#0d0887"
             ],
             [
              0.1111111111111111,
              "#46039f"
             ],
             [
              0.2222222222222222,
              "#7201a8"
             ],
             [
              0.3333333333333333,
              "#9c179e"
             ],
             [
              0.4444444444444444,
              "#bd3786"
             ],
             [
              0.5555555555555556,
              "#d8576b"
             ],
             [
              0.6666666666666666,
              "#ed7953"
             ],
             [
              0.7777777777777778,
              "#fb9f3a"
             ],
             [
              0.8888888888888888,
              "#fdca26"
             ],
             [
              1,
              "#f0f921"
             ]
            ],
            "type": "surface"
           }
          ],
          "table": [
           {
            "cells": {
             "fill": {
              "color": "#EBF0F8"
             },
             "line": {
              "color": "white"
             }
            },
            "header": {
             "fill": {
              "color": "#C8D4E3"
             },
             "line": {
              "color": "white"
             }
            },
            "type": "table"
           }
          ]
         },
         "layout": {
          "annotationdefaults": {
           "arrowcolor": "#2a3f5f",
           "arrowhead": 0,
           "arrowwidth": 1
          },
          "autotypenumbers": "strict",
          "coloraxis": {
           "colorbar": {
            "outlinewidth": 0,
            "ticks": ""
           }
          },
          "colorscale": {
           "diverging": [
            [
             0,
             "#8e0152"
            ],
            [
             0.1,
             "#c51b7d"
            ],
            [
             0.2,
             "#de77ae"
            ],
            [
             0.3,
             "#f1b6da"
            ],
            [
             0.4,
             "#fde0ef"
            ],
            [
             0.5,
             "#f7f7f7"
            ],
            [
             0.6,
             "#e6f5d0"
            ],
            [
             0.7,
             "#b8e186"
            ],
            [
             0.8,
             "#7fbc41"
            ],
            [
             0.9,
             "#4d9221"
            ],
            [
             1,
             "#276419"
            ]
           ],
           "sequential": [
            [
             0,
             "#0d0887"
            ],
            [
             0.1111111111111111,
             "#46039f"
            ],
            [
             0.2222222222222222,
             "#7201a8"
            ],
            [
             0.3333333333333333,
             "#9c179e"
            ],
            [
             0.4444444444444444,
             "#bd3786"
            ],
            [
             0.5555555555555556,
             "#d8576b"
            ],
            [
             0.6666666666666666,
             "#ed7953"
            ],
            [
             0.7777777777777778,
             "#fb9f3a"
            ],
            [
             0.8888888888888888,
             "#fdca26"
            ],
            [
             1,
             "#f0f921"
            ]
           ],
           "sequentialminus": [
            [
             0,
             "#0d0887"
            ],
            [
             0.1111111111111111,
             "#46039f"
            ],
            [
             0.2222222222222222,
             "#7201a8"
            ],
            [
             0.3333333333333333,
             "#9c179e"
            ],
            [
             0.4444444444444444,
             "#bd3786"
            ],
            [
             0.5555555555555556,
             "#d8576b"
            ],
            [
             0.6666666666666666,
             "#ed7953"
            ],
            [
             0.7777777777777778,
             "#fb9f3a"
            ],
            [
             0.8888888888888888,
             "#fdca26"
            ],
            [
             1,
             "#f0f921"
            ]
           ]
          },
          "colorway": [
           "#636efa",
           "#EF553B",
           "#00cc96",
           "#ab63fa",
           "#FFA15A",
           "#19d3f3",
           "#FF6692",
           "#B6E880",
           "#FF97FF",
           "#FECB52"
          ],
          "font": {
           "color": "#2a3f5f"
          },
          "geo": {
           "bgcolor": "white",
           "lakecolor": "white",
           "landcolor": "#E5ECF6",
           "showlakes": true,
           "showland": true,
           "subunitcolor": "white"
          },
          "hoverlabel": {
           "align": "left"
          },
          "hovermode": "closest",
          "mapbox": {
           "style": "light"
          },
          "paper_bgcolor": "white",
          "plot_bgcolor": "#E5ECF6",
          "polar": {
           "angularaxis": {
            "gridcolor": "white",
            "linecolor": "white",
            "ticks": ""
           },
           "bgcolor": "#E5ECF6",
           "radialaxis": {
            "gridcolor": "white",
            "linecolor": "white",
            "ticks": ""
           }
          },
          "scene": {
           "xaxis": {
            "backgroundcolor": "#E5ECF6",
            "gridcolor": "white",
            "gridwidth": 2,
            "linecolor": "white",
            "showbackground": true,
            "ticks": "",
            "zerolinecolor": "white"
           },
           "yaxis": {
            "backgroundcolor": "#E5ECF6",
            "gridcolor": "white",
            "gridwidth": 2,
            "linecolor": "white",
            "showbackground": true,
            "ticks": "",
            "zerolinecolor": "white"
           },
           "zaxis": {
            "backgroundcolor": "#E5ECF6",
            "gridcolor": "white",
            "gridwidth": 2,
            "linecolor": "white",
            "showbackground": true,
            "ticks": "",
            "zerolinecolor": "white"
           }
          },
          "shapedefaults": {
           "line": {
            "color": "#2a3f5f"
           }
          },
          "ternary": {
           "aaxis": {
            "gridcolor": "white",
            "linecolor": "white",
            "ticks": ""
           },
           "baxis": {
            "gridcolor": "white",
            "linecolor": "white",
            "ticks": ""
           },
           "bgcolor": "#E5ECF6",
           "caxis": {
            "gridcolor": "white",
            "linecolor": "white",
            "ticks": ""
           }
          },
          "title": {
           "x": 0.05
          },
          "xaxis": {
           "automargin": true,
           "gridcolor": "white",
           "linecolor": "white",
           "ticks": "",
           "title": {
            "standoff": 15
           },
           "zerolinecolor": "white",
           "zerolinewidth": 2
          },
          "yaxis": {
           "automargin": true,
           "gridcolor": "white",
           "linecolor": "white",
           "ticks": "",
           "title": {
            "standoff": 15
           },
           "zerolinecolor": "white",
           "zerolinewidth": 2
          }
         }
        },
        "title": {
         "text": "2D Cluster PCA Plot"
        },
        "xaxis": {
         "anchor": "y",
         "domain": [
          0,
          1
         ],
         "title": {
          "text": "PCA1"
         }
        },
        "yaxis": {
         "anchor": "x",
         "domain": [
          0,
          1
         ],
         "title": {
          "text": "PCA2"
         }
        }
       }
      },
      "text/html": [
       "<div>                            <div id=\"fe3ca052-d414-4b06-9cc9-9d02388a7651\" class=\"plotly-graph-div\" style=\"height:600px; width:100%;\"></div>            <script type=\"text/javascript\">                require([\"plotly\"], function(Plotly) {                    window.PLOTLYENV=window.PLOTLYENV || {};                                    if (document.getElementById(\"fe3ca052-d414-4b06-9cc9-9d02388a7651\")) {                    Plotly.newPlot(                        \"fe3ca052-d414-4b06-9cc9-9d02388a7651\",                        [{\"customdata\": [[\"ZW\"], [\"MZ\"], [null], [\"BV\"], [\"BW\"], [\"TF\"], [\"CD\"], [\"CF\"], [\"CG\"], [\"SZ\"], [\"GA\"], [\"CM\"], [\"ST\"], [\"RE\"], [\"RW\"], [\"SC\"], [\"ZM\"], [\"SH\"], [\"BI\"], [\"TZ\"], [\"GQ\"], [\"MG\"], [\"MW\"], [\"ZA\"], [\"YT\"], [\"AQ\"], [\"MU\"], [\"KM\"], [\"AO\"], [\"HM\"], [\"UG\"], [\"LS\"], [\"KE\"]], \"hovertemplate\": \"Cluster=Cluster 0<br>PCA1=%{x}<br>PCA2=%{y}<br>Feature=%{customdata[0]}<extra></extra>\", \"legendgroup\": \"Cluster 0\", \"marker\": {\"color\": \"#636efa\", \"opacity\": 0.5, \"symbol\": \"circle\"}, \"mode\": \"markers\", \"name\": \"Cluster 0\", \"orientation\": \"v\", \"showlegend\": true, \"textposition\": \"top center\", \"type\": \"scatter\", \"x\": [-15.083916664123535, -21.46475601196289, -4.335699081420898, 11.426941871643066, -10.542448997497559, -54.605228424072266, -8.017470359802246, -7.431653022766113, -2.171327829360962, -17.229982376098633, 2.058481216430664, 1.1343977451324463, 7.0319647789001465, -41.413143157958984, -16.176692962646484, -41.72865295410156, -13.907502174377441, 24.204532623291016, -16.190305709838867, -21.09343910217285, 3.345958948135376, -32.79935836791992, -20.355506896972656, -8.615262031555176, -31.226966857910156, 15.366783142089844, -43.44520950317383, -29.9541072845459, -3.9767379760742188, -58.67658233642578, -18.665061950683594, -13.930887222290039, -24.249042510986328], \"xaxis\": \"x\", \"y\": [35.60739517211914, 35.3973274230957, 39.31511688232422, 70.44296264648438, 38.82175064086914, 66.7452392578125, 20.4719181060791, 9.807088851928711, 16.532642364501953, 43.163265228271484, 17.015796661376953, 8.860669136047363, 15.91657543182373, 38.2843017578125, 18.55207633972168, 21.851709365844727, 29.698671340942383, 39.87610626220703, 19.985496520996094, 23.089582443237305, 14.53252124786377, 35.74687957763672, 29.960350036621094, 47.012516021728516, 29.771562576293945, 91.18943786621094, 37.5618896484375, 28.790958404541016, 27.549489974975586, 70.63676452636719, 15.292174339294434, 46.17923355102539, 16.81171226501465], \"yaxis\": \"y\"}, {\"customdata\": [[\"PM\"], [\"PY\"], [\"FK\"], [\"LC\"], [\"KN\"], [\"PR\"], [\"PE\"], [\"MX\"], [\"MQ\"], [\"GD\"], [\"PA\"], [\"GF\"], [\"HT\"], [\"MS\"], [\"HN\"], [\"NI\"], [\"GP\"], [\"DO\"], [\"GS\"], [\"GT\"], [\"GY\"], [\"JM\"], [\"DM\"], [\"EC\"], [\"KY\"], [\"VE\"], [\"UY\"], [\"BB\"], [\"US\"], [\"VG\"], [\"TT\"], [\"BM\"], [\"BO\"], [\"BR\"], [\"BS\"], [\"AW\"], [\"CA\"], [\"TC\"], [\"SV\"], [\"BZ\"], [\"CL\"], [\"AG\"], [\"AI\"], [\"VI\"], [\"AN\"], [\"AR\"], [\"CU\"], [\"SR\"], [\"CR\"], [\"CO\"], [\"VC\"]], \"hovertemplate\": \"Cluster=Cluster 1<br>PCA1=%{x}<br>PCA2=%{y}<br>Feature=%{customdata[0]}<extra></extra>\", \"legendgroup\": \"Cluster 1\", \"marker\": {\"color\": \"#EF553B\", \"opacity\": 0.5, \"symbol\": \"circle\"}, \"mode\": \"markers\", \"name\": \"Cluster 1\", \"orientation\": \"v\", \"showlegend\": true, \"textposition\": \"top center\", \"type\": \"scatter\", \"x\": [68.87720489501953, 72.59070587158203, 74.29113006591797, 74.30721282958984, 76.0353775024414, 79.8227310180664, 88.845947265625, 115.65817260742188, 74.33645629882812, 74.9684066772461, 94.22334289550781, 66.67443084716797, 85.49998474121094, 75.45336151123047, 99.5359115600586, 98.5526123046875, 75.32811737060547, 83.3830795288086, 51.41858673095703, 103.51103210449219, 72.45714569091797, 90.52993774414062, 74.66622924804688, 91.852294921875, 93.76786041259766, 80.08062744140625, 70.11219024658203, 72.88754272460938, 108.52526092529297, 77.86863708496094, 74.62122344970703, 77.68161010742188, 77.57767486572266, 65.87208557128906, 90.47704315185547, 83.32490539550781, 118.7396469116211, 84.95318603515625, 102.22068786621094, 101.7475357055664, 85.95458221435547, 75.0555419921875, 76.30203247070312, 78.12679290771484, 82.42332458496094, 78.09020233154297, 90.93876647949219, 69.57605743408203, 97.16741180419922, 87.82696533203125, 74.63572692871094], \"xaxis\": \"x\", \"y\": [-32.20484161376953, 38.11513137817383, 66.43843078613281, 0.7166332006454468, -2.7704248428344727, -3.7165989875793457, 23.503135681152344, -9.916489601135254, -0.016266973689198494, 2.349212884902954, 5.6531500816345215, 10.861763954162598, -4.591485977172852, -2.142204999923706, -1.1268298625946045, 1.2298505306243896, -2.392995834350586, -4.309566974639893, 69.5733871459961, -1.797511339187622, 9.808353424072266, -3.83984637260437, -0.7971466183662415, 16.07678985595703, -5.314993858337402, 8.077664375305176, 47.25187301635742, 1.463457703590393, -23.21921730041504, -3.873706340789795, 3.9281675815582275, -17.77363395690918, 30.851839065551758, 29.052587509155273, -10.765048027038574, 1.907780408859253, -42.487640380859375, -7.302999496459961, 0.22051513195037842, -3.1656272411346436, 50.05799102783203, -2.451885223388672, -3.639204263687134, -3.794412612915039, 2.2226297855377197, 52.97185134887695, -7.2617950439453125, 10.812796592712402, 4.377438068389893, 9.761317253112793, 1.6347978115081787], \"yaxis\": \"y\"}, {\"customdata\": [[\"MD\"], [\"LT\"], [\"MA\"], [\"LY\"], [\"ME\"], [\"LV\"], [\"LR\"], [\"MK\"], [\"LI\"], [\"XK\"], [\"ML\"], [\"LU\"], [\"MC\"], [\"SJ\"], [\"VA\"], [\"SK\"], [\"SL\"], [\"SE\"], [\"SM\"], [\"SN\"], [\"RS\"], [\"RO\"], [\"PT\"], [\"PL\"], [\"TD\"], [\"NO\"], [\"NL\"], [\"TG\"], [\"NG\"], [\"NE\"], [\"TN\"], [\"SI\"], [\"UM\"], [\"MT\"], [\"MR\"], [\"UA\"], [\"AD\"], [\"FI\"], [\"HU\"], [\"HR\"], [\"CZ\"], [\"DE\"], [\"GW\"], [\"DK\"], [\"DZ\"], [\"GR\"], [\"GN\"], [\"GM\"], [\"EE\"], [\"GL\"], [\"GI\"], [\"GH\"], [\"GG\"], [\"EH\"], [\"ES\"], [\"FO\"], [\"FR\"], [\"GB\"], [\"CI\"], [\"CV\"], [\"BA\"], [\"BG\"], [\"JE\"], [\"CH\"], [\"IT\"], [\"IS\"], [\"BJ\"], [\"BF\"], [\"BE\"], [\"AT\"], [\"IM\"], [\"BY\"], [\"IE\"], [\"AL\"]], \"hovertemplate\": \"Cluster=Cluster 2<br>PCA1=%{x}<br>PCA2=%{y}<br>Feature=%{customdata[0]}<extra></extra>\", \"legendgroup\": \"Cluster 2\", \"marker\": {\"color\": \"#00cc96\", \"opacity\": 0.5, \"symbol\": \"circle\"}, \"mode\": \"markers\", \"name\": \"Cluster 2\", \"orientation\": \"v\", \"showlegend\": true, \"textposition\": \"top center\", \"type\": \"scatter\", \"x\": [-15.753772735595703, -11.436123847961426, 20.042272567749023, -4.153351783752441, -6.657449722290039, -12.19531536102295, 22.93401527404785, -9.003678321838379, 3.061603546142578, -8.183347702026367, 17.257980346679688, 6.428559303283691, 5.278420448303223, -11.715348243713379, 0.27953580021858215, -7.112527847290039, 25.239334106445312, -6.308193683624268, 0.23048894107341766, 27.77897071838379, -8.317167282104492, -12.319308280944824, 21.007230758666992, -6.629951477050781, -5.41859245300293, 3.856391191482544, 7.215928077697754, 12.63420295715332, 4.7754645347595215, 5.182232856750488, 3.37026309967041, -2.3549599647521973, 0.0, -1.5113972425460815, 24.125717163085938, -18.56999397277832, 11.114690780639648, -13.450469017028809, -6.88386344909668, -2.5364267826080322, -2.9126291275024414, 2.078080177307129, 28.565832138061523, 2.9159493446350098, 11.374417304992676, -9.027195930480957, 23.124069213867188, 28.659626007080078, -12.643203735351562, 54.67136764526367, 18.20027732849121, 14.496474266052246, 15.148985862731934, 26.0000057220459, 16.509777069091797, 19.20234489440918, 10.422017097473145, 15.870003700256348, 19.02817726135254, 37.3045654296875, -4.988977432250977, -12.767975807189941, 14.700566291809082, 4.396762371063232, 0.16625067591667175, 31.241233825683594, 11.128438949584961, 14.940760612487793, 8.072728157043457, -1.9395662546157837, 17.0068302154541, -15.475296974182129, 20.719804763793945, -7.417140483856201], \"xaxis\": \"x\", \"y\": [-30.8209285736084, -38.675167083740234, -15.981314659118652, -9.99343490600586, -26.316091537475586, -40.369144439697266, 9.3250732421875, -25.164390563964844, -30.98736572265625, -26.176597595214844, -1.6959103345870972, -33.71101760864258, -27.61939811706543, -61.0585823059082, -25.662080764770508, -32.26789855957031, 7.24159049987793, -43.747398376464844, -27.700939178466797, 1.147670030593872, -27.587888717651367, -29.427335739135742, -23.612445831298828, -35.5296630859375, 0.9178206324577332, -44.31398391723633, -36.046180725097656, 7.35866117477417, 7.0682291984558105, -1.4685133695602417, -17.711856842041016, -29.853721618652344, -0.0, -19.656002044677734, -5.284361362457275, -31.727279663085938, -26.542884826660156, -45.38733673095703, -30.766016006469727, -28.798250198364258, -33.508636474609375, -34.96647262573242, 3.824732542037964, -40.08427429199219, -12.03274154663086, -22.628841400146484, 5.802534103393555, 2.1828525066375732, -42.075382232666016, -56.66462326049805, -20.28805160522461, 7.991048336029053, -33.55236053466797, -8.533820152282715, -24.57798957824707, -46.07107162475586, -30.20999526977539, -39.48193359375, 8.298423767089844, -0.5660170316696167, -27.560129165649414, -26.20745849609375, -33.291229248046875, -30.66871452331543, -25.62861442565918, -49.405914306640625, 6.70333194732666, 3.6884827613830566, -34.435813903808594, -31.22813606262207, -38.36461639404297, -37.126712799072266, -37.62255096435547, -24.743732452392578], \"yaxis\": \"y\"}, {\"customdata\": [[\"PW\"], [\"VN\"], [\"BD\"], [\"RU\"], [\"CC\"], [\"SG\"], [\"BN\"], [\"TL\"], [\"TH\"], [\"CX\"], [\"BT\"], [\"CN\"], [\"TW\"], [\"PH\"], [\"KR\"], [\"MN\"], [\"ID\"], [\"NP\"], [\"MO\"], [\"MM\"], [\"IN\"], [\"HK\"], [\"LK\"], [\"JP\"], [\"LA\"], [\"KP\"], [\"KH\"], [\"MY\"]], \"hovertemplate\": \"Cluster=Cluster 3<br>PCA1=%{x}<br>PCA2=%{y}<br>Feature=%{customdata[0]}<extra></extra>\", \"legendgroup\": \"Cluster 3\", \"marker\": {\"color\": \"#ab63fa\", \"opacity\": 0.5, \"symbol\": \"circle\"}, \"mode\": \"markers\", \"name\": \"Cluster 3\", \"orientation\": \"v\", \"showlegend\": true, \"textposition\": \"top center\", \"type\": \"scatter\", \"x\": [-121.0672607421875, -94.91153717041016, -77.2057876586914, -92.99323272705078, -82.93379974365234, -90.17700958251953, -101.15191650390625, -111.85552215576172, -87.66830444335938, -91.78878021240234, -77.36688995361328, -91.30817413330078, -107.80290222167969, -108.37931060791016, -114.87505340576172, -91.20040893554688, -100.22918701171875, -71.07809448242188, -100.35521697998047, -82.76554107666016, -65.74737548828125, -100.92501831054688, -67.27729034423828, -125.36505889892578, -89.25819396972656, -114.71534729003906, -91.5934066772461, -88.39596557617188], \"xaxis\": \"x\", \"y\": [11.392029762268066, 4.2742133140563965, -5.742583274841309, -43.244869232177734, 30.240636825561523, 16.879796981811523, 13.936230659484863, 27.583385467529297, 2.303417921066284, 28.717540740966797, -9.569141387939453, -17.6132755279541, -5.0852155685424805, 5.748091220855713, -17.143186569213867, -28.619112014770508, 19.241846084594727, -10.58779525756836, -3.7489237785339355, -3.8493521213531494, -2.9015119075775146, -3.9341719150543213, 9.855677604675293, -17.210554122924805, -1.6489511728286743, -21.5798397064209, 5.694538116455078, 13.981700897216797], \"yaxis\": \"y\"}, {\"customdata\": [[\"KI\"], [\"TO\"], [\"TK\"], [\"AS\"], [\"WF\"], [\"WS\"], [\"CK\"], [\"PF\"], [\"NU\"], [\"PN\"]], \"hovertemplate\": \"Cluster=Cluster 4<br>PCA1=%{x}<br>PCA2=%{y}<br>Feature=%{customdata[0]}<extra></extra>\", \"legendgroup\": \"Cluster 4\", \"marker\": {\"color\": \"#FFA15A\", \"opacity\": 0.5, \"symbol\": \"circle\"}, \"mode\": \"markers\", \"name\": \"Cluster 4\", \"orientation\": \"v\", \"showlegend\": true, \"textposition\": \"top center\", \"type\": \"scatter\", \"x\": [182.41493225097656, 189.26756286621094, 185.65858459472656, 184.05148315429688, 191.06265258789062, 186.01219177246094, 173.8519287109375, 163.40573120117188, 183.8913116455078, 141.59722900390625], \"xaxis\": \"x\", \"y\": [15.632691383361816, 33.295433044433594, 21.15993309020996, 26.50001335144043, 25.844104766845703, 25.94499969482422, 33.69085693359375, 30.361820220947266, 31.288143157958984, 37.86506271362305], \"yaxis\": \"y\"}, {\"customdata\": [[\"NC\"], [\"NF\"], [\"NZ\"], [\"FJ\"], [\"AU\"], [\"MH\"], [\"FM\"], [\"TV\"], [\"NR\"], [\"PG\"], [\"SB\"], [\"VU\"], [\"GU\"], [\"MP\"]], \"hovertemplate\": \"Cluster=Cluster 5<br>PCA1=%{x}<br>PCA2=%{y}<br>Feature=%{customdata[0]}<extra></extra>\", \"legendgroup\": \"Cluster 5\", \"marker\": {\"color\": \"#19d3f3\", \"opacity\": 0.5, \"symbol\": \"circle\"}, \"mode\": \"markers\", \"name\": \"Cluster 5\", \"orientation\": \"v\", \"showlegend\": true, \"textposition\": \"top center\", \"type\": \"scatter\", \"x\": [-151.47300720214844, -153.6309356689453, -160.3008270263672, -165.36080932617188, -119.54203033447266, -157.6520538330078, -137.02976989746094, -163.80349731445312, -153.2324676513672, -130.13519287109375, -146.25900268554688, -152.93484497070312, -131.40586853027344, -132.08180236816406], \"xaxis\": \"x\", \"y\": [40.48412322998047, 48.66987228393555, 60.678531646728516, 36.46116638183594, 44.155860900878906, 12.576966285705566, 11.8311128616333, 26.956127166748047, 20.136247634887695, 25.42393684387207, 29.108625411987305, 34.987220764160156, 5.687736511230469, 1.8150848150253296], \"yaxis\": \"y\"}, {\"customdata\": [[\"AM\"], [\"KG\"], [\"AE\"], [\"AF\"], [\"PS\"], [\"AZ\"], [\"YE\"], [\"PK\"], [\"GE\"], [\"LB\"], [\"OM\"], [\"UZ\"], [\"KW\"], [\"TR\"], [\"JO\"], [\"SD\"], [\"DJ\"], [\"MV\"], [\"GZ\"], [\"CY\"], [\"EG\"], [\"SO\"], [\"SA\"], [\"BH\"], [\"SY\"], [\"IL\"], [\"TJ\"], [\"ET\"], [\"IO\"], [\"TM\"], [\"IQ\"], [\"QA\"], [\"IR\"], [\"ER\"], [\"KZ\"]], \"hovertemplate\": \"Cluster=Cluster 6<br>PCA1=%{x}<br>PCA2=%{y}<br>Feature=%{customdata[0]}<extra></extra>\", \"legendgroup\": \"Cluster 6\", \"marker\": {\"color\": \"#FF6692\", \"opacity\": 0.5, \"symbol\": \"circle\"}, \"mode\": \"markers\", \"name\": \"Cluster 6\", \"orientation\": \"v\", \"showlegend\": true, \"textposition\": \"top center\", \"type\": \"scatter\", \"x\": [-32.25728988647461, -62.002925872802734, -40.700252532958984, -54.78938293457031, -22.276859283447266, -34.79703903198242, -35.19778823852539, -56.346107482910156, -30.62558937072754, -22.94750213623047, -42.73339080810547, -51.82832336425781, -34.46471405029297, -22.440567016601562, -23.25194549560547, -16.844520568847656, -29.19146728515625, -59.62571334838867, -21.33966827392578, -20.543508529663086, -17.734891891479492, -32.65381622314453, -31.943870544433594, -37.54591751098633, -26.102025985717773, -21.875568389892578, -58.462440490722656, -27.032682418823242, -58.07282638549805, -46.74781799316406, -30.748804092407227, -38.07929611206055, -40.73774719238281, -26.457653045654297, -54.31163787841797], \"xaxis\": \"x\", \"y\": [-23.115150451660156, -23.599166870117188, -6.281205177307129, -16.49015998840332, -15.214875221252441, -23.133543014526367, 1.4715076684951782, -12.8914155960083, -25.397737503051758, -17.103199005126953, -4.324720859527588, -23.99517822265625, -12.306782722473145, -22.224552154541016, -13.826189041137695, 3.7600698471069336, 5.068429946899414, 14.359476089477539, -14.637770652770996, -18.4278507232666, -10.181519508361816, 11.818856239318848, -6.934978008270264, -8.857234001159668, -17.981685638427734, -14.317336082458496, -21.332809448242188, 7.701925277709961, 23.873722076416016, -21.698110580444336, -16.300643920898438, -8.269826889038086, -15.286377906799316, 1.6534994840621948, -30.584461212158203], \"yaxis\": \"y\"}],                        {\"height\": 600, \"legend\": {\"title\": {\"text\": \"Cluster\"}, \"tracegroupgap\": 0}, \"margin\": {\"t\": 60}, \"plot_bgcolor\": \"rgb(240,240,240)\", \"template\": {\"data\": {\"bar\": [{\"error_x\": {\"color\": \"#2a3f5f\"}, \"error_y\": {\"color\": \"#2a3f5f\"}, \"marker\": {\"line\": {\"color\": \"#E5ECF6\", \"width\": 0.5}}, \"type\": \"bar\"}], \"barpolar\": [{\"marker\": {\"line\": {\"color\": \"#E5ECF6\", \"width\": 0.5}}, \"type\": \"barpolar\"}], \"carpet\": [{\"aaxis\": {\"endlinecolor\": \"#2a3f5f\", \"gridcolor\": \"white\", \"linecolor\": \"white\", \"minorgridcolor\": \"white\", \"startlinecolor\": \"#2a3f5f\"}, \"baxis\": {\"endlinecolor\": \"#2a3f5f\", \"gridcolor\": \"white\", \"linecolor\": \"white\", \"minorgridcolor\": \"white\", \"startlinecolor\": \"#2a3f5f\"}, \"type\": \"carpet\"}], \"choropleth\": [{\"colorbar\": {\"outlinewidth\": 0, \"ticks\": \"\"}, \"type\": \"choropleth\"}], \"contour\": [{\"colorbar\": {\"outlinewidth\": 0, \"ticks\": \"\"}, \"colorscale\": [[0.0, \"#0d0887\"], [0.1111111111111111, \"#46039f\"], [0.2222222222222222, \"#7201a8\"], [0.3333333333333333, \"#9c179e\"], [0.4444444444444444, \"#bd3786\"], [0.5555555555555556, \"#d8576b\"], [0.6666666666666666, \"#ed7953\"], [0.7777777777777778, \"#fb9f3a\"], [0.8888888888888888, \"#fdca26\"], [1.0, \"#f0f921\"]], \"type\": \"contour\"}], \"contourcarpet\": [{\"colorbar\": {\"outlinewidth\": 0, \"ticks\": \"\"}, \"type\": \"contourcarpet\"}], \"heatmap\": [{\"colorbar\": {\"outlinewidth\": 0, \"ticks\": \"\"}, \"colorscale\": [[0.0, \"#0d0887\"], [0.1111111111111111, \"#46039f\"], [0.2222222222222222, \"#7201a8\"], [0.3333333333333333, \"#9c179e\"], [0.4444444444444444, \"#bd3786\"], [0.5555555555555556, \"#d8576b\"], [0.6666666666666666, \"#ed7953\"], [0.7777777777777778, \"#fb9f3a\"], [0.8888888888888888, \"#fdca26\"], [1.0, \"#f0f921\"]], \"type\": \"heatmap\"}], \"heatmapgl\": [{\"colorbar\": {\"outlinewidth\": 0, \"ticks\": \"\"}, \"colorscale\": [[0.0, \"#0d0887\"], [0.1111111111111111, \"#46039f\"], [0.2222222222222222, \"#7201a8\"], [0.3333333333333333, \"#9c179e\"], [0.4444444444444444, \"#bd3786\"], [0.5555555555555556, \"#d8576b\"], [0.6666666666666666, \"#ed7953\"], [0.7777777777777778, \"#fb9f3a\"], [0.8888888888888888, \"#fdca26\"], [1.0, \"#f0f921\"]], \"type\": \"heatmapgl\"}], \"histogram\": [{\"marker\": {\"colorbar\": {\"outlinewidth\": 0, \"ticks\": \"\"}}, \"type\": \"histogram\"}], \"histogram2d\": [{\"colorbar\": {\"outlinewidth\": 0, \"ticks\": \"\"}, \"colorscale\": [[0.0, \"#0d0887\"], [0.1111111111111111, \"#46039f\"], [0.2222222222222222, \"#7201a8\"], [0.3333333333333333, \"#9c179e\"], [0.4444444444444444, \"#bd3786\"], [0.5555555555555556, \"#d8576b\"], [0.6666666666666666, \"#ed7953\"], [0.7777777777777778, \"#fb9f3a\"], [0.8888888888888888, \"#fdca26\"], [1.0, \"#f0f921\"]], \"type\": \"histogram2d\"}], \"histogram2dcontour\": [{\"colorbar\": {\"outlinewidth\": 0, \"ticks\": \"\"}, \"colorscale\": [[0.0, \"#0d0887\"], [0.1111111111111111, \"#46039f\"], [0.2222222222222222, \"#7201a8\"], [0.3333333333333333, \"#9c179e\"], [0.4444444444444444, \"#bd3786\"], [0.5555555555555556, \"#d8576b\"], [0.6666666666666666, \"#ed7953\"], [0.7777777777777778, \"#fb9f3a\"], [0.8888888888888888, \"#fdca26\"], [1.0, \"#f0f921\"]], \"type\": \"histogram2dcontour\"}], \"mesh3d\": [{\"colorbar\": {\"outlinewidth\": 0, \"ticks\": \"\"}, \"type\": \"mesh3d\"}], \"parcoords\": [{\"line\": {\"colorbar\": {\"outlinewidth\": 0, \"ticks\": \"\"}}, \"type\": \"parcoords\"}], \"pie\": [{\"automargin\": true, \"type\": \"pie\"}], \"scatter\": [{\"marker\": {\"colorbar\": {\"outlinewidth\": 0, \"ticks\": \"\"}}, \"type\": \"scatter\"}], \"scatter3d\": [{\"line\": {\"colorbar\": {\"outlinewidth\": 0, \"ticks\": \"\"}}, \"marker\": {\"colorbar\": {\"outlinewidth\": 0, \"ticks\": \"\"}}, \"type\": \"scatter3d\"}], \"scattercarpet\": [{\"marker\": {\"colorbar\": {\"outlinewidth\": 0, \"ticks\": \"\"}}, \"type\": \"scattercarpet\"}], \"scattergeo\": [{\"marker\": {\"colorbar\": {\"outlinewidth\": 0, \"ticks\": \"\"}}, \"type\": \"scattergeo\"}], \"scattergl\": [{\"marker\": {\"colorbar\": {\"outlinewidth\": 0, \"ticks\": \"\"}}, \"type\": \"scattergl\"}], \"scattermapbox\": [{\"marker\": {\"colorbar\": {\"outlinewidth\": 0, \"ticks\": \"\"}}, \"type\": \"scattermapbox\"}], \"scatterpolar\": [{\"marker\": {\"colorbar\": {\"outlinewidth\": 0, \"ticks\": \"\"}}, \"type\": \"scatterpolar\"}], \"scatterpolargl\": [{\"marker\": {\"colorbar\": {\"outlinewidth\": 0, \"ticks\": \"\"}}, \"type\": \"scatterpolargl\"}], \"scatterternary\": [{\"marker\": {\"colorbar\": {\"outlinewidth\": 0, \"ticks\": \"\"}}, \"type\": \"scatterternary\"}], \"surface\": [{\"colorbar\": {\"outlinewidth\": 0, \"ticks\": \"\"}, \"colorscale\": [[0.0, \"#0d0887\"], [0.1111111111111111, \"#46039f\"], [0.2222222222222222, \"#7201a8\"], [0.3333333333333333, \"#9c179e\"], [0.4444444444444444, \"#bd3786\"], [0.5555555555555556, \"#d8576b\"], [0.6666666666666666, \"#ed7953\"], [0.7777777777777778, \"#fb9f3a\"], [0.8888888888888888, \"#fdca26\"], [1.0, \"#f0f921\"]], \"type\": \"surface\"}], \"table\": [{\"cells\": {\"fill\": {\"color\": \"#EBF0F8\"}, \"line\": {\"color\": \"white\"}}, \"header\": {\"fill\": {\"color\": \"#C8D4E3\"}, \"line\": {\"color\": \"white\"}}, \"type\": \"table\"}]}, \"layout\": {\"annotationdefaults\": {\"arrowcolor\": \"#2a3f5f\", \"arrowhead\": 0, \"arrowwidth\": 1}, \"autotypenumbers\": \"strict\", \"coloraxis\": {\"colorbar\": {\"outlinewidth\": 0, \"ticks\": \"\"}}, \"colorscale\": {\"diverging\": [[0, \"#8e0152\"], [0.1, \"#c51b7d\"], [0.2, \"#de77ae\"], [0.3, \"#f1b6da\"], [0.4, \"#fde0ef\"], [0.5, \"#f7f7f7\"], [0.6, \"#e6f5d0\"], [0.7, \"#b8e186\"], [0.8, \"#7fbc41\"], [0.9, \"#4d9221\"], [1, \"#276419\"]], \"sequential\": [[0.0, \"#0d0887\"], [0.1111111111111111, \"#46039f\"], [0.2222222222222222, \"#7201a8\"], [0.3333333333333333, \"#9c179e\"], [0.4444444444444444, \"#bd3786\"], [0.5555555555555556, \"#d8576b\"], [0.6666666666666666, \"#ed7953\"], [0.7777777777777778, \"#fb9f3a\"], [0.8888888888888888, \"#fdca26\"], [1.0, \"#f0f921\"]], \"sequentialminus\": [[0.0, \"#0d0887\"], [0.1111111111111111, \"#46039f\"], [0.2222222222222222, \"#7201a8\"], [0.3333333333333333, \"#9c179e\"], [0.4444444444444444, \"#bd3786\"], [0.5555555555555556, \"#d8576b\"], [0.6666666666666666, \"#ed7953\"], [0.7777777777777778, \"#fb9f3a\"], [0.8888888888888888, \"#fdca26\"], [1.0, \"#f0f921\"]]}, \"colorway\": [\"#636efa\", \"#EF553B\", \"#00cc96\", \"#ab63fa\", \"#FFA15A\", \"#19d3f3\", \"#FF6692\", \"#B6E880\", \"#FF97FF\", \"#FECB52\"], \"font\": {\"color\": \"#2a3f5f\"}, \"geo\": {\"bgcolor\": \"white\", \"lakecolor\": \"white\", \"landcolor\": \"#E5ECF6\", \"showlakes\": true, \"showland\": true, \"subunitcolor\": \"white\"}, \"hoverlabel\": {\"align\": \"left\"}, \"hovermode\": \"closest\", \"mapbox\": {\"style\": \"light\"}, \"paper_bgcolor\": \"white\", \"plot_bgcolor\": \"#E5ECF6\", \"polar\": {\"angularaxis\": {\"gridcolor\": \"white\", \"linecolor\": \"white\", \"ticks\": \"\"}, \"bgcolor\": \"#E5ECF6\", \"radialaxis\": {\"gridcolor\": \"white\", \"linecolor\": \"white\", \"ticks\": \"\"}}, \"scene\": {\"xaxis\": {\"backgroundcolor\": \"#E5ECF6\", \"gridcolor\": \"white\", \"gridwidth\": 2, \"linecolor\": \"white\", \"showbackground\": true, \"ticks\": \"\", \"zerolinecolor\": \"white\"}, \"yaxis\": {\"backgroundcolor\": \"#E5ECF6\", \"gridcolor\": \"white\", \"gridwidth\": 2, \"linecolor\": \"white\", \"showbackground\": true, \"ticks\": \"\", \"zerolinecolor\": \"white\"}, \"zaxis\": {\"backgroundcolor\": \"#E5ECF6\", \"gridcolor\": \"white\", \"gridwidth\": 2, \"linecolor\": \"white\", \"showbackground\": true, \"ticks\": \"\", \"zerolinecolor\": \"white\"}}, \"shapedefaults\": {\"line\": {\"color\": \"#2a3f5f\"}}, \"ternary\": {\"aaxis\": {\"gridcolor\": \"white\", \"linecolor\": \"white\", \"ticks\": \"\"}, \"baxis\": {\"gridcolor\": \"white\", \"linecolor\": \"white\", \"ticks\": \"\"}, \"bgcolor\": \"#E5ECF6\", \"caxis\": {\"gridcolor\": \"white\", \"linecolor\": \"white\", \"ticks\": \"\"}}, \"title\": {\"x\": 0.05}, \"xaxis\": {\"automargin\": true, \"gridcolor\": \"white\", \"linecolor\": \"white\", \"ticks\": \"\", \"title\": {\"standoff\": 15}, \"zerolinecolor\": \"white\", \"zerolinewidth\": 2}, \"yaxis\": {\"automargin\": true, \"gridcolor\": \"white\", \"linecolor\": \"white\", \"ticks\": \"\", \"title\": {\"standoff\": 15}, \"zerolinecolor\": \"white\", \"zerolinewidth\": 2}}}, \"title\": {\"text\": \"2D Cluster PCA Plot\"}, \"xaxis\": {\"anchor\": \"y\", \"domain\": [0.0, 1.0], \"title\": {\"text\": \"PCA1\"}}, \"yaxis\": {\"anchor\": \"x\", \"domain\": [0.0, 1.0], \"title\": {\"text\": \"PCA2\"}}},                        {\"responsive\": true}                    ).then(function(){\n",
       "                            \n",
       "var gd = document.getElementById('fe3ca052-d414-4b06-9cc9-9d02388a7651');\n",
       "var x = new MutationObserver(function (mutations, observer) {{\n",
       "        var display = window.getComputedStyle(gd).display;\n",
       "        if (!display || display === 'none') {{\n",
       "            console.log([gd, 'removed!']);\n",
       "            Plotly.purge(gd);\n",
       "            observer.disconnect();\n",
       "        }}\n",
       "}});\n",
       "\n",
       "// Listen for the removal of the full notebook cells\n",
       "var notebookContainer = gd.closest('#notebook-container');\n",
       "if (notebookContainer) {{\n",
       "    x.observe(notebookContainer, {childList: true});\n",
       "}}\n",
       "\n",
       "// Listen for the clearing of the current output cell\n",
       "var outputEl = gd.closest('.output');\n",
       "if (outputEl) {{\n",
       "    x.observe(outputEl, {childList: true});\n",
       "}}\n",
       "\n",
       "                        })                };                });            </script>        </div>"
      ]
     },
     "metadata": {},
     "output_type": "display_data"
    }
   ],
   "source": [
    "pc.plot_model(km, plot = 'cluster')"
   ]
  },
  {
   "cell_type": "code",
   "execution_count": 19,
   "metadata": {},
   "outputs": [
    {
     "data": {
      "image/png": "[encoded data removed]",
      "text/plain": [
       "<Figure size 576x396 with 1 Axes>"
      ]
     },
     "metadata": {},
     "output_type": "display_data"
    }
   ],
   "source": [
    "pc.plot_model(km, plot = 'elbow')"
   ]
  },
  {
   "cell_type": "code",
   "execution_count": 20,
   "metadata": {},
   "outputs": [
    {
     "data": {
      "application/vnd.plotly.v1+json": {
       "config": {
        "plotlyServerURL": "https://plot.ly"
       },
       "data": [
        {
         "customdata": [
          [
           -19.015438
          ],
          [
           -18.665695
          ],
          [
           -22.957639999999998
          ],
          [
           -54.423199
          ],
          [
           -22.328474
          ],
          [
           -49.280366
          ],
          [
           -4.038333000000001
          ],
          [
           6.611111
          ],
          [
           -0.228021
          ],
          [
           -26.522503000000004
          ],
          [
           -0.803689
          ],
          [
           7.369722
          ],
          [
           0.18636
          ],
          [
           -21.115141
          ],
          [
           -1.940278
          ],
          [
           -4.679574
          ],
          [
           -13.133897
          ],
          [
           -24.143473999999998
          ],
          [
           -3.3730559999999996
          ],
          [
           -6.369028
          ],
          [
           1.6508009999999997
          ],
          [
           -18.766947000000002
          ],
          [
           -13.254307999999998
          ],
          [
           -30.559482
          ],
          [
           -12.8275
          ],
          [
           -75.250973
          ],
          [
           -20.348404000000002
          ],
          [
           -11.875001
          ],
          [
           -11.202691999999999
          ],
          [
           -53.08181
          ],
          [
           1.373333
          ],
          [
           -29.609988
          ],
          [
           -0.023559
          ]
         ],
         "hovertemplate": "Cluster=Cluster 0<br>0=%{x}<br>1=%{y}<br>2=%{z}<br>Feature=%{customdata[0]}<extra></extra>",
         "legendgroup": "Cluster 0",
         "marker": {
          "color": "#636efa",
          "opacity": 0.7,
          "symbol": "circle"
         },
         "mode": "markers",
         "name": "Cluster 0",
         "scene": "scene",
         "showlegend": true,
         "type": "scatter3d",
         "x": [
          14.154033660888672,
          0.5841493606567383,
          8.756576538085938,
          68.84883880615234,
          126.01504516601562,
          -2.003063678741455,
          21.967695236206055,
          -5.423291206359863,
          22.970943450927734,
          32.83881378173828,
          25.263866424560547,
          39.335182189941406,
          9.48228931427002,
          3.711643695831299,
          -0.48535239696502686,
          7.503929138183594,
          17.119592666625977,
          15.054895401000977,
          -10.2861328125,
          -17.610734939575195,
          49.6723747253418,
          -16.94784164428711,
          30.062116622924805,
          47.068809509277344,
          34.16520690917969,
          45.497745513916016,
          24.124805450439453,
          -2.6259677410125732,
          39.233238220214844,
          10.346980094909668,
          -29.348411560058594,
          -6.8897385597229,
          -36.09328842163086
         ],
         "y": [
          -110.58958435058594,
          147.21266174316406,
          -116.91162109375,
          66.5050277709961,
          -6.783353805541992,
          97.81910705566406,
          104.12419891357422,
          92.48409271240234,
          102.78631591796875,
          124.08744812011719,
          95.39214324951172,
          77.55091857910156,
          77.27259063720703,
          92.26782989501953,
          120.85333251953125,
          81.03189086914062,
          134.8968505859375,
          -132.54685974121094,
          100.83289337158203,
          130.9575958251953,
          89.8646011352539,
          126.1585693359375,
          -107.59144592285156,
          97.11534881591797,
          95.91625213623047,
          59.20087432861328,
          70.07551574707031,
          114.02955627441406,
          125.50770568847656,
          117.8502197265625,
          112.4914779663086,
          -112.43852996826172,
          -114.96581268310547
         ],
         "z": [
          -44.80520248413086,
          -35.89966583251953,
          45.801090240478516,
          32.393123626708984,
          -83.4686508178711,
          99.24896240234375,
          -0.8751000165939331,
          -41.062583923339844,
          -32.438865661621094,
          41.461368560791016,
          -61.132511138916016,
          -18.319522857666016,
          -14.762986183166504,
          65.50049591064453,
          -16.034080505371094,
          35.98584747314453,
          10.688920974731445,
          39.75266647338867,
          4.13909912109375,
          9.397804260253906,
          -43.311851501464844,
          -59.79097366333008,
          -75.0457534790039,
          26.78643226623535,
          63.45909118652344,
          39.02621841430664,
          83.08232879638672,
          38.64965057373047,
          -16.60056495666504,
          90.29972076416016,
          -18.988597869873047,
          74.93500518798828,
          32.340511322021484
         ]
        },
        {
         "customdata": [
          [
           46.941936
          ],
          [
           -23.442503
          ],
          [
           -51.796253
          ],
          [
           13.909444
          ],
          [
           17.357822
          ],
          [
           18.220833
          ],
          [
           -9.189967
          ],
          [
           23.634501
          ],
          [
           14.641528
          ],
          [
           12.262775999999999
          ],
          [
           8.537981
          ],
          [
           3.9338889999999997
          ],
          [
           18.971187
          ],
          [
           16.742498
          ],
          [
           15.199998999999998
          ],
          [
           12.865416
          ],
          [
           16.995971
          ],
          [
           18.735692999999998
          ],
          [
           -54.429579000000004
          ],
          [
           15.783470999999999
          ],
          [
           4.860416000000001
          ],
          [
           18.109581
          ],
          [
           15.414999
          ],
          [
           -1.8312389999999998
          ],
          [
           19.513469
          ],
          [
           6.42375
          ],
          [
           -32.522779
          ],
          [
           13.193887
          ],
          [
           37.09024
          ],
          [
           18.420695000000002
          ],
          [
           10.691803
          ],
          [
           32.321384
          ],
          [
           -16.290154
          ],
          [
           -14.235004
          ],
          [
           25.03428
          ],
          [
           12.52111
          ],
          [
           56.130366
          ],
          [
           21.694025
          ],
          [
           13.794185
          ],
          [
           17.189877
          ],
          [
           -35.675146999999996
          ],
          [
           17.060816
          ],
          [
           18.220554
          ],
          [
           18.335765
          ],
          [
           12.226078999999999
          ],
          [
           -38.416097
          ],
          [
           21.521757
          ],
          [
           3.9193050000000005
          ],
          [
           9.748917
          ],
          [
           4.570868
          ],
          [
           12.984305
          ]
         ],
         "hovertemplate": "Cluster=Cluster 1<br>0=%{x}<br>1=%{y}<br>2=%{z}<br>Feature=%{customdata[0]}<extra></extra>",
         "legendgroup": "Cluster 1",
         "marker": {
          "color": "#EF553B",
          "opacity": 0.7,
          "symbol": "circle"
         },
         "mode": "markers",
         "name": "Cluster 1",
         "scene": "scene",
         "showlegend": true,
         "type": "scatter3d",
         "x": [
          64.74373626708984,
          98.1368179321289,
          50.84614562988281,
          7.264091491699219,
          33.32692337036133,
          -108.99395751953125,
          12.593796730041504,
          137.12171936035156,
          73.07228088378906,
          31.451496124267578,
          125.97228240966797,
          9.525260925292969,
          86.75102233886719,
          56.90737533569336,
          117.59302520751953,
          106.62239074707031,
          59.03256607055664,
          105.49079895019531,
          60.6204948425293,
          117.00389862060547,
          37.9157600402832,
          90.82176208496094,
          84.89327239990234,
          -53.155452728271484,
          82.15219116210938,
          46.01187515258789,
          72.01962280273438,
          18.923126220703125,
          113.25172424316406,
          63.90854263305664,
          94.82427978515625,
          74.53639221191406,
          40.408775329589844,
          18.781444549560547,
          78.33690643310547,
          43.0817985534668,
          108.5913314819336,
          81.2684555053711,
          136.25274658203125,
          144.16656494140625,
          51.76523971557617,
          98.56424713134766,
          34.31239700317383,
          66.12125396728516,
          56.08836364746094,
          69.88520050048828,
          88.1382064819336,
          12.986677169799805,
          111.17378234863281,
          -78.033203125,
          56.27070999145508
         ],
         "y": [
          -75.5104751586914,
          43.5513801574707,
          23.423019409179688,
          -70.8501205444336,
          -77.16763305664062,
          4.733213901519775,
          7.706875801086426,
          -79.52717590332031,
          41.69489669799805,
          -53.406612396240234,
          -55.56389236450195,
          -45.108760833740234,
          -11.684494018554688,
          -102.66426849365234,
          -25.241056442260742,
          -33.23334884643555,
          -99.00342559814453,
          13.92625617980957,
          35.06898498535156,
          -56.35316848754883,
          -34.59291076660156,
          -61.385501861572266,
          8.689477920532227,
          -8.313937187194824,
          -24.5101318359375,
          -22.465713500976562,
          44.460411071777344,
          -40.375240325927734,
          -75.25932312011719,
          -76.34368133544922,
          -3.1851813793182373,
          -87.78707885742188,
          1.743507742881775,
          -14.51916790008545,
          -43.42707061767578,
          -63.89884948730469,
          -102.75011444091797,
          -54.42993927001953,
          -44.96589660644531,
          -40.4189567565918,
          -7.510810852050781,
          35.78443908691406,
          -85.4935073852539,
          -72.83856201171875,
          -39.58291244506836,
          7.25825309753418,
          -44.18048095703125,
          -22.665090560913086,
          -30.09403419494629,
          -90.12196350097656,
          -52.33368682861328
         ],
         "z": [
          -66.13372039794922,
          -103.10631561279297,
          78.15382385253906,
          6.736366271972656,
          30.101455688476562,
          -65.29104614257812,
          35.86665344238281,
          1.5073165893554688,
          -72.0968017578125,
          6.970333099365234,
          37.09131622314453,
          34.48430633544922,
          -4.161057472229004,
          -14.035229682922363,
          10.08939266204834,
          35.66358947753906,
          18.173250198364258,
          -8.636916160583496,
          51.73093795776367,
          7.161472320556641,
          39.073272705078125,
          22.62405014038086,
          -67.38311767578125,
          -138.1924285888672,
          21.0983943939209,
          9.940130233764648,
          79.16358184814453,
          -15.813331604003906,
          -20.326154708862305,
          38.75846481323242,
          -39.18990707397461,
          -39.76424026489258,
          46.5956916809082,
          61.21131896972656,
          48.68260192871094,
          -26.839672088623047,
          -10.21902847290039,
          -29.43146514892578,
          -15.074261665344238,
          13.775046348571777,
          78.80789184570312,
          -45.62516784667969,
          -1.8064098358154297,
          -2.4275834560394287,
          -14.41714859008789,
          62.40665054321289,
          -1.5314643383026123,
          15.38764762878418,
          -19.760929107666016,
          61.756591796875,
          19.42343521118164
         ]
        },
        {
         "customdata": [
          [
           47.411631
          ],
          [
           55.169438
          ],
          [
           31.791702
          ],
          [
           26.3351
          ],
          [
           42.708678000000006
          ],
          [
           56.879635
          ],
          [
           6.4280550000000005
          ],
          [
           41.608635
          ],
          [
           47.166000000000004
          ],
          [
           42.602636
          ],
          [
           17.570692
          ],
          [
           49.815273
          ],
          [
           43.750298
          ],
          [
           77.553604
          ],
          [
           41.902916
          ],
          [
           48.669026
          ],
          [
           8.460555000000001
          ],
          [
           60.128161
          ],
          [
           43.94236
          ],
          [
           14.497401000000002
          ],
          [
           44.016521000000004
          ],
          [
           45.943160999999996
          ],
          [
           39.399871999999995
          ],
          [
           51.919438
          ],
          [
           15.454166
          ],
          [
           60.472024
          ],
          [
           52.132633
          ],
          [
           8.619543
          ],
          [
           9.081999
          ],
          [
           17.607789
          ],
          [
           33.886917
          ],
          [
           46.151241
          ],
          [
           null
          ],
          [
           35.937496
          ],
          [
           21.00789
          ],
          [
           48.379433
          ],
          [
           42.546245
          ],
          [
           61.92411
          ],
          [
           47.162494
          ],
          [
           45.1
          ],
          [
           49.817492
          ],
          [
           51.165690999999995
          ],
          [
           11.803749
          ],
          [
           56.26392
          ],
          [
           28.033886
          ],
          [
           39.074208
          ],
          [
           9.945587
          ],
          [
           13.443182
          ],
          [
           58.595271999999994
          ],
          [
           71.706936
          ],
          [
           36.137741
          ],
          [
           7.946527000000001
          ],
          [
           49.465691
          ],
          [
           24.215526999999998
          ],
          [
           40.463667
          ],
          [
           61.892635
          ],
          [
           46.227638
          ],
          [
           55.378051
          ],
          [
           7.539989
          ],
          [
           16.002082
          ],
          [
           43.915886
          ],
          [
           42.733883
          ],
          [
           49.214439
          ],
          [
           46.818188
          ],
          [
           41.87194
          ],
          [
           64.96305100000001
          ],
          [
           9.30769
          ],
          [
           12.238333
          ],
          [
           50.503887
          ],
          [
           47.516231
          ],
          [
           54.236107
          ],
          [
           53.709807
          ],
          [
           53.41291
          ],
          [
           41.153332
          ]
         ],
         "hovertemplate": "Cluster=Cluster 2<br>0=%{x}<br>1=%{y}<br>2=%{z}<br>Feature=%{customdata[0]}<extra></extra>",
         "legendgroup": "Cluster 2",
         "marker": {
          "color": "#00cc96",
          "opacity": 0.7,
          "symbol": "circle"
         },
         "mode": "markers",
         "name": "Cluster 2",
         "scene": "scene",
         "showlegend": true,
         "type": "scatter3d",
         "x": [
          140.8037109375,
          -15.170418739318848,
          -114.95398712158203,
          -19.792736053466797,
          -87.50553131103516,
          -55.59151840209961,
          33.21116256713867,
          -26.687068939208984,
          -34.296504974365234,
          -62.891944885253906,
          -56.49443435668945,
          14.080305099487305,
          9.378326416015625,
          -50.68583297729492,
          -6.8261566162109375,
          -24.37322998046875,
          58.497100830078125,
          -26.641357421875,
          63.82356643676758,
          60.52853012084961,
          -36.857486724853516,
          -55.85668182373047,
          39.469879150390625,
          -7.771759986877441,
          -12.940382957458496,
          32.02569580078125,
          -15.714503288269043,
          18.566240310668945,
          19.865842819213867,
          11.321374893188477,
          -111.4024887084961,
          -40.99080276489258,
          -0.09734948724508286,
          -28.31334686279297,
          19.103466033935547,
          -29.39838218688965,
          45.37794876098633,
          -59.93208312988281,
          -0.906161904335022,
          -42.35963821411133,
          -68.92858123779297,
          -15.143821716308594,
          58.04375076293945,
          -2.424661874771118,
          18.43853187561035,
          -19.810203552246094,
          -75.31978607177734,
          32.392906188964844,
          -42.4714241027832,
          60.20879364013672,
          -106.76492309570312,
          -58.59537887573242,
          26.8869686126709,
          43.027130126953125,
          34.78182601928711,
          29.916715621948242,
          19.63050079345703,
          10.140235900878906,
          5.592658996582031,
          54.95392608642578,
          145.19180297851562,
          -36.79692840576172,
          -85.29911041259766,
          20.296621322631836,
          -22.124065399169922,
          55.908538818359375,
          44.49597930908203,
          31.411266326904297,
          -1.1234781742095947,
          -42.6033935546875,
          15.054853439331055,
          -70.74579620361328,
          42.75885009765625,
          -49.96745681762695
         ],
         "y": [
          37.677913665771484,
          22.896778106689453,
          -67.04464721679688,
          30.47833824157715,
          -75.0881576538086,
          -78.63038635253906,
          29.69163703918457,
          -58.340492248535156,
          -75.11461639404297,
          -96.87442779541016,
          33.024749755859375,
          18.951217651367188,
          -38.28146743774414,
          -75.24584197998047,
          -8.769237518310547,
          -71.94770812988281,
          46.18511199951172,
          -91.30437469482422,
          -66.70321655273438,
          23.6467342376709,
          5.461902618408203,
          -68.12933349609375,
          4.8998613357543945,
          -42.80781936645508,
          61.104408264160156,
          -41.42145538330078,
          -38.67002868652344,
          51.02100372314453,
          69.56553649902344,
          41.60914611816406,
          -32.7288932800293,
          -21.623380661010742,
          63.35503387451172,
          -3.604477882385254,
          2.162645101547241,
          -87.84474182128906,
          5.329373359680176,
          -102.72007751464844,
          -15.064351081848145,
          61.181514739990234,
          -38.6841926574707,
          -51.4833869934082,
          17.832773208618164,
          -69.12162780761719,
          21.44350814819336,
          -29.964542388916016,
          8.9771146774292,
          4.87866735458374,
          -108.8401870727539,
          -69.13314056396484,
          -50.3997688293457,
          36.10725402832031,
          -30.708906173706055,
          5.365848541259766,
          -18.87364387512207,
          -54.1413459777832,
          -51.05284881591797,
          -30.343196868896484,
          23.633825302124023,
          -5.0178375244140625,
          -2.34255051612854,
          -94.22901153564453,
          130.997314453125,
          44.985347747802734,
          -32.32223129272461,
          -51.993125915527344,
          54.87723159790039,
          36.58420944213867,
          -22.911285400390625,
          -48.81882858276367,
          -4.344137668609619,
          -96.08354187011719,
          -20.393415451049805,
          -34.18434143066406
         ],
         "z": [
          -54.64470672607422,
          -108.59198760986328,
          -66.25200653076172,
          -49.37012481689453,
          -34.97792053222656,
          -88.9588394165039,
          -28.59652328491211,
          -37.29080581665039,
          78.11882781982422,
          -29.553922653198242,
          -102.52015686035156,
          114.21296691894531,
          -64.1608657836914,
          -125.61192321777344,
          -71.2525863647461,
          -67.26500701904297,
          -13.162715911865234,
          -103.03145599365234,
          92.07905578613281,
          -35.656307220458984,
          -77.10325622558594,
          -47.8914794921875,
          -103.36680603027344,
          89.37503814697266,
          -41.7203254699707,
          117.7386474609375,
          -125.04391479492188,
          -15.754551887512207,
          -43.50636291503906,
          -51.90518569946289,
          -47.9995002746582,
          -91.5743179321289,
          -67.34579467773438,
          -46.59078598022461,
          -40.486392974853516,
          -19.147546768188477,
          127.622802734375,
          -106.8353042602539,
          104.41903686523438,
          -86.05057525634766,
          -74.2248764038086,
          -95.09284973144531,
          -3.2665505409240723,
          -117.97481536865234,
          -76.38508605957031,
          -28.52886390686035,
          -88.24527740478516,
          -12.54814338684082,
          -81.43749237060547,
          -98.56965637207031,
          -90.42031860351562,
          -64.09257507324219,
          -114.24231719970703,
          -57.58625793457031,
          -84.86093139648438,
          -139.86769104003906,
          -91.39616394042969,
          -145.17398071289062,
          -12.794210433959961,
          -30.176401138305664,
          -37.05753707885742,
          -47.059226989746094,
          46.5151481628418,
          133.37890625,
          -63.48046112060547,
          -122.87937927246094,
          -44.36061096191406,
          5.605012893676758,
          -103.18416595458984,
          -81.44898986816406,
          -129.93971252441406,
          -68.83712768554688,
          -138.7341766357422,
          -44.96315002441406
         ]
        },
        {
         "customdata": [
          [
           7.51498
          ],
          [
           14.058323999999999
          ],
          [
           23.684994
          ],
          [
           61.52401
          ],
          [
           -12.164164999999999
          ],
          [
           1.352083
          ],
          [
           4.535277
          ],
          [
           -8.874217
          ],
          [
           15.870032
          ],
          [
           -10.447525
          ],
          [
           27.514162
          ],
          [
           35.86166
          ],
          [
           23.69781
          ],
          [
           12.879721
          ],
          [
           35.907757000000004
          ],
          [
           46.862496
          ],
          [
           -0.789275
          ],
          [
           28.394857000000002
          ],
          [
           22.198745000000002
          ],
          [
           21.913965
          ],
          [
           20.593684
          ],
          [
           22.396428
          ],
          [
           7.873054
          ],
          [
           36.204824
          ],
          [
           19.856270000000002
          ],
          [
           40.339852
          ],
          [
           12.565679
          ],
          [
           4.210483999999999
          ]
         ],
         "hovertemplate": "Cluster=Cluster 3<br>0=%{x}<br>1=%{y}<br>2=%{z}<br>Feature=%{customdata[0]}<extra></extra>",
         "legendgroup": "Cluster 3",
         "marker": {
          "color": "#ab63fa",
          "opacity": 0.7,
          "symbol": "circle"
         },
         "mode": "markers",
         "name": "Cluster 3",
         "scene": "scene",
         "showlegend": true,
         "type": "scatter3d",
         "x": [
          -48.0882682800293,
          -56.11586380004883,
          -45.15031814575195,
          -129.74609375,
          -10.345772743225098,
          116.4804458618164,
          89.42919921875,
          -43.33860397338867,
          -34.783958435058594,
          -20.430034637451172,
          -70.96279907226562,
          -87.65828704833984,
          -84.21088409423828,
          -66.18089294433594,
          -114.32617950439453,
          -105.02586364746094,
          -42.95242691040039,
          -9.580961227416992,
          -83.67215728759766,
          -53.53901290893555,
          -40.5872917175293,
          121.93478393554688,
          -16.496328353881836,
          -106.5284652709961,
          -66.3499984741211,
          -101.62730407714844,
          -51.00460433959961,
          -32.23403549194336
         ],
         "y": [
          9.139726638793945,
          61.737770080566406,
          73.4545669555664,
          49.615413665771484,
          34.76287841796875,
          -58.54563522338867,
          79.33059692382812,
          50.394073486328125,
          68.5925064086914,
          63.40389633178711,
          58.853233337402344,
          87.5307388305664,
          75.84526062011719,
          32.768760681152344,
          58.55691146850586,
          64.02629089355469,
          45.060028076171875,
          -125.33670806884766,
          48.72199249267578,
          46.51188659667969,
          44.93138885498047,
          67.56414031982422,
          46.861732482910156,
          29.669038772583008,
          73.20146942138672,
          56.988037109375,
          91.7371597290039,
          37.89433288574219
         ],
         "z": [
          83.5299072265625,
          70.67398834228516,
          18.87335777282715,
          28.378602981567383,
          80.93926239013672,
          -72.11830139160156,
          -0.36370614171028137,
          111.3569564819336,
          48.60171890258789,
          83.07546997070312,
          12.661589622497559,
          26.200193405151367,
          70.65095520019531,
          70.3044204711914,
          61.520973205566406,
          28.493755340576172,
          94.47029876708984,
          -8.307358741760254,
          51.820045471191406,
          36.704345703125,
          5.165666580200195,
          6.483609199523926,
          27.596200942993164,
          73.3575668334961,
          41.806114196777344,
          88.52423095703125,
          60.30048370361328,
          59.402557373046875
         ]
        },
        {
         "customdata": [
          [
           -3.3704169999999998
          ],
          [
           -21.178986
          ],
          [
           -8.967363
          ],
          [
           -14.270972
          ],
          [
           -13.768752
          ],
          [
           -13.759029
          ],
          [
           -21.236735999999997
          ],
          [
           -17.679742
          ],
          [
           -19.054445
          ],
          [
           -24.703615
          ]
         ],
         "hovertemplate": "Cluster=Cluster 4<br>0=%{x}<br>1=%{y}<br>2=%{z}<br>Feature=%{customdata[0]}<extra></extra>",
         "legendgroup": "Cluster 4",
         "marker": {
          "color": "#FFA15A",
          "opacity": 0.7,
          "symbol": "circle"
         },
         "mode": "markers",
         "name": "Cluster 4",
         "scene": "scene",
         "showlegend": true,
         "type": "scatter3d",
         "x": [
          139.7032928466797,
          112.45703125,
          10.813226699829102,
          124.30482482910156,
          111.9254150390625,
          142.30908203125,
          112.80370330810547,
          111.45462799072266,
          -28.55558204650879,
          135.83282470703125
         ],
         "y": [
          13.129435539245605,
          -4.342148303985596,
          -63.548622131347656,
          24.939359664916992,
          -0.6174260377883911,
          -0.6397626996040344,
          -75.76727294921875,
          25.114469528198242,
          51.529701232910156,
          -24.311243057250977
         ],
         "z": [
          65.92133331298828,
          79.55412292480469,
          65.97116088867188,
          36.55158233642578,
          48.59417724609375,
          38.595062255859375,
          64.63719940185547,
          66.11475372314453,
          -142.6664581298828,
          66.45345306396484
         ]
        },
        {
         "customdata": [
          [
           -20.904304999999997
          ],
          [
           -29.040834999999998
          ],
          [
           -40.900557
          ],
          [
           -16.578193
          ],
          [
           -25.274398
          ],
          [
           7.131474000000001
          ],
          [
           7.425553999999999
          ],
          [
           -7.109535
          ],
          [
           -0.522778
          ],
          [
           -6.314993
          ],
          [
           -9.645710000000001
          ],
          [
           -15.376706
          ],
          [
           13.444304
          ],
          [
           17.33083
          ]
         ],
         "hovertemplate": "Cluster=Cluster 5<br>0=%{x}<br>1=%{y}<br>2=%{z}<br>Feature=%{customdata[0]}<extra></extra>",
         "legendgroup": "Cluster 5",
         "marker": {
          "color": "#19d3f3",
          "opacity": 0.7,
          "symbol": "circle"
         },
         "mode": "markers",
         "name": "Cluster 5",
         "scene": "scene",
         "showlegend": true,
         "type": "scatter3d",
         "x": [
          -103.40555572509766,
          -55.604488372802734,
          -63.8458366394043,
          -62.9448127746582,
          -112.4234390258789,
          -89.78956604003906,
          -79.96424865722656,
          -44.5732536315918,
          -89.60272216796875,
          -88.17929077148438,
          -74.55620574951172,
          -93.1640853881836,
          -85.7930908203125,
          -60.66353225708008
         ],
         "y": [
          61.569766998291016,
          -31.932907104492188,
          -18.69349479675293,
          -43.495506286621094,
          -7.405828475952148,
          -41.306236267089844,
          10.541069984436035,
          -14.670801162719727,
          3.49324107170105,
          -12.724245071411133,
          -14.417425155639648,
          -29.35314178466797,
          33.49052429199219,
          18.059267044067383
         ],
         "z": [
          -47.73224639892578,
          86.64453887939453,
          139.79153442382812,
          116.88545227050781,
          95.99359130859375,
          92.86195373535156,
          89.11548614501953,
          113.9266128540039,
          124.68911743164062,
          73.63082885742188,
          104.09841918945312,
          123.74838256835938,
          105.83245849609375,
          113.27118682861328
         ]
        },
        {
         "customdata": [
          [
           40.069099
          ],
          [
           41.20438
          ],
          [
           23.424076
          ],
          [
           33.93911
          ],
          [
           31.952162
          ],
          [
           40.143105
          ],
          [
           15.552726999999999
          ],
          [
           30.375321000000003
          ],
          [
           42.315407
          ],
          [
           33.854721000000005
          ],
          [
           21.512583
          ],
          [
           41.377491
          ],
          [
           29.311659999999996
          ],
          [
           38.963745
          ],
          [
           30.585164000000002
          ],
          [
           12.862807
          ],
          [
           11.825138
          ],
          [
           3.202778
          ],
          [
           31.354676
          ],
          [
           35.126413
          ],
          [
           26.820553000000004
          ],
          [
           5.152149
          ],
          [
           23.885942
          ],
          [
           25.930414000000003
          ],
          [
           34.802075
          ],
          [
           31.046051000000002
          ],
          [
           38.861034000000004
          ],
          [
           9.145
          ],
          [
           -6.343194
          ],
          [
           38.969719
          ],
          [
           33.223191
          ],
          [
           25.354826
          ],
          [
           32.427908
          ],
          [
           15.179383999999999
          ],
          [
           48.019573
          ]
         ],
         "hovertemplate": "Cluster=Cluster 6<br>0=%{x}<br>1=%{y}<br>2=%{z}<br>Feature=%{customdata[0]}<extra></extra>",
         "legendgroup": "Cluster 6",
         "marker": {
          "color": "#FF6692",
          "opacity": 0.7,
          "symbol": "circle"
         },
         "mode": "markers",
         "name": "Cluster 6",
         "scene": "scene",
         "showlegend": true,
         "type": "scatter3d",
         "x": [
          -100.72749328613281,
          -101.24069213867188,
          74.33258819580078,
          -90.06181335449219,
          -68.830078125,
          -95.5982894897461,
          -59.70441436767578,
          -75.75038146972656,
          -83.3423843383789,
          -55.89124298095703,
          -37.32419204711914,
          -107.99032592773438,
          -52.304649353027344,
          -64.60098266601562,
          -30.473440170288086,
          -30.463760375976562,
          74.39739990234375,
          30.90765953063965,
          -40.872703552246094,
          -38.07635498046875,
          -79.59040832519531,
          23.96650505065918,
          -61.07780838012695,
          -66.03717041015625,
          -67.97612762451172,
          -44.66831588745117,
          -50.06061935424805,
          -51.16884994506836,
          5.925491809844971,
          -106.80001068115234,
          84.10645294189453,
          96.70738983154297,
          -83.77753448486328,
          -55.676910400390625,
          -122.51658630371094
         ],
         "y": [
          -50.703468322753906,
          42.872135162353516,
          -31.659317016601562,
          18.06593894958496,
          -73.3240966796875,
          -33.53093338012695,
          -3.9992263317108154,
          25.360336303710938,
          -36.755950927734375,
          -43.90863800048828,
          6.443719387054443,
          13.746576309204102,
          -15.656577110290527,
          -65.33958435058594,
          -39.79812240600586,
          79.1033706665039,
          122.64798736572266,
          58.928184509277344,
          -68.3358154296875,
          -67.04578399658203,
          100.8077163696289,
          -86.72457885742188,
          12.094642639160156,
          -7.659339904785156,
          -44.4791259765625,
          -39.9636116027832,
          17.968137741088867,
          90.3272705078125,
          55.05646896362305,
          -8.824873924255371,
          -13.28565502166748,
          97.8519515991211,
          -7.972997665405273,
          59.032958984375,
          19.85463523864746
         ],
         "z": [
          5.165700912475586,
          -1.6802786588668823,
          -71.4611587524414,
          -13.8342924118042,
          21.517642974853516,
          28.179014205932617,
          44.1631965637207,
          9.751431465148926,
          -13.478119850158691,
          38.826229095458984,
          -7.694112300872803,
          14.879876136779785,
          15.370086669921875,
          -8.62523078918457,
          20.832447052001953,
          -21.88680648803711,
          11.476571083068848,
          -106.89519500732422,
          33.820255279541016,
          5.567773342132568,
          -19.029020309448242,
          95.46180725097656,
          -31.106199264526367,
          -9.684511184692383,
          13.353996276855469,
          -5.02000617980957,
          20.324487686157227,
          -41.84877014160156,
          54.05447006225586,
          -7.184724807739258,
          -108.1969223022461,
          48.06948471069336,
          15.53838062286377,
          -30.54166030883789,
          -12.320558547973633
         ]
        }
       ],
       "layout": {
        "height": 800,
        "legend": {
         "title": {
          "text": "Cluster"
         },
         "tracegroupgap": 0
        },
        "scene": {
         "domain": {
          "x": [
           0,
           1
          ],
          "y": [
           0,
           1
          ]
         },
         "xaxis": {
          "title": {
           "text": "0"
          }
         },
         "yaxis": {
          "title": {
           "text": "1"
          }
         },
         "zaxis": {
          "title": {
           "text": "2"
          }
         }
        },
        "template": {
         "data": {
          "bar": [
           {
            "error_x": {
             "color": "#2a3f5f"
            },
            "error_y": {
             "color": "#2a3f5f"
            },
            "marker": {
             "line": {
              "color": "#E5ECF6",
              "width": 0.5
             }
            },
            "type": "bar"
           }
          ],
          "barpolar": [
           {
            "marker": {
             "line": {
              "color": "#E5ECF6",
              "width": 0.5
             }
            },
            "type": "barpolar"
           }
          ],
          "carpet": [
           {
            "aaxis": {
             "endlinecolor": "#2a3f5f",
             "gridcolor": "white",
             "linecolor": "white",
             "minorgridcolor": "white",
             "startlinecolor": "#2a3f5f"
            },
            "baxis": {
             "endlinecolor": "#2a3f5f",
             "gridcolor": "white",
             "linecolor": "white",
             "minorgridcolor": "white",
             "startlinecolor": "#2a3f5f"
            },
            "type": "carpet"
           }
          ],
          "choropleth": [
           {
            "colorbar": {
             "outlinewidth": 0,
             "ticks": ""
            },
            "type": "choropleth"
           }
          ],
          "contour": [
           {
            "colorbar": {
             "outlinewidth": 0,
             "ticks": ""
            },
            "colorscale": [
             [
              0,
              "#0d0887"
             ],
             [
              0.1111111111111111,
              "#46039f"
             ],
             [
              0.2222222222222222,
              "#7201a8"
             ],
             [
              0.3333333333333333,
              "#9c179e"
             ],
             [
              0.4444444444444444,
              "#bd3786"
             ],
             [
              0.5555555555555556,
              "#d8576b"
             ],
             [
              0.6666666666666666,
              "#ed7953"
             ],
             [
              0.7777777777777778,
              "#fb9f3a"
             ],
             [
              0.8888888888888888,
              "#fdca26"
             ],
             [
              1,
              "#f0f921"
             ]
            ],
            "type": "contour"
           }
          ],
          "contourcarpet": [
           {
            "colorbar": {
             "outlinewidth": 0,
             "ticks": ""
            },
            "type": "contourcarpet"
           }
          ],
          "heatmap": [
           {
            "colorbar": {
             "outlinewidth": 0,
             "ticks": ""
            },
            "colorscale": [
             [
              0,
              "#0d0887"
             ],
             [
              0.1111111111111111,
              "#46039f"
             ],
             [
              0.2222222222222222,
              "#7201a8"
             ],
             [
              0.3333333333333333,
              "#9c179e"
             ],
             [
              0.4444444444444444,
              "#bd3786"
             ],
             [
              0.5555555555555556,
              "#d8576b"
             ],
             [
              0.6666666666666666,
              "#ed7953"
             ],
             [
              0.7777777777777778,
              "#fb9f3a"
             ],
             [
              0.8888888888888888,
              "#fdca26"
             ],
             [
              1,
              "#f0f921"
             ]
            ],
            "type": "heatmap"
           }
          ],
          "heatmapgl": [
           {
            "colorbar": {
             "outlinewidth": 0,
             "ticks": ""
            },
            "colorscale": [
             [
              0,
              "#0d0887"
             ],
             [
              0.1111111111111111,
              "#46039f"
             ],
             [
              0.2222222222222222,
              "#7201a8"
             ],
             [
              0.3333333333333333,
              "#9c179e"
             ],
             [
              0.4444444444444444,
              "#bd3786"
             ],
             [
              0.5555555555555556,
              "#d8576b"
             ],
             [
              0.6666666666666666,
              "#ed7953"
             ],
             [
              0.7777777777777778,
              "#fb9f3a"
             ],
             [
              0.8888888888888888,
              "#fdca26"
             ],
             [
              1,
              "#f0f921"
             ]
            ],
            "type": "heatmapgl"
           }
          ],
          "histogram": [
           {
            "marker": {
             "colorbar": {
              "outlinewidth": 0,
              "ticks": ""
             }
            },
            "type": "histogram"
           }
          ],
          "histogram2d": [
           {
            "colorbar": {
             "outlinewidth": 0,
             "ticks": ""
            },
            "colorscale": [
             [
              0,
              "#0d0887"
             ],
             [
              0.1111111111111111,
              "#46039f"
             ],
             [
              0.2222222222222222,
              "#7201a8"
             ],
             [
              0.3333333333333333,
              "#9c179e"
             ],
             [
              0.4444444444444444,
              "#bd3786"
             ],
             [
              0.5555555555555556,
              "#d8576b"
             ],
             [
              0.6666666666666666,
              "#ed7953"
             ],
             [
              0.7777777777777778,
              "#fb9f3a"
             ],
             [
              0.8888888888888888,
              "#fdca26"
             ],
             [
              1,
              "#f0f921"
             ]
            ],
            "type": "histogram2d"
           }
          ],
          "histogram2dcontour": [
           {
            "colorbar": {
             "outlinewidth": 0,
             "ticks": ""
            },
            "colorscale": [
             [
              0,
              "#0d0887"
             ],
             [
              0.1111111111111111,
              "#46039f"
             ],
             [
              0.2222222222222222,
              "#7201a8"
             ],
             [
              0.3333333333333333,
              "#9c179e"
             ],
             [
              0.4444444444444444,
              "#bd3786"
             ],
             [
              0.5555555555555556,
              "#d8576b"
             ],
             [
              0.6666666666666666,
              "#ed7953"
             ],
             [
              0.7777777777777778,
              "#fb9f3a"
             ],
             [
              0.8888888888888888,
              "#fdca26"
             ],
             [
              1,
              "#f0f921"
             ]
            ],
            "type": "histogram2dcontour"
           }
          ],
          "mesh3d": [
           {
            "colorbar": {
             "outlinewidth": 0,
             "ticks": ""
            },
            "type": "mesh3d"
           }
          ],
          "parcoords": [
           {
            "line": {
             "colorbar": {
              "outlinewidth": 0,
              "ticks": ""
             }
            },
            "type": "parcoords"
           }
          ],
          "pie": [
           {
            "automargin": true,
            "type": "pie"
           }
          ],
          "scatter": [
           {
            "marker": {
             "colorbar": {
              "outlinewidth": 0,
              "ticks": ""
             }
            },
            "type": "scatter"
           }
          ],
          "scatter3d": [
           {
            "line": {
             "colorbar": {
              "outlinewidth": 0,
              "ticks": ""
             }
            },
            "marker": {
             "colorbar": {
              "outlinewidth": 0,
              "ticks": ""
             }
            },
            "type": "scatter3d"
           }
          ],
          "scattercarpet": [
           {
            "marker": {
             "colorbar": {
              "outlinewidth": 0,
              "ticks": ""
             }
            },
            "type": "scattercarpet"
           }
          ],
          "scattergeo": [
           {
            "marker": {
             "colorbar": {
              "outlinewidth": 0,
              "ticks": ""
             }
            },
            "type": "scattergeo"
           }
          ],
          "scattergl": [
           {
            "marker": {
             "colorbar": {
              "outlinewidth": 0,
              "ticks": ""
             }
            },
            "type": "scattergl"
           }
          ],
          "scattermapbox": [
           {
            "marker": {
             "colorbar": {
              "outlinewidth": 0,
              "ticks": ""
             }
            },
            "type": "scattermapbox"
           }
          ],
          "scatterpolar": [
           {
            "marker": {
             "colorbar": {
              "outlinewidth": 0,
              "ticks": ""
             }
            },
            "type": "scatterpolar"
           }
          ],
          "scatterpolargl": [
           {
            "marker": {
             "colorbar": {
              "outlinewidth": 0,
              "ticks": ""
             }
            },
            "type": "scatterpolargl"
           }
          ],
          "scatterternary": [
           {
            "marker": {
             "colorbar": {
              "outlinewidth": 0,
              "ticks": ""
             }
            },
            "type": "scatterternary"
           }
          ],
          "surface": [
           {
            "colorbar": {
             "outlinewidth": 0,
             "ticks": ""
            },
            "colorscale": [
             [
              0,
              "#0d0887"
             ],
             [
              0.1111111111111111,
              "#46039f"
             ],
             [
              0.2222222222222222,
              "#7201a8"
             ],
             [
              0.3333333333333333,
              "#9c179e"
             ],
             [
              0.4444444444444444,
              "#bd3786"
             ],
             [
              0.5555555555555556,
              "#d8576b"
             ],
             [
              0.6666666666666666,
              "#ed7953"
             ],
             [
              0.7777777777777778,
              "#fb9f3a"
             ],
             [
              0.8888888888888888,
              "#fdca26"
             ],
             [
              1,
              "#f0f921"
             ]
            ],
            "type": "surface"
           }
          ],
          "table": [
           {
            "cells": {
             "fill": {
              "color": "#EBF0F8"
             },
             "line": {
              "color": "white"
             }
            },
            "header": {
             "fill": {
              "color": "#C8D4E3"
             },
             "line": {
              "color": "white"
             }
            },
            "type": "table"
           }
          ]
         },
         "layout": {
          "annotationdefaults": {
           "arrowcolor": "#2a3f5f",
           "arrowhead": 0,
           "arrowwidth": 1
          },
          "autotypenumbers": "strict",
          "coloraxis": {
           "colorbar": {
            "outlinewidth": 0,
            "ticks": ""
           }
          },
          "colorscale": {
           "diverging": [
            [
             0,
             "#8e0152"
            ],
            [
             0.1,
             "#c51b7d"
            ],
            [
             0.2,
             "#de77ae"
            ],
            [
             0.3,
             "#f1b6da"
            ],
            [
             0.4,
             "#fde0ef"
            ],
            [
             0.5,
             "#f7f7f7"
            ],
            [
             0.6,
             "#e6f5d0"
            ],
            [
             0.7,
             "#b8e186"
            ],
            [
             0.8,
             "#7fbc41"
            ],
            [
             0.9,
             "#4d9221"
            ],
            [
             1,
             "#276419"
            ]
           ],
           "sequential": [
            [
             0,
             "#0d0887"
            ],
            [
             0.1111111111111111,
             "#46039f"
            ],
            [
             0.2222222222222222,
             "#7201a8"
            ],
            [
             0.3333333333333333,
             "#9c179e"
            ],
            [
             0.4444444444444444,
             "#bd3786"
            ],
            [
             0.5555555555555556,
             "#d8576b"
            ],
            [
             0.6666666666666666,
             "#ed7953"
            ],
            [
             0.7777777777777778,
             "#fb9f3a"
            ],
            [
             0.8888888888888888,
             "#fdca26"
            ],
            [
             1,
             "#f0f921"
            ]
           ],
           "sequentialminus": [
            [
             0,
             "#0d0887"
            ],
            [
             0.1111111111111111,
             "#46039f"
            ],
            [
             0.2222222222222222,
             "#7201a8"
            ],
            [
             0.3333333333333333,
             "#9c179e"
            ],
            [
             0.4444444444444444,
             "#bd3786"
            ],
            [
             0.5555555555555556,
             "#d8576b"
            ],
            [
             0.6666666666666666,
             "#ed7953"
            ],
            [
             0.7777777777777778,
             "#fb9f3a"
            ],
            [
             0.8888888888888888,
             "#fdca26"
            ],
            [
             1,
             "#f0f921"
            ]
           ]
          },
          "colorway": [
           "#636efa",
           "#EF553B",
           "#00cc96",
           "#ab63fa",
           "#FFA15A",
           "#19d3f3",
           "#FF6692",
           "#B6E880",
           "#FF97FF",
           "#FECB52"
          ],
          "font": {
           "color": "#2a3f5f"
          },
          "geo": {
           "bgcolor": "white",
           "lakecolor": "white",
           "landcolor": "#E5ECF6",
           "showlakes": true,
           "showland": true,
           "subunitcolor": "white"
          },
          "hoverlabel": {
           "align": "left"
          },
          "hovermode": "closest",
          "mapbox": {
           "style": "light"
          },
          "paper_bgcolor": "white",
          "plot_bgcolor": "#E5ECF6",
          "polar": {
           "angularaxis": {
            "gridcolor": "white",
            "linecolor": "white",
            "ticks": ""
           },
           "bgcolor": "#E5ECF6",
           "radialaxis": {
            "gridcolor": "white",
            "linecolor": "white",
            "ticks": ""
           }
          },
          "scene": {
           "xaxis": {
            "backgroundcolor": "#E5ECF6",
            "gridcolor": "white",
            "gridwidth": 2,
            "linecolor": "white",
            "showbackground": true,
            "ticks": "",
            "zerolinecolor": "white"
           },
           "yaxis": {
            "backgroundcolor": "#E5ECF6",
            "gridcolor": "white",
            "gridwidth": 2,
            "linecolor": "white",
            "showbackground": true,
            "ticks": "",
            "zerolinecolor": "white"
           },
           "zaxis": {
            "backgroundcolor": "#E5ECF6",
            "gridcolor": "white",
            "gridwidth": 2,
            "linecolor": "white",
            "showbackground": true,
            "ticks": "",
            "zerolinecolor": "white"
           }
          },
          "shapedefaults": {
           "line": {
            "color": "#2a3f5f"
           }
          },
          "ternary": {
           "aaxis": {
            "gridcolor": "white",
            "linecolor": "white",
            "ticks": ""
           },
           "baxis": {
            "gridcolor": "white",
            "linecolor": "white",
            "ticks": ""
           },
           "bgcolor": "#E5ECF6",
           "caxis": {
            "gridcolor": "white",
            "linecolor": "white",
            "ticks": ""
           }
          },
          "title": {
           "x": 0.05
          },
          "xaxis": {
           "automargin": true,
           "gridcolor": "white",
           "linecolor": "white",
           "ticks": "",
           "title": {
            "standoff": 15
           },
           "zerolinecolor": "white",
           "zerolinewidth": 2
          },
          "yaxis": {
           "automargin": true,
           "gridcolor": "white",
           "linecolor": "white",
           "ticks": "",
           "title": {
            "standoff": 15
           },
           "zerolinecolor": "white",
           "zerolinewidth": 2
          }
         }
        },
        "title": {
         "text": "3d TSNE Plot for Clusters"
        },
        "width": 900
       }
      },
      "text/html": [
       "<div>                            <div id=\"f0f92125-7a40-4e84-bd73-3591efbe399b\" class=\"plotly-graph-div\" style=\"height:800px; width:900px;\"></div>            <script type=\"text/javascript\">                require([\"plotly\"], function(Plotly) {                    window.PLOTLYENV=window.PLOTLYENV || {};                                    if (document.getElementById(\"f0f92125-7a40-4e84-bd73-3591efbe399b\")) {                    Plotly.newPlot(                        \"f0f92125-7a40-4e84-bd73-3591efbe399b\",                        [{\"customdata\": [[-19.015438], [-18.665695], [-22.957639999999998], [-54.423199], [-22.328474], [-49.280366], [-4.038333000000001], [6.611111], [-0.228021], [-26.522503000000004], [-0.803689], [7.369722], [0.18636], [-21.115141], [-1.940278], [-4.679574], [-13.133897], [-24.143473999999998], [-3.3730559999999996], [-6.369028], [1.6508009999999997], [-18.766947000000002], [-13.254307999999998], [-30.559482], [-12.8275], [-75.250973], [-20.348404000000002], [-11.875001], [-11.202691999999999], [-53.08181], [1.373333], [-29.609988], [-0.023559]], \"hovertemplate\": \"Cluster=Cluster 0<br>0=%{x}<br>1=%{y}<br>2=%{z}<br>Feature=%{customdata[0]}<extra></extra>\", \"legendgroup\": \"Cluster 0\", \"marker\": {\"color\": \"#636efa\", \"opacity\": 0.7, \"symbol\": \"circle\"}, \"mode\": \"markers\", \"name\": \"Cluster 0\", \"scene\": \"scene\", \"showlegend\": true, \"type\": \"scatter3d\", \"x\": [14.154033660888672, 0.5841493606567383, 8.756576538085938, 68.84883880615234, 126.01504516601562, -2.003063678741455, 21.967695236206055, -5.423291206359863, 22.970943450927734, 32.83881378173828, 25.263866424560547, 39.335182189941406, 9.48228931427002, 3.711643695831299, -0.48535239696502686, 7.503929138183594, 17.119592666625977, 15.054895401000977, -10.2861328125, -17.610734939575195, 49.6723747253418, -16.94784164428711, 30.062116622924805, 47.068809509277344, 34.16520690917969, 45.497745513916016, 24.124805450439453, -2.6259677410125732, 39.233238220214844, 10.346980094909668, -29.348411560058594, -6.8897385597229, -36.09328842163086], \"y\": [-110.58958435058594, 147.21266174316406, -116.91162109375, 66.5050277709961, -6.783353805541992, 97.81910705566406, 104.12419891357422, 92.48409271240234, 102.78631591796875, 124.08744812011719, 95.39214324951172, 77.55091857910156, 77.27259063720703, 92.26782989501953, 120.85333251953125, 81.03189086914062, 134.8968505859375, -132.54685974121094, 100.83289337158203, 130.9575958251953, 89.8646011352539, 126.1585693359375, -107.59144592285156, 97.11534881591797, 95.91625213623047, 59.20087432861328, 70.07551574707031, 114.02955627441406, 125.50770568847656, 117.8502197265625, 112.4914779663086, -112.43852996826172, -114.96581268310547], \"z\": [-44.80520248413086, -35.89966583251953, 45.801090240478516, 32.393123626708984, -83.4686508178711, 99.24896240234375, -0.8751000165939331, -41.062583923339844, -32.438865661621094, 41.461368560791016, -61.132511138916016, -18.319522857666016, -14.762986183166504, 65.50049591064453, -16.034080505371094, 35.98584747314453, 10.688920974731445, 39.75266647338867, 4.13909912109375, 9.397804260253906, -43.311851501464844, -59.79097366333008, -75.0457534790039, 26.78643226623535, 63.45909118652344, 39.02621841430664, 83.08232879638672, 38.64965057373047, -16.60056495666504, 90.29972076416016, -18.988597869873047, 74.93500518798828, 32.340511322021484]}, {\"customdata\": [[46.941936], [-23.442503], [-51.796253], [13.909444], [17.357822], [18.220833], [-9.189967], [23.634501], [14.641528], [12.262775999999999], [8.537981], [3.9338889999999997], [18.971187], [16.742498], [15.199998999999998], [12.865416], [16.995971], [18.735692999999998], [-54.429579000000004], [15.783470999999999], [4.860416000000001], [18.109581], [15.414999], [-1.8312389999999998], [19.513469], [6.42375], [-32.522779], [13.193887], [37.09024], [18.420695000000002], [10.691803], [32.321384], [-16.290154], [-14.235004], [25.03428], [12.52111], [56.130366], [21.694025], [13.794185], [17.189877], [-35.675146999999996], [17.060816], [18.220554], [18.335765], [12.226078999999999], [-38.416097], [21.521757], [3.9193050000000005], [9.748917], [4.570868], [12.984305]], \"hovertemplate\": \"Cluster=Cluster 1<br>0=%{x}<br>1=%{y}<br>2=%{z}<br>Feature=%{customdata[0]}<extra></extra>\", \"legendgroup\": \"Cluster 1\", \"marker\": {\"color\": \"#EF553B\", \"opacity\": 0.7, \"symbol\": \"circle\"}, \"mode\": \"markers\", \"name\": \"Cluster 1\", \"scene\": \"scene\", \"showlegend\": true, \"type\": \"scatter3d\", \"x\": [64.74373626708984, 98.1368179321289, 50.84614562988281, 7.264091491699219, 33.32692337036133, -108.99395751953125, 12.593796730041504, 137.12171936035156, 73.07228088378906, 31.451496124267578, 125.97228240966797, 9.525260925292969, 86.75102233886719, 56.90737533569336, 117.59302520751953, 106.62239074707031, 59.03256607055664, 105.49079895019531, 60.6204948425293, 117.00389862060547, 37.9157600402832, 90.82176208496094, 84.89327239990234, -53.155452728271484, 82.15219116210938, 46.01187515258789, 72.01962280273438, 18.923126220703125, 113.25172424316406, 63.90854263305664, 94.82427978515625, 74.53639221191406, 40.408775329589844, 18.781444549560547, 78.33690643310547, 43.0817985534668, 108.5913314819336, 81.2684555053711, 136.25274658203125, 144.16656494140625, 51.76523971557617, 98.56424713134766, 34.31239700317383, 66.12125396728516, 56.08836364746094, 69.88520050048828, 88.1382064819336, 12.986677169799805, 111.17378234863281, -78.033203125, 56.27070999145508], \"y\": [-75.5104751586914, 43.5513801574707, 23.423019409179688, -70.8501205444336, -77.16763305664062, 4.733213901519775, 7.706875801086426, -79.52717590332031, 41.69489669799805, -53.406612396240234, -55.56389236450195, -45.108760833740234, -11.684494018554688, -102.66426849365234, -25.241056442260742, -33.23334884643555, -99.00342559814453, 13.92625617980957, 35.06898498535156, -56.35316848754883, -34.59291076660156, -61.385501861572266, 8.689477920532227, -8.313937187194824, -24.5101318359375, -22.465713500976562, 44.460411071777344, -40.375240325927734, -75.25932312011719, -76.34368133544922, -3.1851813793182373, -87.78707885742188, 1.743507742881775, -14.51916790008545, -43.42707061767578, -63.89884948730469, -102.75011444091797, -54.42993927001953, -44.96589660644531, -40.4189567565918, -7.510810852050781, 35.78443908691406, -85.4935073852539, -72.83856201171875, -39.58291244506836, 7.25825309753418, -44.18048095703125, -22.665090560913086, -30.09403419494629, -90.12196350097656, -52.33368682861328], \"z\": [-66.13372039794922, -103.10631561279297, 78.15382385253906, 6.736366271972656, 30.101455688476562, -65.29104614257812, 35.86665344238281, 1.5073165893554688, -72.0968017578125, 6.970333099365234, 37.09131622314453, 34.48430633544922, -4.161057472229004, -14.035229682922363, 10.08939266204834, 35.66358947753906, 18.173250198364258, -8.636916160583496, 51.73093795776367, 7.161472320556641, 39.073272705078125, 22.62405014038086, -67.38311767578125, -138.1924285888672, 21.0983943939209, 9.940130233764648, 79.16358184814453, -15.813331604003906, -20.326154708862305, 38.75846481323242, -39.18990707397461, -39.76424026489258, 46.5956916809082, 61.21131896972656, 48.68260192871094, -26.839672088623047, -10.21902847290039, -29.43146514892578, -15.074261665344238, 13.775046348571777, 78.80789184570312, -45.62516784667969, -1.8064098358154297, -2.4275834560394287, -14.41714859008789, 62.40665054321289, -1.5314643383026123, 15.38764762878418, -19.760929107666016, 61.756591796875, 19.42343521118164]}, {\"customdata\": [[47.411631], [55.169438], [31.791702], [26.3351], [42.708678000000006], [56.879635], [6.4280550000000005], [41.608635], [47.166000000000004], [42.602636], [17.570692], [49.815273], [43.750298], [77.553604], [41.902916], [48.669026], [8.460555000000001], [60.128161], [43.94236], [14.497401000000002], [44.016521000000004], [45.943160999999996], [39.399871999999995], [51.919438], [15.454166], [60.472024], [52.132633], [8.619543], [9.081999], [17.607789], [33.886917], [46.151241], [null], [35.937496], [21.00789], [48.379433], [42.546245], [61.92411], [47.162494], [45.1], [49.817492], [51.165690999999995], [11.803749], [56.26392], [28.033886], [39.074208], [9.945587], [13.443182], [58.595271999999994], [71.706936], [36.137741], [7.946527000000001], [49.465691], [24.215526999999998], [40.463667], [61.892635], [46.227638], [55.378051], [7.539989], [16.002082], [43.915886], [42.733883], [49.214439], [46.818188], [41.87194], [64.96305100000001], [9.30769], [12.238333], [50.503887], [47.516231], [54.236107], [53.709807], [53.41291], [41.153332]], \"hovertemplate\": \"Cluster=Cluster 2<br>0=%{x}<br>1=%{y}<br>2=%{z}<br>Feature=%{customdata[0]}<extra></extra>\", \"legendgroup\": \"Cluster 2\", \"marker\": {\"color\": \"#00cc96\", \"opacity\": 0.7, \"symbol\": \"circle\"}, \"mode\": \"markers\", \"name\": \"Cluster 2\", \"scene\": \"scene\", \"showlegend\": true, \"type\": \"scatter3d\", \"x\": [140.8037109375, -15.170418739318848, -114.95398712158203, -19.792736053466797, -87.50553131103516, -55.59151840209961, 33.21116256713867, -26.687068939208984, -34.296504974365234, -62.891944885253906, -56.49443435668945, 14.080305099487305, 9.378326416015625, -50.68583297729492, -6.8261566162109375, -24.37322998046875, 58.497100830078125, -26.641357421875, 63.82356643676758, 60.52853012084961, -36.857486724853516, -55.85668182373047, 39.469879150390625, -7.771759986877441, -12.940382957458496, 32.02569580078125, -15.714503288269043, 18.566240310668945, 19.865842819213867, 11.321374893188477, -111.4024887084961, -40.99080276489258, -0.09734948724508286, -28.31334686279297, 19.103466033935547, -29.39838218688965, 45.37794876098633, -59.93208312988281, -0.906161904335022, -42.35963821411133, -68.92858123779297, -15.143821716308594, 58.04375076293945, -2.424661874771118, 18.43853187561035, -19.810203552246094, -75.31978607177734, 32.392906188964844, -42.4714241027832, 60.20879364013672, -106.76492309570312, -58.59537887573242, 26.8869686126709, 43.027130126953125, 34.78182601928711, 29.916715621948242, 19.63050079345703, 10.140235900878906, 5.592658996582031, 54.95392608642578, 145.19180297851562, -36.79692840576172, -85.29911041259766, 20.296621322631836, -22.124065399169922, 55.908538818359375, 44.49597930908203, 31.411266326904297, -1.1234781742095947, -42.6033935546875, 15.054853439331055, -70.74579620361328, 42.75885009765625, -49.96745681762695], \"y\": [37.677913665771484, 22.896778106689453, -67.04464721679688, 30.47833824157715, -75.0881576538086, -78.63038635253906, 29.69163703918457, -58.340492248535156, -75.11461639404297, -96.87442779541016, 33.024749755859375, 18.951217651367188, -38.28146743774414, -75.24584197998047, -8.769237518310547, -71.94770812988281, 46.18511199951172, -91.30437469482422, -66.70321655273438, 23.6467342376709, 5.461902618408203, -68.12933349609375, 4.8998613357543945, -42.80781936645508, 61.104408264160156, -41.42145538330078, -38.67002868652344, 51.02100372314453, 69.56553649902344, 41.60914611816406, -32.7288932800293, -21.623380661010742, 63.35503387451172, -3.604477882385254, 2.162645101547241, -87.84474182128906, 5.329373359680176, -102.72007751464844, -15.064351081848145, 61.181514739990234, -38.6841926574707, -51.4833869934082, 17.832773208618164, -69.12162780761719, 21.44350814819336, -29.964542388916016, 8.9771146774292, 4.87866735458374, -108.8401870727539, -69.13314056396484, -50.3997688293457, 36.10725402832031, -30.708906173706055, 5.365848541259766, -18.87364387512207, -54.1413459777832, -51.05284881591797, -30.343196868896484, 23.633825302124023, -5.0178375244140625, -2.34255051612854, -94.22901153564453, 130.997314453125, 44.985347747802734, -32.32223129272461, -51.993125915527344, 54.87723159790039, 36.58420944213867, -22.911285400390625, -48.81882858276367, -4.344137668609619, -96.08354187011719, -20.393415451049805, -34.18434143066406], \"z\": [-54.64470672607422, -108.59198760986328, -66.25200653076172, -49.37012481689453, -34.97792053222656, -88.9588394165039, -28.59652328491211, -37.29080581665039, 78.11882781982422, -29.553922653198242, -102.52015686035156, 114.21296691894531, -64.1608657836914, -125.61192321777344, -71.2525863647461, -67.26500701904297, -13.162715911865234, -103.03145599365234, 92.07905578613281, -35.656307220458984, -77.10325622558594, -47.8914794921875, -103.36680603027344, 89.37503814697266, -41.7203254699707, 117.7386474609375, -125.04391479492188, -15.754551887512207, -43.50636291503906, -51.90518569946289, -47.9995002746582, -91.5743179321289, -67.34579467773438, -46.59078598022461, -40.486392974853516, -19.147546768188477, 127.622802734375, -106.8353042602539, 104.41903686523438, -86.05057525634766, -74.2248764038086, -95.09284973144531, -3.2665505409240723, -117.97481536865234, -76.38508605957031, -28.52886390686035, -88.24527740478516, -12.54814338684082, -81.43749237060547, -98.56965637207031, -90.42031860351562, -64.09257507324219, -114.24231719970703, -57.58625793457031, -84.86093139648438, -139.86769104003906, -91.39616394042969, -145.17398071289062, -12.794210433959961, -30.176401138305664, -37.05753707885742, -47.059226989746094, 46.5151481628418, 133.37890625, -63.48046112060547, -122.87937927246094, -44.36061096191406, 5.605012893676758, -103.18416595458984, -81.44898986816406, -129.93971252441406, -68.83712768554688, -138.7341766357422, -44.96315002441406]}, {\"customdata\": [[7.51498], [14.058323999999999], [23.684994], [61.52401], [-12.164164999999999], [1.352083], [4.535277], [-8.874217], [15.870032], [-10.447525], [27.514162], [35.86166], [23.69781], [12.879721], [35.907757000000004], [46.862496], [-0.789275], [28.394857000000002], [22.198745000000002], [21.913965], [20.593684], [22.396428], [7.873054], [36.204824], [19.856270000000002], [40.339852], [12.565679], [4.210483999999999]], \"hovertemplate\": \"Cluster=Cluster 3<br>0=%{x}<br>1=%{y}<br>2=%{z}<br>Feature=%{customdata[0]}<extra></extra>\", \"legendgroup\": \"Cluster 3\", \"marker\": {\"color\": \"#ab63fa\", \"opacity\": 0.7, \"symbol\": \"circle\"}, \"mode\": \"markers\", \"name\": \"Cluster 3\", \"scene\": \"scene\", \"showlegend\": true, \"type\": \"scatter3d\", \"x\": [-48.0882682800293, -56.11586380004883, -45.15031814575195, -129.74609375, -10.345772743225098, 116.4804458618164, 89.42919921875, -43.33860397338867, -34.783958435058594, -20.430034637451172, -70.96279907226562, -87.65828704833984, -84.21088409423828, -66.18089294433594, -114.32617950439453, -105.02586364746094, -42.95242691040039, -9.580961227416992, -83.67215728759766, -53.53901290893555, -40.5872917175293, 121.93478393554688, -16.496328353881836, -106.5284652709961, -66.3499984741211, -101.62730407714844, -51.00460433959961, -32.23403549194336], \"y\": [9.139726638793945, 61.737770080566406, 73.4545669555664, 49.615413665771484, 34.76287841796875, -58.54563522338867, 79.33059692382812, 50.394073486328125, 68.5925064086914, 63.40389633178711, 58.853233337402344, 87.5307388305664, 75.84526062011719, 32.768760681152344, 58.55691146850586, 64.02629089355469, 45.060028076171875, -125.33670806884766, 48.72199249267578, 46.51188659667969, 44.93138885498047, 67.56414031982422, 46.861732482910156, 29.669038772583008, 73.20146942138672, 56.988037109375, 91.7371597290039, 37.89433288574219], \"z\": [83.5299072265625, 70.67398834228516, 18.87335777282715, 28.378602981567383, 80.93926239013672, -72.11830139160156, -0.36370614171028137, 111.3569564819336, 48.60171890258789, 83.07546997070312, 12.661589622497559, 26.200193405151367, 70.65095520019531, 70.3044204711914, 61.520973205566406, 28.493755340576172, 94.47029876708984, -8.307358741760254, 51.820045471191406, 36.704345703125, 5.165666580200195, 6.483609199523926, 27.596200942993164, 73.3575668334961, 41.806114196777344, 88.52423095703125, 60.30048370361328, 59.402557373046875]}, {\"customdata\": [[-3.3704169999999998], [-21.178986], [-8.967363], [-14.270972], [-13.768752], [-13.759029], [-21.236735999999997], [-17.679742], [-19.054445], [-24.703615]], \"hovertemplate\": \"Cluster=Cluster 4<br>0=%{x}<br>1=%{y}<br>2=%{z}<br>Feature=%{customdata[0]}<extra></extra>\", \"legendgroup\": \"Cluster 4\", \"marker\": {\"color\": \"#FFA15A\", \"opacity\": 0.7, \"symbol\": \"circle\"}, \"mode\": \"markers\", \"name\": \"Cluster 4\", \"scene\": \"scene\", \"showlegend\": true, \"type\": \"scatter3d\", \"x\": [139.7032928466797, 112.45703125, 10.813226699829102, 124.30482482910156, 111.9254150390625, 142.30908203125, 112.80370330810547, 111.45462799072266, -28.55558204650879, 135.83282470703125], \"y\": [13.129435539245605, -4.342148303985596, -63.548622131347656, 24.939359664916992, -0.6174260377883911, -0.6397626996040344, -75.76727294921875, 25.114469528198242, 51.529701232910156, -24.311243057250977], \"z\": [65.92133331298828, 79.55412292480469, 65.97116088867188, 36.55158233642578, 48.59417724609375, 38.595062255859375, 64.63719940185547, 66.11475372314453, -142.6664581298828, 66.45345306396484]}, {\"customdata\": [[-20.904304999999997], [-29.040834999999998], [-40.900557], [-16.578193], [-25.274398], [7.131474000000001], [7.425553999999999], [-7.109535], [-0.522778], [-6.314993], [-9.645710000000001], [-15.376706], [13.444304], [17.33083]], \"hovertemplate\": \"Cluster=Cluster 5<br>0=%{x}<br>1=%{y}<br>2=%{z}<br>Feature=%{customdata[0]}<extra></extra>\", \"legendgroup\": \"Cluster 5\", \"marker\": {\"color\": \"#19d3f3\", \"opacity\": 0.7, \"symbol\": \"circle\"}, \"mode\": \"markers\", \"name\": \"Cluster 5\", \"scene\": \"scene\", \"showlegend\": true, \"type\": \"scatter3d\", \"x\": [-103.40555572509766, -55.604488372802734, -63.8458366394043, -62.9448127746582, -112.4234390258789, -89.78956604003906, -79.96424865722656, -44.5732536315918, -89.60272216796875, -88.17929077148438, -74.55620574951172, -93.1640853881836, -85.7930908203125, -60.66353225708008], \"y\": [61.569766998291016, -31.932907104492188, -18.69349479675293, -43.495506286621094, -7.405828475952148, -41.306236267089844, 10.541069984436035, -14.670801162719727, 3.49324107170105, -12.724245071411133, -14.417425155639648, -29.35314178466797, 33.49052429199219, 18.059267044067383], \"z\": [-47.73224639892578, 86.64453887939453, 139.79153442382812, 116.88545227050781, 95.99359130859375, 92.86195373535156, 89.11548614501953, 113.9266128540039, 124.68911743164062, 73.63082885742188, 104.09841918945312, 123.74838256835938, 105.83245849609375, 113.27118682861328]}, {\"customdata\": [[40.069099], [41.20438], [23.424076], [33.93911], [31.952162], [40.143105], [15.552726999999999], [30.375321000000003], [42.315407], [33.854721000000005], [21.512583], [41.377491], [29.311659999999996], [38.963745], [30.585164000000002], [12.862807], [11.825138], [3.202778], [31.354676], [35.126413], [26.820553000000004], [5.152149], [23.885942], [25.930414000000003], [34.802075], [31.046051000000002], [38.861034000000004], [9.145], [-6.343194], [38.969719], [33.223191], [25.354826], [32.427908], [15.179383999999999], [48.019573]], \"hovertemplate\": \"Cluster=Cluster 6<br>0=%{x}<br>1=%{y}<br>2=%{z}<br>Feature=%{customdata[0]}<extra></extra>\", \"legendgroup\": \"Cluster 6\", \"marker\": {\"color\": \"#FF6692\", \"opacity\": 0.7, \"symbol\": \"circle\"}, \"mode\": \"markers\", \"name\": \"Cluster 6\", \"scene\": \"scene\", \"showlegend\": true, \"type\": \"scatter3d\", \"x\": [-100.72749328613281, -101.24069213867188, 74.33258819580078, -90.06181335449219, -68.830078125, -95.5982894897461, -59.70441436767578, -75.75038146972656, -83.3423843383789, -55.89124298095703, -37.32419204711914, -107.99032592773438, -52.304649353027344, -64.60098266601562, -30.473440170288086, -30.463760375976562, 74.39739990234375, 30.90765953063965, -40.872703552246094, -38.07635498046875, -79.59040832519531, 23.96650505065918, -61.07780838012695, -66.03717041015625, -67.97612762451172, -44.66831588745117, -50.06061935424805, -51.16884994506836, 5.925491809844971, -106.80001068115234, 84.10645294189453, 96.70738983154297, -83.77753448486328, -55.676910400390625, -122.51658630371094], \"y\": [-50.703468322753906, 42.872135162353516, -31.659317016601562, 18.06593894958496, -73.3240966796875, -33.53093338012695, -3.9992263317108154, 25.360336303710938, -36.755950927734375, -43.90863800048828, 6.443719387054443, 13.746576309204102, -15.656577110290527, -65.33958435058594, -39.79812240600586, 79.1033706665039, 122.64798736572266, 58.928184509277344, -68.3358154296875, -67.04578399658203, 100.8077163696289, -86.72457885742188, 12.094642639160156, -7.659339904785156, -44.4791259765625, -39.9636116027832, 17.968137741088867, 90.3272705078125, 55.05646896362305, -8.824873924255371, -13.28565502166748, 97.8519515991211, -7.972997665405273, 59.032958984375, 19.85463523864746], \"z\": [5.165700912475586, -1.6802786588668823, -71.4611587524414, -13.8342924118042, 21.517642974853516, 28.179014205932617, 44.1631965637207, 9.751431465148926, -13.478119850158691, 38.826229095458984, -7.694112300872803, 14.879876136779785, 15.370086669921875, -8.62523078918457, 20.832447052001953, -21.88680648803711, 11.476571083068848, -106.89519500732422, 33.820255279541016, 5.567773342132568, -19.029020309448242, 95.46180725097656, -31.106199264526367, -9.684511184692383, 13.353996276855469, -5.02000617980957, 20.324487686157227, -41.84877014160156, 54.05447006225586, -7.184724807739258, -108.1969223022461, 48.06948471069336, 15.53838062286377, -30.54166030883789, -12.320558547973633]}],                        {\"height\": 800, \"legend\": {\"title\": {\"text\": \"Cluster\"}, \"tracegroupgap\": 0}, \"scene\": {\"domain\": {\"x\": [0.0, 1.0], \"y\": [0.0, 1.0]}, \"xaxis\": {\"title\": {\"text\": \"0\"}}, \"yaxis\": {\"title\": {\"text\": \"1\"}}, \"zaxis\": {\"title\": {\"text\": \"2\"}}}, \"template\": {\"data\": {\"bar\": [{\"error_x\": {\"color\": \"#2a3f5f\"}, \"error_y\": {\"color\": \"#2a3f5f\"}, \"marker\": {\"line\": {\"color\": \"#E5ECF6\", \"width\": 0.5}}, \"type\": \"bar\"}], \"barpolar\": [{\"marker\": {\"line\": {\"color\": \"#E5ECF6\", \"width\": 0.5}}, \"type\": \"barpolar\"}], \"carpet\": [{\"aaxis\": {\"endlinecolor\": \"#2a3f5f\", \"gridcolor\": \"white\", \"linecolor\": \"white\", \"minorgridcolor\": \"white\", \"startlinecolor\": \"#2a3f5f\"}, \"baxis\": {\"endlinecolor\": \"#2a3f5f\", \"gridcolor\": \"white\", \"linecolor\": \"white\", \"minorgridcolor\": \"white\", \"startlinecolor\": \"#2a3f5f\"}, \"type\": \"carpet\"}], \"choropleth\": [{\"colorbar\": {\"outlinewidth\": 0, \"ticks\": \"\"}, \"type\": \"choropleth\"}], \"contour\": [{\"colorbar\": {\"outlinewidth\": 0, \"ticks\": \"\"}, \"colorscale\": [[0.0, \"#0d0887\"], [0.1111111111111111, \"#46039f\"], [0.2222222222222222, \"#7201a8\"], [0.3333333333333333, \"#9c179e\"], [0.4444444444444444, \"#bd3786\"], [0.5555555555555556, \"#d8576b\"], [0.6666666666666666, \"#ed7953\"], [0.7777777777777778, \"#fb9f3a\"], [0.8888888888888888, \"#fdca26\"], [1.0, \"#f0f921\"]], \"type\": \"contour\"}], \"contourcarpet\": [{\"colorbar\": {\"outlinewidth\": 0, \"ticks\": \"\"}, \"type\": \"contourcarpet\"}], \"heatmap\": [{\"colorbar\": {\"outlinewidth\": 0, \"ticks\": \"\"}, \"colorscale\": [[0.0, \"#0d0887\"], [0.1111111111111111, \"#46039f\"], [0.2222222222222222, \"#7201a8\"], [0.3333333333333333, \"#9c179e\"], [0.4444444444444444, \"#bd3786\"], [0.5555555555555556, \"#d8576b\"], [0.6666666666666666, \"#ed7953\"], [0.7777777777777778, \"#fb9f3a\"], [0.8888888888888888, \"#fdca26\"], [1.0, \"#f0f921\"]], \"type\": \"heatmap\"}], \"heatmapgl\": [{\"colorbar\": {\"outlinewidth\": 0, \"ticks\": \"\"}, \"colorscale\": [[0.0, \"#0d0887\"], [0.1111111111111111, \"#46039f\"], [0.2222222222222222, \"#7201a8\"], [0.3333333333333333, \"#9c179e\"], [0.4444444444444444, \"#bd3786\"], [0.5555555555555556, \"#d8576b\"], [0.6666666666666666, \"#ed7953\"], [0.7777777777777778, \"#fb9f3a\"], [0.8888888888888888, \"#fdca26\"], [1.0, \"#f0f921\"]], \"type\": \"heatmapgl\"}], \"histogram\": [{\"marker\": {\"colorbar\": {\"outlinewidth\": 0, \"ticks\": \"\"}}, \"type\": \"histogram\"}], \"histogram2d\": [{\"colorbar\": {\"outlinewidth\": 0, \"ticks\": \"\"}, \"colorscale\": [[0.0, \"#0d0887\"], [0.1111111111111111, \"#46039f\"], [0.2222222222222222, \"#7201a8\"], [0.3333333333333333, \"#9c179e\"], [0.4444444444444444, \"#bd3786\"], [0.5555555555555556, \"#d8576b\"], [0.6666666666666666, \"#ed7953\"], [0.7777777777777778, \"#fb9f3a\"], [0.8888888888888888, \"#fdca26\"], [1.0, \"#f0f921\"]], \"type\": \"histogram2d\"}], \"histogram2dcontour\": [{\"colorbar\": {\"outlinewidth\": 0, \"ticks\": \"\"}, \"colorscale\": [[0.0, \"#0d0887\"], [0.1111111111111111, \"#46039f\"], [0.2222222222222222, \"#7201a8\"], [0.3333333333333333, \"#9c179e\"], [0.4444444444444444, \"#bd3786\"], [0.5555555555555556, \"#d8576b\"], [0.6666666666666666, \"#ed7953\"], [0.7777777777777778, \"#fb9f3a\"], [0.8888888888888888, \"#fdca26\"], [1.0, \"#f0f921\"]], \"type\": \"histogram2dcontour\"}], \"mesh3d\": [{\"colorbar\": {\"outlinewidth\": 0, \"ticks\": \"\"}, \"type\": \"mesh3d\"}], \"parcoords\": [{\"line\": {\"colorbar\": {\"outlinewidth\": 0, \"ticks\": \"\"}}, \"type\": \"parcoords\"}], \"pie\": [{\"automargin\": true, \"type\": \"pie\"}], \"scatter\": [{\"marker\": {\"colorbar\": {\"outlinewidth\": 0, \"ticks\": \"\"}}, \"type\": \"scatter\"}], \"scatter3d\": [{\"line\": {\"colorbar\": {\"outlinewidth\": 0, \"ticks\": \"\"}}, \"marker\": {\"colorbar\": {\"outlinewidth\": 0, \"ticks\": \"\"}}, \"type\": \"scatter3d\"}], \"scattercarpet\": [{\"marker\": {\"colorbar\": {\"outlinewidth\": 0, \"ticks\": \"\"}}, \"type\": \"scattercarpet\"}], \"scattergeo\": [{\"marker\": {\"colorbar\": {\"outlinewidth\": 0, \"ticks\": \"\"}}, \"type\": \"scattergeo\"}], \"scattergl\": [{\"marker\": {\"colorbar\": {\"outlinewidth\": 0, \"ticks\": \"\"}}, \"type\": \"scattergl\"}], \"scattermapbox\": [{\"marker\": {\"colorbar\": {\"outlinewidth\": 0, \"ticks\": \"\"}}, \"type\": \"scattermapbox\"}], \"scatterpolar\": [{\"marker\": {\"colorbar\": {\"outlinewidth\": 0, \"ticks\": \"\"}}, \"type\": \"scatterpolar\"}], \"scatterpolargl\": [{\"marker\": {\"colorbar\": {\"outlinewidth\": 0, \"ticks\": \"\"}}, \"type\": \"scatterpolargl\"}], \"scatterternary\": [{\"marker\": {\"colorbar\": {\"outlinewidth\": 0, \"ticks\": \"\"}}, \"type\": \"scatterternary\"}], \"surface\": [{\"colorbar\": {\"outlinewidth\": 0, \"ticks\": \"\"}, \"colorscale\": [[0.0, \"#0d0887\"], [0.1111111111111111, \"#46039f\"], [0.2222222222222222, \"#7201a8\"], [0.3333333333333333, \"#9c179e\"], [0.4444444444444444, \"#bd3786\"], [0.5555555555555556, \"#d8576b\"], [0.6666666666666666, \"#ed7953\"], [0.7777777777777778, \"#fb9f3a\"], [0.8888888888888888, \"#fdca26\"], [1.0, \"#f0f921\"]], \"type\": \"surface\"}], \"table\": [{\"cells\": {\"fill\": {\"color\": \"#EBF0F8\"}, \"line\": {\"color\": \"white\"}}, \"header\": {\"fill\": {\"color\": \"#C8D4E3\"}, \"line\": {\"color\": \"white\"}}, \"type\": \"table\"}]}, \"layout\": {\"annotationdefaults\": {\"arrowcolor\": \"#2a3f5f\", \"arrowhead\": 0, \"arrowwidth\": 1}, \"autotypenumbers\": \"strict\", \"coloraxis\": {\"colorbar\": {\"outlinewidth\": 0, \"ticks\": \"\"}}, \"colorscale\": {\"diverging\": [[0, \"#8e0152\"], [0.1, \"#c51b7d\"], [0.2, \"#de77ae\"], [0.3, \"#f1b6da\"], [0.4, \"#fde0ef\"], [0.5, \"#f7f7f7\"], [0.6, \"#e6f5d0\"], [0.7, \"#b8e186\"], [0.8, \"#7fbc41\"], [0.9, \"#4d9221\"], [1, \"#276419\"]], \"sequential\": [[0.0, \"#0d0887\"], [0.1111111111111111, \"#46039f\"], [0.2222222222222222, \"#7201a8\"], [0.3333333333333333, \"#9c179e\"], [0.4444444444444444, \"#bd3786\"], [0.5555555555555556, \"#d8576b\"], [0.6666666666666666, \"#ed7953\"], [0.7777777777777778, \"#fb9f3a\"], [0.8888888888888888, \"#fdca26\"], [1.0, \"#f0f921\"]], \"sequentialminus\": [[0.0, \"#0d0887\"], [0.1111111111111111, \"#46039f\"], [0.2222222222222222, \"#7201a8\"], [0.3333333333333333, \"#9c179e\"], [0.4444444444444444, \"#bd3786\"], [0.5555555555555556, \"#d8576b\"], [0.6666666666666666, \"#ed7953\"], [0.7777777777777778, \"#fb9f3a\"], [0.8888888888888888, \"#fdca26\"], [1.0, \"#f0f921\"]]}, \"colorway\": [\"#636efa\", \"#EF553B\", \"#00cc96\", \"#ab63fa\", \"#FFA15A\", \"#19d3f3\", \"#FF6692\", \"#B6E880\", \"#FF97FF\", \"#FECB52\"], \"font\": {\"color\": \"#2a3f5f\"}, \"geo\": {\"bgcolor\": \"white\", \"lakecolor\": \"white\", \"landcolor\": \"#E5ECF6\", \"showlakes\": true, \"showland\": true, \"subunitcolor\": \"white\"}, \"hoverlabel\": {\"align\": \"left\"}, \"hovermode\": \"closest\", \"mapbox\": {\"style\": \"light\"}, \"paper_bgcolor\": \"white\", \"plot_bgcolor\": \"#E5ECF6\", \"polar\": {\"angularaxis\": {\"gridcolor\": \"white\", \"linecolor\": \"white\", \"ticks\": \"\"}, \"bgcolor\": \"#E5ECF6\", \"radialaxis\": {\"gridcolor\": \"white\", \"linecolor\": \"white\", \"ticks\": \"\"}}, \"scene\": {\"xaxis\": {\"backgroundcolor\": \"#E5ECF6\", \"gridcolor\": \"white\", \"gridwidth\": 2, \"linecolor\": \"white\", \"showbackground\": true, \"ticks\": \"\", \"zerolinecolor\": \"white\"}, \"yaxis\": {\"backgroundcolor\": \"#E5ECF6\", \"gridcolor\": \"white\", \"gridwidth\": 2, \"linecolor\": \"white\", \"showbackground\": true, \"ticks\": \"\", \"zerolinecolor\": \"white\"}, \"zaxis\": {\"backgroundcolor\": \"#E5ECF6\", \"gridcolor\": \"white\", \"gridwidth\": 2, \"linecolor\": \"white\", \"showbackground\": true, \"ticks\": \"\", \"zerolinecolor\": \"white\"}}, \"shapedefaults\": {\"line\": {\"color\": \"#2a3f5f\"}}, \"ternary\": {\"aaxis\": {\"gridcolor\": \"white\", \"linecolor\": \"white\", \"ticks\": \"\"}, \"baxis\": {\"gridcolor\": \"white\", \"linecolor\": \"white\", \"ticks\": \"\"}, \"bgcolor\": \"#E5ECF6\", \"caxis\": {\"gridcolor\": \"white\", \"linecolor\": \"white\", \"ticks\": \"\"}}, \"title\": {\"x\": 0.05}, \"xaxis\": {\"automargin\": true, \"gridcolor\": \"white\", \"linecolor\": \"white\", \"ticks\": \"\", \"title\": {\"standoff\": 15}, \"zerolinecolor\": \"white\", \"zerolinewidth\": 2}, \"yaxis\": {\"automargin\": true, \"gridcolor\": \"white\", \"linecolor\": \"white\", \"ticks\": \"\", \"title\": {\"standoff\": 15}, \"zerolinecolor\": \"white\", \"zerolinewidth\": 2}}}, \"title\": {\"text\": \"3d TSNE Plot for Clusters\"}, \"width\": 900},                        {\"responsive\": true}                    ).then(function(){\n",
       "                            \n",
       "var gd = document.getElementById('f0f92125-7a40-4e84-bd73-3591efbe399b');\n",
       "var x = new MutationObserver(function (mutations, observer) {{\n",
       "        var display = window.getComputedStyle(gd).display;\n",
       "        if (!display || display === 'none') {{\n",
       "            console.log([gd, 'removed!']);\n",
       "            Plotly.purge(gd);\n",
       "            observer.disconnect();\n",
       "        }}\n",
       "}});\n",
       "\n",
       "// Listen for the removal of the full notebook cells\n",
       "var notebookContainer = gd.closest('#notebook-container');\n",
       "if (notebookContainer) {{\n",
       "    x.observe(notebookContainer, {childList: true});\n",
       "}}\n",
       "\n",
       "// Listen for the clearing of the current output cell\n",
       "var outputEl = gd.closest('.output');\n",
       "if (outputEl) {{\n",
       "    x.observe(outputEl, {childList: true});\n",
       "}}\n",
       "\n",
       "                        })                };                });            </script>        </div>"
      ]
     },
     "metadata": {},
     "output_type": "display_data"
    }
   ],
   "source": [
    "pc.plot_model(km, plot = 'tsne')"
   ]
  },
  {
   "cell_type": "code",
   "execution_count": 21,
   "metadata": {},
   "outputs": [
    {
     "data": {
      "image/png": "[encoded data removed]",
      "text/plain": [
       "<Figure size 576x396 with 2 Axes>"
      ]
     },
     "metadata": {},
     "output_type": "display_data"
    }
   ],
   "source": [
    "pc.plot_model(km, plot = 'distance')"
   ]
  },
  {
   "cell_type": "code",
   "execution_count": 22,
   "metadata": {},
   "outputs": [
    {
     "data": {
      "application/vnd.plotly.v1+json": {
       "config": {
        "plotlyServerURL": "https://plot.ly"
       },
       "data": [
        {
         "alignmentgroup": "True",
         "bingroup": "x",
         "hovertemplate": "Cluster=%{x}<br>count=%{y}<extra></extra>",
         "legendgroup": "Cluster 0",
         "marker": {
          "color": "#636efa",
          "opacity": 0.7
         },
         "name": "Cluster 0",
         "offsetgroup": "Cluster 0",
         "orientation": "v",
         "showlegend": true,
         "type": "histogram",
         "x": [
          "Cluster 0",
          "Cluster 0",
          "Cluster 0",
          "Cluster 0",
          "Cluster 0",
          "Cluster 0",
          "Cluster 0",
          "Cluster 0",
          "Cluster 0",
          "Cluster 0",
          "Cluster 0",
          "Cluster 0",
          "Cluster 0",
          "Cluster 0",
          "Cluster 0",
          "Cluster 0",
          "Cluster 0",
          "Cluster 0",
          "Cluster 0",
          "Cluster 0",
          "Cluster 0",
          "Cluster 0",
          "Cluster 0",
          "Cluster 0",
          "Cluster 0",
          "Cluster 0",
          "Cluster 0",
          "Cluster 0",
          "Cluster 0",
          "Cluster 0",
          "Cluster 0",
          "Cluster 0",
          "Cluster 0"
         ],
         "xaxis": "x",
         "yaxis": "y"
        },
        {
         "alignmentgroup": "True",
         "customdata": [
          [
           "ZW",
           -19.015438,
           29.154857,
           "Zimbabwe",
           "Cluster 0"
          ],
          [
           "MZ",
           -18.665695,
           35.529562,
           "Mozambique",
           "Cluster 0"
          ],
          [
           null,
           -22.957639999999998,
           18.49041,
           "Namibia",
           "Cluster 0"
          ],
          [
           "BV",
           -54.423199,
           3.4131940000000003,
           "Bouvet Island",
           "Cluster 0"
          ],
          [
           "BW",
           -22.328474,
           24.684866,
           "Botswana",
           "Cluster 0"
          ],
          [
           "TF",
           -49.280366,
           69.348557,
           "French Southern Territories",
           "Cluster 0"
          ],
          [
           "CD",
           -4.038333000000001,
           21.758664000000003,
           "Congo [DRC]",
           "Cluster 0"
          ],
          [
           "CF",
           6.611111,
           20.939444,
           "Central African Republic",
           "Cluster 0"
          ],
          [
           "CG",
           -0.228021,
           15.827658999999999,
           "Congo [Republic]",
           "Cluster 0"
          ],
          [
           "SZ",
           -26.522503000000004,
           31.465866,
           "Swaziland",
           "Cluster 0"
          ],
          [
           "GA",
           -0.803689,
           11.609444,
           "Gabon",
           "Cluster 0"
          ],
          [
           "CM",
           7.369722,
           12.354722,
           "Cameroon",
           "Cluster 0"
          ],
          [
           "ST",
           0.18636,
           6.613081,
           "São Tomé and Príncipe",
           "Cluster 0"
          ],
          [
           "RE",
           -21.115141,
           55.536384,
           "Réunion",
           "Cluster 0"
          ],
          [
           "RW",
           -1.940278,
           29.873888,
           "Rwanda",
           "Cluster 0"
          ],
          [
           "SC",
           -4.679574,
           55.491977,
           "Seychelles",
           "Cluster 0"
          ],
          [
           "ZM",
           -13.133897,
           27.849332,
           "Zambia",
           "Cluster 0"
          ],
          [
           "SH",
           -24.143473999999998,
           -10.030696,
           "Saint Helena",
           "Cluster 0"
          ],
          [
           "BI",
           -3.3730559999999996,
           29.918885999999997,
           "Burundi",
           "Cluster 0"
          ],
          [
           "TZ",
           -6.369028,
           34.888822,
           "Tanzania",
           "Cluster 0"
          ],
          [
           "GQ",
           1.6508009999999997,
           10.267895,
           "Equatorial Guinea",
           "Cluster 0"
          ],
          [
           "MG",
           -18.766947000000002,
           46.869107,
           "Madagascar",
           "Cluster 0"
          ],
          [
           "MW",
           -13.254307999999998,
           34.301525,
           "Malawi",
           "Cluster 0"
          ],
          [
           "ZA",
           -30.559482,
           22.937506,
           "South Africa",
           "Cluster 0"
          ],
          [
           "YT",
           -12.8275,
           45.166244,
           "Mayotte",
           "Cluster 0"
          ],
          [
           "AQ",
           -75.250973,
           -0.071389,
           "Antarctica",
           "Cluster 0"
          ],
          [
           "MU",
           -20.348404000000002,
           57.552152,
           "Mauritius",
           "Cluster 0"
          ],
          [
           "KM",
           -11.875001,
           43.872219,
           "Comoros",
           "Cluster 0"
          ],
          [
           "AO",
           -11.202691999999999,
           17.873887,
           "Angola",
           "Cluster 0"
          ],
          [
           "HM",
           -53.08181,
           73.50415799999999,
           "Heard Island and McDonald Islands",
           "Cluster 0"
          ],
          [
           "UG",
           1.373333,
           32.290275,
           "Uganda",
           "Cluster 0"
          ],
          [
           "LS",
           -29.609988,
           28.233608,
           "Lesotho",
           "Cluster 0"
          ],
          [
           "KE",
           -0.023559,
           37.906193,
           "Kenya",
           "Cluster 0"
          ]
         ],
         "hovertemplate": "Cluster=%{customdata[4]}<br>country=%{customdata[0]}<br>latitude=%{customdata[1]}<br>longitude=%{customdata[2]}<br>name=%{customdata[3]}<extra></extra>",
         "legendgroup": "Cluster 0",
         "marker": {
          "color": "#636efa"
         },
         "name": "Cluster 0",
         "notched": true,
         "offsetgroup": "Cluster 0",
         "showlegend": false,
         "type": "box",
         "x": [
          "Cluster 0",
          "Cluster 0",
          "Cluster 0",
          "Cluster 0",
          "Cluster 0",
          "Cluster 0",
          "Cluster 0",
          "Cluster 0",
          "Cluster 0",
          "Cluster 0",
          "Cluster 0",
          "Cluster 0",
          "Cluster 0",
          "Cluster 0",
          "Cluster 0",
          "Cluster 0",
          "Cluster 0",
          "Cluster 0",
          "Cluster 0",
          "Cluster 0",
          "Cluster 0",
          "Cluster 0",
          "Cluster 0",
          "Cluster 0",
          "Cluster 0",
          "Cluster 0",
          "Cluster 0",
          "Cluster 0",
          "Cluster 0",
          "Cluster 0",
          "Cluster 0",
          "Cluster 0",
          "Cluster 0"
         ],
         "xaxis": "x2",
         "yaxis": "y2"
        },
        {
         "alignmentgroup": "True",
         "bingroup": "x",
         "hovertemplate": "Cluster=%{x}<br>count=%{y}<extra></extra>",
         "legendgroup": "Cluster 1",
         "marker": {
          "color": "#EF553B",
          "opacity": 0.7
         },
         "name": "Cluster 1",
         "offsetgroup": "Cluster 1",
         "orientation": "v",
         "showlegend": true,
         "type": "histogram",
         "x": [
          "Cluster 1",
          "Cluster 1",
          "Cluster 1",
          "Cluster 1",
          "Cluster 1",
          "Cluster 1",
          "Cluster 1",
          "Cluster 1",
          "Cluster 1",
          "Cluster 1",
          "Cluster 1",
          "Cluster 1",
          "Cluster 1",
          "Cluster 1",
          "Cluster 1",
          "Cluster 1",
          "Cluster 1",
          "Cluster 1",
          "Cluster 1",
          "Cluster 1",
          "Cluster 1",
          "Cluster 1",
          "Cluster 1",
          "Cluster 1",
          "Cluster 1",
          "Cluster 1",
          "Cluster 1",
          "Cluster 1",
          "Cluster 1",
          "Cluster 1",
          "Cluster 1",
          "Cluster 1",
          "Cluster 1",
          "Cluster 1",
          "Cluster 1",
          "Cluster 1",
          "Cluster 1",
          "Cluster 1",
          "Cluster 1",
          "Cluster 1",
          "Cluster 1",
          "Cluster 1",
          "Cluster 1",
          "Cluster 1",
          "Cluster 1",
          "Cluster 1",
          "Cluster 1",
          "Cluster 1",
          "Cluster 1",
          "Cluster 1",
          "Cluster 1"
         ],
         "xaxis": "x",
         "yaxis": "y"
        },
        {
         "alignmentgroup": "True",
         "customdata": [
          [
           "PM",
           46.941936,
           -56.27111,
           "Saint Pierre and Miquelon",
           "Cluster 1"
          ],
          [
           "PY",
           -23.442503,
           -58.44383199999999,
           "Paraguay",
           "Cluster 1"
          ],
          [
           "FK",
           -51.796253,
           -59.523613,
           "Falkland Islands [Islas Malvinas]",
           "Cluster 1"
          ],
          [
           "LC",
           13.909444,
           -60.97889300000001,
           "Saint Lucia",
           "Cluster 1"
          ],
          [
           "KN",
           17.357822,
           -62.782998,
           "Saint Kitts and Nevis",
           "Cluster 1"
          ],
          [
           "PR",
           18.220833,
           -66.590149,
           "Puerto Rico",
           "Cluster 1"
          ],
          [
           "PE",
           -9.189967,
           -75.015152,
           "Peru",
           "Cluster 1"
          ],
          [
           "MX",
           23.634501,
           -102.552784,
           "Mexico",
           "Cluster 1"
          ],
          [
           "MQ",
           14.641528,
           -61.024174,
           "Martinique",
           "Cluster 1"
          ],
          [
           "GD",
           12.262775999999999,
           -61.604170999999994,
           "Grenada",
           "Cluster 1"
          ],
          [
           "PA",
           8.537981,
           -80.782127,
           "Panama",
           "Cluster 1"
          ],
          [
           "GF",
           3.9338889999999997,
           -53.125781999999994,
           "French Guiana",
           "Cluster 1"
          ],
          [
           "HT",
           18.971187,
           -72.28521500000001,
           "Haiti",
           "Cluster 1"
          ],
          [
           "MS",
           16.742498,
           -62.187366000000004,
           "Montserrat",
           "Cluster 1"
          ],
          [
           "HN",
           15.199998999999998,
           -86.241905,
           "Honduras",
           "Cluster 1"
          ],
          [
           "NI",
           12.865416,
           -85.207229,
           "Nicaragua",
           "Cluster 1"
          ],
          [
           "GP",
           16.995971,
           -62.067641,
           "Guadeloupe",
           "Cluster 1"
          ],
          [
           "DO",
           18.735692999999998,
           -70.162651,
           "Dominican Republic",
           "Cluster 1"
          ],
          [
           "GS",
           -54.429579000000004,
           -36.587909,
           "South Georgia and the South Sandwich Islands",
           "Cluster 1"
          ],
          [
           "GT",
           15.783470999999999,
           -90.23075899999999,
           "Guatemala",
           "Cluster 1"
          ],
          [
           "GY",
           4.860416000000001,
           -58.93018000000001,
           "Guyana",
           "Cluster 1"
          ],
          [
           "JM",
           18.109581,
           -77.297508,
           "Jamaica",
           "Cluster 1"
          ],
          [
           "DM",
           15.414999,
           -61.370976,
           "Dominica",
           "Cluster 1"
          ],
          [
           "EC",
           -1.8312389999999998,
           -78.183406,
           "Ecuador",
           "Cluster 1"
          ],
          [
           "KY",
           19.513469,
           -80.566956,
           "Cayman Islands",
           "Cluster 1"
          ],
          [
           "VE",
           6.42375,
           -66.58973,
           "Venezuela",
           "Cluster 1"
          ],
          [
           "UY",
           -32.522779,
           -55.765834999999996,
           "Uruguay",
           "Cluster 1"
          ],
          [
           "BB",
           13.193887,
           -59.543198,
           "Barbados",
           "Cluster 1"
          ],
          [
           "US",
           37.09024,
           -95.712891,
           "United States",
           "Cluster 1"
          ],
          [
           "VG",
           18.420695000000002,
           -64.63996800000001,
           "British Virgin Islands",
           "Cluster 1"
          ],
          [
           "TT",
           10.691803,
           -61.222503,
           "Trinidad and Tobago",
           "Cluster 1"
          ],
          [
           "BM",
           32.321384,
           -64.75737,
           "Bermuda",
           "Cluster 1"
          ],
          [
           "BO",
           -16.290154,
           -63.588653,
           "Bolivia",
           "Cluster 1"
          ],
          [
           "BR",
           -14.235004,
           -51.92528,
           "Brazil",
           "Cluster 1"
          ],
          [
           "BS",
           25.03428,
           -77.39628,
           "Bahamas",
           "Cluster 1"
          ],
          [
           "AW",
           12.52111,
           -69.968338,
           "Aruba",
           "Cluster 1"
          ],
          [
           "CA",
           56.130366,
           -106.34677099999999,
           "Canada",
           "Cluster 1"
          ],
          [
           "TC",
           21.694025,
           -71.797928,
           "Turks and Caicos Islands",
           "Cluster 1"
          ],
          [
           "SV",
           13.794185,
           -88.89653,
           "El Salvador",
           "Cluster 1"
          ],
          [
           "BZ",
           17.189877,
           -88.49765,
           "Belize",
           "Cluster 1"
          ],
          [
           "CL",
           -35.675146999999996,
           -71.542969,
           "Chile",
           "Cluster 1"
          ],
          [
           "AG",
           17.060816,
           -61.796428000000006,
           "Antigua and Barbuda",
           "Cluster 1"
          ],
          [
           "AI",
           18.220554,
           -63.068615,
           "Anguilla",
           "Cluster 1"
          ],
          [
           "VI",
           18.335765,
           -64.896335,
           "U.S. Virgin Islands",
           "Cluster 1"
          ],
          [
           "AN",
           12.226078999999999,
           -69.060087,
           "Netherlands Antilles",
           "Cluster 1"
          ],
          [
           "AR",
           -38.416097,
           -63.616671999999994,
           "Argentina",
           "Cluster 1"
          ],
          [
           "CU",
           21.521757,
           -77.78116700000001,
           "Cuba",
           "Cluster 1"
          ],
          [
           "SR",
           3.9193050000000005,
           -56.02778299999999,
           "Suriname",
           "Cluster 1"
          ],
          [
           "CR",
           9.748917,
           -83.753428,
           "Costa Rica",
           "Cluster 1"
          ],
          [
           "CO",
           4.570868,
           -74.297333,
           "Colombia",
           "Cluster 1"
          ],
          [
           "VC",
           12.984305,
           -61.287228000000006,
           "Saint Vincent and the Grenadines",
           "Cluster 1"
          ]
         ],
         "hovertemplate": "Cluster=%{customdata[4]}<br>country=%{customdata[0]}<br>latitude=%{customdata[1]}<br>longitude=%{customdata[2]}<br>name=%{customdata[3]}<extra></extra>",
         "legendgroup": "Cluster 1",
         "marker": {
          "color": "#EF553B"
         },
         "name": "Cluster 1",
         "notched": true,
         "offsetgroup": "Cluster 1",
         "showlegend": false,
         "type": "box",
         "x": [
          "Cluster 1",
          "Cluster 1",
          "Cluster 1",
          "Cluster 1",
          "Cluster 1",
          "Cluster 1",
          "Cluster 1",
          "Cluster 1",
          "Cluster 1",
          "Cluster 1",
          "Cluster 1",
          "Cluster 1",
          "Cluster 1",
          "Cluster 1",
          "Cluster 1",
          "Cluster 1",
          "Cluster 1",
          "Cluster 1",
          "Cluster 1",
          "Cluster 1",
          "Cluster 1",
          "Cluster 1",
          "Cluster 1",
          "Cluster 1",
          "Cluster 1",
          "Cluster 1",
          "Cluster 1",
          "Cluster 1",
          "Cluster 1",
          "Cluster 1",
          "Cluster 1",
          "Cluster 1",
          "Cluster 1",
          "Cluster 1",
          "Cluster 1",
          "Cluster 1",
          "Cluster 1",
          "Cluster 1",
          "Cluster 1",
          "Cluster 1",
          "Cluster 1",
          "Cluster 1",
          "Cluster 1",
          "Cluster 1",
          "Cluster 1",
          "Cluster 1",
          "Cluster 1",
          "Cluster 1",
          "Cluster 1",
          "Cluster 1",
          "Cluster 1"
         ],
         "xaxis": "x2",
         "yaxis": "y2"
        },
        {
         "alignmentgroup": "True",
         "bingroup": "x",
         "hovertemplate": "Cluster=%{x}<br>count=%{y}<extra></extra>",
         "legendgroup": "Cluster 2",
         "marker": {
          "color": "#00cc96",
          "opacity": 0.7
         },
         "name": "Cluster 2",
         "offsetgroup": "Cluster 2",
         "orientation": "v",
         "showlegend": true,
         "type": "histogram",
         "x": [
          "Cluster 2",
          "Cluster 2",
          "Cluster 2",
          "Cluster 2",
          "Cluster 2",
          "Cluster 2",
          "Cluster 2",
          "Cluster 2",
          "Cluster 2",
          "Cluster 2",
          "Cluster 2",
          "Cluster 2",
          "Cluster 2",
          "Cluster 2",
          "Cluster 2",
          "Cluster 2",
          "Cluster 2",
          "Cluster 2",
          "Cluster 2",
          "Cluster 2",
          "Cluster 2",
          "Cluster 2",
          "Cluster 2",
          "Cluster 2",
          "Cluster 2",
          "Cluster 2",
          "Cluster 2",
          "Cluster 2",
          "Cluster 2",
          "Cluster 2",
          "Cluster 2",
          "Cluster 2",
          "Cluster 2",
          "Cluster 2",
          "Cluster 2",
          "Cluster 2",
          "Cluster 2",
          "Cluster 2",
          "Cluster 2",
          "Cluster 2",
          "Cluster 2",
          "Cluster 2",
          "Cluster 2",
          "Cluster 2",
          "Cluster 2",
          "Cluster 2",
          "Cluster 2",
          "Cluster 2",
          "Cluster 2",
          "Cluster 2",
          "Cluster 2",
          "Cluster 2",
          "Cluster 2",
          "Cluster 2",
          "Cluster 2",
          "Cluster 2",
          "Cluster 2",
          "Cluster 2",
          "Cluster 2",
          "Cluster 2",
          "Cluster 2",
          "Cluster 2",
          "Cluster 2",
          "Cluster 2",
          "Cluster 2",
          "Cluster 2",
          "Cluster 2",
          "Cluster 2",
          "Cluster 2",
          "Cluster 2",
          "Cluster 2",
          "Cluster 2",
          "Cluster 2",
          "Cluster 2"
         ],
         "xaxis": "x",
         "yaxis": "y"
        },
        {
         "alignmentgroup": "True",
         "customdata": [
          [
           "MD",
           47.411631,
           28.369884999999996,
           "Moldova",
           "Cluster 2"
          ],
          [
           "LT",
           55.169438,
           23.881275,
           "Lithuania",
           "Cluster 2"
          ],
          [
           "MA",
           31.791702,
           -7.09262,
           "Morocco",
           "Cluster 2"
          ],
          [
           "LY",
           26.3351,
           17.228331,
           "Libya",
           "Cluster 2"
          ],
          [
           "ME",
           42.708678000000006,
           19.37439,
           "Montenegro",
           "Cluster 2"
          ],
          [
           "LV",
           56.879635,
           24.603189,
           "Latvia",
           "Cluster 2"
          ],
          [
           "LR",
           6.4280550000000005,
           -9.429499,
           "Liberia",
           "Cluster 2"
          ],
          [
           "MK",
           41.608635,
           21.745275,
           "Macedonia [FYROM]",
           "Cluster 2"
          ],
          [
           "LI",
           47.166000000000004,
           9.555373,
           "Liechtenstein",
           "Cluster 2"
          ],
          [
           "XK",
           42.602636,
           20.902977,
           "Kosovo",
           "Cluster 2"
          ],
          [
           "ML",
           17.570692,
           -3.9961660000000006,
           "Mali",
           "Cluster 2"
          ],
          [
           "LU",
           49.815273,
           6.129583,
           "Luxembourg",
           "Cluster 2"
          ],
          [
           "MC",
           43.750298,
           7.412841,
           "Monaco",
           "Cluster 2"
          ],
          [
           "SJ",
           77.553604,
           23.670272,
           "Svalbard and Jan Mayen",
           "Cluster 2"
          ],
          [
           "VA",
           41.902916,
           12.453389,
           "Vatican City",
           "Cluster 2"
          ],
          [
           "SK",
           48.669026,
           19.699023999999998,
           "Slovakia",
           "Cluster 2"
          ],
          [
           "SL",
           8.460555000000001,
           -11.779889,
           "Sierra Leone",
           "Cluster 2"
          ],
          [
           "SE",
           60.128161,
           18.643501,
           "Sweden",
           "Cluster 2"
          ],
          [
           "SM",
           43.94236,
           12.457777,
           "San Marino",
           "Cluster 2"
          ],
          [
           "SN",
           14.497401000000002,
           -14.452361999999999,
           "Senegal",
           "Cluster 2"
          ],
          [
           "RS",
           44.016521000000004,
           21.005859,
           "Serbia",
           "Cluster 2"
          ],
          [
           "RO",
           45.943160999999996,
           24.96676,
           "Romania",
           "Cluster 2"
          ],
          [
           "PT",
           39.399871999999995,
           -8.224454,
           "Portugal",
           "Cluster 2"
          ],
          [
           "PL",
           51.919438,
           19.145135999999997,
           "Poland",
           "Cluster 2"
          ],
          [
           "TD",
           15.454166,
           18.732207,
           "Chad",
           "Cluster 2"
          ],
          [
           "NO",
           60.472024,
           8.468946,
           "Norway",
           "Cluster 2"
          ],
          [
           "NL",
           52.132633,
           5.291266,
           "Netherlands",
           "Cluster 2"
          ],
          [
           "TG",
           8.619543,
           0.824782,
           "Togo",
           "Cluster 2"
          ],
          [
           "NG",
           9.081999,
           8.675277000000001,
           "Nigeria",
           "Cluster 2"
          ],
          [
           "NE",
           17.607789,
           8.081666,
           "Niger",
           "Cluster 2"
          ],
          [
           "TN",
           33.886917,
           9.537499,
           "Tunisia",
           "Cluster 2"
          ],
          [
           "SI",
           46.151241,
           14.995463,
           "Slovenia",
           "Cluster 2"
          ],
          [
           "UM",
           null,
           null,
           "U.S. Minor Outlying Islands",
           "Cluster 2"
          ],
          [
           "MT",
           35.937496,
           14.375416,
           "Malta",
           "Cluster 2"
          ],
          [
           "MR",
           21.00789,
           -10.940835,
           "Mauritania",
           "Cluster 2"
          ],
          [
           "UA",
           48.379433,
           31.16558,
           "Ukraine",
           "Cluster 2"
          ],
          [
           "AD",
           42.546245,
           1.6015540000000001,
           "Andorra",
           "Cluster 2"
          ],
          [
           "FI",
           61.92411,
           25.748151,
           "Finland",
           "Cluster 2"
          ],
          [
           "HU",
           47.162494,
           19.503304,
           "Hungary",
           "Cluster 2"
          ],
          [
           "HR",
           45.1,
           15.2,
           "Croatia",
           "Cluster 2"
          ],
          [
           "CZ",
           49.817492,
           15.472961999999999,
           "Czech Republic",
           "Cluster 2"
          ],
          [
           "DE",
           51.165690999999995,
           10.451526,
           "Germany",
           "Cluster 2"
          ],
          [
           "GW",
           11.803749,
           -15.180413,
           "Guinea-Bissau",
           "Cluster 2"
          ],
          [
           "DK",
           56.26392,
           9.501785,
           "Denmark",
           "Cluster 2"
          ],
          [
           "DZ",
           28.033886,
           1.6596259999999998,
           "Algeria",
           "Cluster 2"
          ],
          [
           "GR",
           39.074208,
           21.824312,
           "Greece",
           "Cluster 2"
          ],
          [
           "GN",
           9.945587,
           -9.696645,
           "Guinea",
           "Cluster 2"
          ],
          [
           "GM",
           13.443182,
           -15.310139000000001,
           "Gambia",
           "Cluster 2"
          ],
          [
           "EE",
           58.595271999999994,
           25.013607,
           "Estonia",
           "Cluster 2"
          ],
          [
           "GL",
           71.706936,
           -42.604303,
           "Greenland",
           "Cluster 2"
          ],
          [
           "GI",
           36.137741,
           -5.345374,
           "Gibraltar",
           "Cluster 2"
          ],
          [
           "GH",
           7.946527000000001,
           -1.0231940000000002,
           "Ghana",
           "Cluster 2"
          ],
          [
           "GG",
           49.465691,
           -2.5852779999999997,
           "Guernsey",
           "Cluster 2"
          ],
          [
           "EH",
           24.215526999999998,
           -12.885834,
           "Western Sahara",
           "Cluster 2"
          ],
          [
           "ES",
           40.463667,
           -3.7492199999999998,
           "Spain",
           "Cluster 2"
          ],
          [
           "FO",
           61.892635,
           -6.9118059999999995,
           "Faroe Islands",
           "Cluster 2"
          ],
          [
           "FR",
           46.227638,
           2.213749,
           "France",
           "Cluster 2"
          ],
          [
           "GB",
           55.378051,
           -3.435973,
           "United Kingdom",
           "Cluster 2"
          ],
          [
           "CI",
           7.539989,
           -5.54708,
           "Côte d'Ivoire",
           "Cluster 2"
          ],
          [
           "CV",
           16.002082,
           -24.013197,
           "Cape Verde",
           "Cluster 2"
          ],
          [
           "BA",
           43.915886,
           17.679076000000002,
           "Bosnia and Herzegovina",
           "Cluster 2"
          ],
          [
           "BG",
           42.733883,
           25.48583,
           "Bulgaria",
           "Cluster 2"
          ],
          [
           "JE",
           49.214439,
           -2.13125,
           "Jersey",
           "Cluster 2"
          ],
          [
           "CH",
           46.818188,
           8.227511999999999,
           "Switzerland",
           "Cluster 2"
          ],
          [
           "IT",
           41.87194,
           12.56738,
           "Italy",
           "Cluster 2"
          ],
          [
           "IS",
           64.96305100000001,
           -19.020835,
           "Iceland",
           "Cluster 2"
          ],
          [
           "BJ",
           9.30769,
           2.315834,
           "Benin",
           "Cluster 2"
          ],
          [
           "BF",
           12.238333,
           -1.561593,
           "Burkina Faso",
           "Cluster 2"
          ],
          [
           "BE",
           50.503887,
           4.469936,
           "Belgium",
           "Cluster 2"
          ],
          [
           "AT",
           47.516231,
           14.550072,
           "Austria",
           "Cluster 2"
          ],
          [
           "IM",
           54.236107,
           -4.548056,
           "Isle of Man",
           "Cluster 2"
          ],
          [
           "BY",
           53.709807,
           27.953389,
           "Belarus",
           "Cluster 2"
          ],
          [
           "IE",
           53.41291,
           -8.243889999999999,
           "Ireland",
           "Cluster 2"
          ],
          [
           "AL",
           41.153332,
           20.168331,
           "Albania",
           "Cluster 2"
          ]
         ],
         "hovertemplate": "Cluster=%{customdata[4]}<br>country=%{customdata[0]}<br>latitude=%{customdata[1]}<br>longitude=%{customdata[2]}<br>name=%{customdata[3]}<extra></extra>",
         "legendgroup": "Cluster 2",
         "marker": {
          "color": "#00cc96"
         },
         "name": "Cluster 2",
         "notched": true,
         "offsetgroup": "Cluster 2",
         "showlegend": false,
         "type": "box",
         "x": [
          "Cluster 2",
          "Cluster 2",
          "Cluster 2",
          "Cluster 2",
          "Cluster 2",
          "Cluster 2",
          "Cluster 2",
          "Cluster 2",
          "Cluster 2",
          "Cluster 2",
          "Cluster 2",
          "Cluster 2",
          "Cluster 2",
          "Cluster 2",
          "Cluster 2",
          "Cluster 2",
          "Cluster 2",
          "Cluster 2",
          "Cluster 2",
          "Cluster 2",
          "Cluster 2",
          "Cluster 2",
          "Cluster 2",
          "Cluster 2",
          "Cluster 2",
          "Cluster 2",
          "Cluster 2",
          "Cluster 2",
          "Cluster 2",
          "Cluster 2",
          "Cluster 2",
          "Cluster 2",
          "Cluster 2",
          "Cluster 2",
          "Cluster 2",
          "Cluster 2",
          "Cluster 2",
          "Cluster 2",
          "Cluster 2",
          "Cluster 2",
          "Cluster 2",
          "Cluster 2",
          "Cluster 2",
          "Cluster 2",
          "Cluster 2",
          "Cluster 2",
          "Cluster 2",
          "Cluster 2",
          "Cluster 2",
          "Cluster 2",
          "Cluster 2",
          "Cluster 2",
          "Cluster 2",
          "Cluster 2",
          "Cluster 2",
          "Cluster 2",
          "Cluster 2",
          "Cluster 2",
          "Cluster 2",
          "Cluster 2",
          "Cluster 2",
          "Cluster 2",
          "Cluster 2",
          "Cluster 2",
          "Cluster 2",
          "Cluster 2",
          "Cluster 2",
          "Cluster 2",
          "Cluster 2",
          "Cluster 2",
          "Cluster 2",
          "Cluster 2",
          "Cluster 2",
          "Cluster 2"
         ],
         "xaxis": "x2",
         "yaxis": "y2"
        },
        {
         "alignmentgroup": "True",
         "bingroup": "x",
         "hovertemplate": "Cluster=%{x}<br>count=%{y}<extra></extra>",
         "legendgroup": "Cluster 3",
         "marker": {
          "color": "#ab63fa",
          "opacity": 0.7
         },
         "name": "Cluster 3",
         "offsetgroup": "Cluster 3",
         "orientation": "v",
         "showlegend": true,
         "type": "histogram",
         "x": [
          "Cluster 3",
          "Cluster 3",
          "Cluster 3",
          "Cluster 3",
          "Cluster 3",
          "Cluster 3",
          "Cluster 3",
          "Cluster 3",
          "Cluster 3",
          "Cluster 3",
          "Cluster 3",
          "Cluster 3",
          "Cluster 3",
          "Cluster 3",
          "Cluster 3",
          "Cluster 3",
          "Cluster 3",
          "Cluster 3",
          "Cluster 3",
          "Cluster 3",
          "Cluster 3",
          "Cluster 3",
          "Cluster 3",
          "Cluster 3",
          "Cluster 3",
          "Cluster 3",
          "Cluster 3",
          "Cluster 3"
         ],
         "xaxis": "x",
         "yaxis": "y"
        },
        {
         "alignmentgroup": "True",
         "customdata": [
          [
           "PW",
           7.51498,
           134.58252,
           "Palau",
           "Cluster 3"
          ],
          [
           "VN",
           14.058323999999999,
           108.277199,
           "Vietnam",
           "Cluster 3"
          ],
          [
           "BD",
           23.684994,
           90.35633100000001,
           "Bangladesh",
           "Cluster 3"
          ],
          [
           "RU",
           61.52401,
           105.31875600000001,
           "Russia",
           "Cluster 3"
          ],
          [
           "CC",
           -12.164164999999999,
           96.870956,
           "Cocos [Keeling] Islands",
           "Cluster 3"
          ],
          [
           "SG",
           1.352083,
           103.819836,
           "Singapore",
           "Cluster 3"
          ],
          [
           "BN",
           4.535277,
           114.72766899999999,
           "Brunei",
           "Cluster 3"
          ],
          [
           "TL",
           -8.874217,
           125.727539,
           "Timor-Leste",
           "Cluster 3"
          ],
          [
           "TH",
           15.870032,
           100.992541,
           "Thailand",
           "Cluster 3"
          ],
          [
           "CX",
           -10.447525,
           105.690449,
           "Christmas Island",
           "Cluster 3"
          ],
          [
           "BT",
           27.514162,
           90.433601,
           "Bhutan",
           "Cluster 3"
          ],
          [
           "CN",
           35.86166,
           104.195397,
           "China",
           "Cluster 3"
          ],
          [
           "TW",
           23.69781,
           120.96051499999999,
           "Taiwan",
           "Cluster 3"
          ],
          [
           "PH",
           12.879721,
           121.77401699999999,
           "Philippines",
           "Cluster 3"
          ],
          [
           "KR",
           35.907757000000004,
           127.766922,
           "South Korea",
           "Cluster 3"
          ],
          [
           "MN",
           46.862496,
           103.84665600000001,
           "Mongolia",
           "Cluster 3"
          ],
          [
           "ID",
           -0.789275,
           113.921327,
           "Indonesia",
           "Cluster 3"
          ],
          [
           "NP",
           28.394857000000002,
           84.12400799999999,
           "Nepal",
           "Cluster 3"
          ],
          [
           "MO",
           22.198745000000002,
           113.543873,
           "Macau",
           "Cluster 3"
          ],
          [
           "MM",
           21.913965,
           95.956223,
           "Myanmar [Burma]",
           "Cluster 3"
          ],
          [
           "IN",
           20.593684,
           78.96288,
           "India",
           "Cluster 3"
          ],
          [
           "HK",
           22.396428,
           114.10949699999999,
           "Hong Kong",
           "Cluster 3"
          ],
          [
           "LK",
           7.873054,
           80.77179699999999,
           "Sri Lanka",
           "Cluster 3"
          ],
          [
           "JP",
           36.204824,
           138.252924,
           "Japan",
           "Cluster 3"
          ],
          [
           "LA",
           19.856270000000002,
           102.495496,
           "Laos",
           "Cluster 3"
          ],
          [
           "KP",
           40.339852,
           127.510093,
           "North Korea",
           "Cluster 3"
          ],
          [
           "KH",
           12.565679,
           104.990963,
           "Cambodia",
           "Cluster 3"
          ],
          [
           "MY",
           4.210483999999999,
           101.97576600000001,
           "Malaysia",
           "Cluster 3"
          ]
         ],
         "hovertemplate": "Cluster=%{customdata[4]}<br>country=%{customdata[0]}<br>latitude=%{customdata[1]}<br>longitude=%{customdata[2]}<br>name=%{customdata[3]}<extra></extra>",
         "legendgroup": "Cluster 3",
         "marker": {
          "color": "#ab63fa"
         },
         "name": "Cluster 3",
         "notched": true,
         "offsetgroup": "Cluster 3",
         "showlegend": false,
         "type": "box",
         "x": [
          "Cluster 3",
          "Cluster 3",
          "Cluster 3",
          "Cluster 3",
          "Cluster 3",
          "Cluster 3",
          "Cluster 3",
          "Cluster 3",
          "Cluster 3",
          "Cluster 3",
          "Cluster 3",
          "Cluster 3",
          "Cluster 3",
          "Cluster 3",
          "Cluster 3",
          "Cluster 3",
          "Cluster 3",
          "Cluster 3",
          "Cluster 3",
          "Cluster 3",
          "Cluster 3",
          "Cluster 3",
          "Cluster 3",
          "Cluster 3",
          "Cluster 3",
          "Cluster 3",
          "Cluster 3",
          "Cluster 3"
         ],
         "xaxis": "x2",
         "yaxis": "y2"
        },
        {
         "alignmentgroup": "True",
         "bingroup": "x",
         "hovertemplate": "Cluster=%{x}<br>count=%{y}<extra></extra>",
         "legendgroup": "Cluster 4",
         "marker": {
          "color": "#FFA15A",
          "opacity": 0.7
         },
         "name": "Cluster 4",
         "offsetgroup": "Cluster 4",
         "orientation": "v",
         "showlegend": true,
         "type": "histogram",
         "x": [
          "Cluster 4",
          "Cluster 4",
          "Cluster 4",
          "Cluster 4",
          "Cluster 4",
          "Cluster 4",
          "Cluster 4",
          "Cluster 4",
          "Cluster 4",
          "Cluster 4"
         ],
         "xaxis": "x",
         "yaxis": "y"
        },
        {
         "alignmentgroup": "True",
         "customdata": [
          [
           "KI",
           -3.3704169999999998,
           -168.734039,
           "Kiribati",
           "Cluster 4"
          ],
          [
           "TO",
           -21.178986,
           -175.198242,
           "Tonga",
           "Cluster 4"
          ],
          [
           "TK",
           -8.967363,
           -171.855881,
           "Tokelau",
           "Cluster 4"
          ],
          [
           "AS",
           -14.270972,
           -170.132217,
           "American Samoa",
           "Cluster 4"
          ],
          [
           "WF",
           -13.768752,
           -177.156097,
           "Wallis and Futuna",
           "Cluster 4"
          ],
          [
           "WS",
           -13.759029,
           -172.10462900000002,
           "Samoa",
           "Cluster 4"
          ],
          [
           "CK",
           -21.236735999999997,
           -159.777671,
           "Cook Islands",
           "Cluster 4"
          ],
          [
           "PF",
           -17.679742,
           -149.40684299999998,
           "French Polynesia",
           "Cluster 4"
          ],
          [
           "NU",
           -19.054445,
           -169.867233,
           "Niue",
           "Cluster 4"
          ],
          [
           "PN",
           -24.703615,
           -127.43930800000001,
           "Pitcairn Islands",
           "Cluster 4"
          ]
         ],
         "hovertemplate": "Cluster=%{customdata[4]}<br>country=%{customdata[0]}<br>latitude=%{customdata[1]}<br>longitude=%{customdata[2]}<br>name=%{customdata[3]}<extra></extra>",
         "legendgroup": "Cluster 4",
         "marker": {
          "color": "#FFA15A"
         },
         "name": "Cluster 4",
         "notched": true,
         "offsetgroup": "Cluster 4",
         "showlegend": false,
         "type": "box",
         "x": [
          "Cluster 4",
          "Cluster 4",
          "Cluster 4",
          "Cluster 4",
          "Cluster 4",
          "Cluster 4",
          "Cluster 4",
          "Cluster 4",
          "Cluster 4",
          "Cluster 4"
         ],
         "xaxis": "x2",
         "yaxis": "y2"
        },
        {
         "alignmentgroup": "True",
         "bingroup": "x",
         "hovertemplate": "Cluster=%{x}<br>count=%{y}<extra></extra>",
         "legendgroup": "Cluster 5",
         "marker": {
          "color": "#19d3f3",
          "opacity": 0.7
         },
         "name": "Cluster 5",
         "offsetgroup": "Cluster 5",
         "orientation": "v",
         "showlegend": true,
         "type": "histogram",
         "x": [
          "Cluster 5",
          "Cluster 5",
          "Cluster 5",
          "Cluster 5",
          "Cluster 5",
          "Cluster 5",
          "Cluster 5",
          "Cluster 5",
          "Cluster 5",
          "Cluster 5",
          "Cluster 5",
          "Cluster 5",
          "Cluster 5",
          "Cluster 5"
         ],
         "xaxis": "x",
         "yaxis": "y"
        },
        {
         "alignmentgroup": "True",
         "customdata": [
          [
           "NC",
           -20.904304999999997,
           165.618042,
           "New Caledonia",
           "Cluster 5"
          ],
          [
           "NF",
           -29.040834999999998,
           167.954712,
           "Norfolk Island",
           "Cluster 5"
          ],
          [
           "NZ",
           -40.900557,
           174.88597099999998,
           "New Zealand",
           "Cluster 5"
          ],
          [
           "FJ",
           -16.578193,
           179.414413,
           "Fiji",
           "Cluster 5"
          ],
          [
           "AU",
           -25.274398,
           133.775136,
           "Australia",
           "Cluster 5"
          ],
          [
           "MH",
           7.131474000000001,
           171.184478,
           "Marshall Islands",
           "Cluster 5"
          ],
          [
           "FM",
           7.425553999999999,
           150.550812,
           "Micronesia",
           "Cluster 5"
          ],
          [
           "TV",
           -7.109535,
           177.64933,
           "Tuvalu",
           "Cluster 5"
          ],
          [
           "NR",
           -0.522778,
           166.931503,
           "Nauru",
           "Cluster 5"
          ],
          [
           "PG",
           -6.314993,
           143.95555,
           "Papua New Guinea",
           "Cluster 5"
          ],
          [
           "SB",
           -9.645710000000001,
           160.156194,
           "Solomon Islands",
           "Cluster 5"
          ],
          [
           "VU",
           -15.376706,
           166.959158,
           "Vanuatu",
           "Cluster 5"
          ],
          [
           "GU",
           13.444304,
           144.793731,
           "Guam",
           "Cluster 5"
          ],
          [
           "MP",
           17.33083,
           145.38468999999998,
           "Northern Mariana Islands",
           "Cluster 5"
          ]
         ],
         "hovertemplate": "Cluster=%{customdata[4]}<br>country=%{customdata[0]}<br>latitude=%{customdata[1]}<br>longitude=%{customdata[2]}<br>name=%{customdata[3]}<extra></extra>",
         "legendgroup": "Cluster 5",
         "marker": {
          "color": "#19d3f3"
         },
         "name": "Cluster 5",
         "notched": true,
         "offsetgroup": "Cluster 5",
         "showlegend": false,
         "type": "box",
         "x": [
          "Cluster 5",
          "Cluster 5",
          "Cluster 5",
          "Cluster 5",
          "Cluster 5",
          "Cluster 5",
          "Cluster 5",
          "Cluster 5",
          "Cluster 5",
          "Cluster 5",
          "Cluster 5",
          "Cluster 5",
          "Cluster 5",
          "Cluster 5"
         ],
         "xaxis": "x2",
         "yaxis": "y2"
        },
        {
         "alignmentgroup": "True",
         "bingroup": "x",
         "hovertemplate": "Cluster=%{x}<br>count=%{y}<extra></extra>",
         "legendgroup": "Cluster 6",
         "marker": {
          "color": "#FF6692",
          "opacity": 0.7
         },
         "name": "Cluster 6",
         "offsetgroup": "Cluster 6",
         "orientation": "v",
         "showlegend": true,
         "type": "histogram",
         "x": [
          "Cluster 6",
          "Cluster 6",
          "Cluster 6",
          "Cluster 6",
          "Cluster 6",
          "Cluster 6",
          "Cluster 6",
          "Cluster 6",
          "Cluster 6",
          "Cluster 6",
          "Cluster 6",
          "Cluster 6",
          "Cluster 6",
          "Cluster 6",
          "Cluster 6",
          "Cluster 6",
          "Cluster 6",
          "Cluster 6",
          "Cluster 6",
          "Cluster 6",
          "Cluster 6",
          "Cluster 6",
          "Cluster 6",
          "Cluster 6",
          "Cluster 6",
          "Cluster 6",
          "Cluster 6",
          "Cluster 6",
          "Cluster 6",
          "Cluster 6",
          "Cluster 6",
          "Cluster 6",
          "Cluster 6",
          "Cluster 6",
          "Cluster 6"
         ],
         "xaxis": "x",
         "yaxis": "y"
        },
        {
         "alignmentgroup": "True",
         "customdata": [
          [
           "AM",
           40.069099,
           45.038189,
           "Armenia",
           "Cluster 6"
          ],
          [
           "KG",
           41.20438,
           74.766098,
           "Kyrgyzstan",
           "Cluster 6"
          ],
          [
           "AE",
           23.424076,
           53.847818000000004,
           "United Arab Emirates",
           "Cluster 6"
          ],
          [
           "AF",
           33.93911,
           67.709953,
           "Afghanistan",
           "Cluster 6"
          ],
          [
           "PS",
           31.952162,
           35.233154,
           "Palestinian Territories",
           "Cluster 6"
          ],
          [
           "AZ",
           40.143105,
           47.576927000000005,
           "Azerbaijan",
           "Cluster 6"
          ],
          [
           "YE",
           15.552726999999999,
           48.516388,
           "Yemen",
           "Cluster 6"
          ],
          [
           "PK",
           30.375321000000003,
           69.345116,
           "Pakistan",
           "Cluster 6"
          ],
          [
           "GE",
           42.315407,
           43.356891999999995,
           "Georgia",
           "Cluster 6"
          ],
          [
           "LB",
           33.854721000000005,
           35.862285,
           "Lebanon",
           "Cluster 6"
          ],
          [
           "OM",
           21.512583,
           55.923255000000005,
           "Oman",
           "Cluster 6"
          ],
          [
           "UZ",
           41.377491,
           64.585262,
           "Uzbekistan",
           "Cluster 6"
          ],
          [
           "KW",
           29.311659999999996,
           47.481766,
           "Kuwait",
           "Cluster 6"
          ],
          [
           "TR",
           38.963745,
           35.243322,
           "Turkey",
           "Cluster 6"
          ],
          [
           "JO",
           30.585164000000002,
           36.238414,
           "Jordan",
           "Cluster 6"
          ],
          [
           "SD",
           12.862807,
           30.217636,
           "Sudan",
           "Cluster 6"
          ],
          [
           "DJ",
           11.825138,
           42.590275,
           "Djibouti",
           "Cluster 6"
          ],
          [
           "MV",
           3.202778,
           73.22068,
           "Maldives",
           "Cluster 6"
          ],
          [
           "GZ",
           31.354676,
           34.308825,
           "Gaza Strip",
           "Cluster 6"
          ],
          [
           "CY",
           35.126413,
           33.429859,
           "Cyprus",
           "Cluster 6"
          ],
          [
           "EG",
           26.820553000000004,
           30.802497999999996,
           "Egypt",
           "Cluster 6"
          ],
          [
           "SO",
           5.152149,
           46.199616,
           "Somalia",
           "Cluster 6"
          ],
          [
           "SA",
           23.885942,
           45.079162,
           "Saudi Arabia",
           "Cluster 6"
          ],
          [
           "BH",
           25.930414000000003,
           50.637772,
           "Bahrain",
           "Cluster 6"
          ],
          [
           "SY",
           34.802075,
           38.996815000000005,
           "Syria",
           "Cluster 6"
          ],
          [
           "IL",
           31.046051000000002,
           34.851612,
           "Israel",
           "Cluster 6"
          ],
          [
           "TJ",
           38.861034000000004,
           71.276093,
           "Tajikistan",
           "Cluster 6"
          ],
          [
           "ET",
           9.145,
           40.489672999999996,
           "Ethiopia",
           "Cluster 6"
          ],
          [
           "IO",
           -6.343194,
           71.87651899999999,
           "British Indian Ocean Territory",
           "Cluster 6"
          ],
          [
           "TM",
           38.969719,
           59.556278000000006,
           "Turkmenistan",
           "Cluster 6"
          ],
          [
           "IQ",
           33.223191,
           43.679291,
           "Iraq",
           "Cluster 6"
          ],
          [
           "QA",
           25.354826,
           51.183884,
           "Qatar",
           "Cluster 6"
          ],
          [
           "IR",
           32.427908,
           53.68804599999999,
           "Iran",
           "Cluster 6"
          ],
          [
           "ER",
           15.179383999999999,
           39.782334000000006,
           "Eritrea",
           "Cluster 6"
          ],
          [
           "KZ",
           48.019573,
           66.923684,
           "Kazakhstan",
           "Cluster 6"
          ]
         ],
         "hovertemplate": "Cluster=%{customdata[4]}<br>country=%{customdata[0]}<br>latitude=%{customdata[1]}<br>longitude=%{customdata[2]}<br>name=%{customdata[3]}<extra></extra>",
         "legendgroup": "Cluster 6",
         "marker": {
          "color": "#FF6692"
         },
         "name": "Cluster 6",
         "notched": true,
         "offsetgroup": "Cluster 6",
         "showlegend": false,
         "type": "box",
         "x": [
          "Cluster 6",
          "Cluster 6",
          "Cluster 6",
          "Cluster 6",
          "Cluster 6",
          "Cluster 6",
          "Cluster 6",
          "Cluster 6",
          "Cluster 6",
          "Cluster 6",
          "Cluster 6",
          "Cluster 6",
          "Cluster 6",
          "Cluster 6",
          "Cluster 6",
          "Cluster 6",
          "Cluster 6",
          "Cluster 6",
          "Cluster 6",
          "Cluster 6",
          "Cluster 6",
          "Cluster 6",
          "Cluster 6",
          "Cluster 6",
          "Cluster 6",
          "Cluster 6",
          "Cluster 6",
          "Cluster 6",
          "Cluster 6",
          "Cluster 6",
          "Cluster 6",
          "Cluster 6",
          "Cluster 6",
          "Cluster 6",
          "Cluster 6"
         ],
         "xaxis": "x2",
         "yaxis": "y2"
        }
       ],
       "layout": {
        "barmode": "relative",
        "height": 600,
        "legend": {
         "title": {
          "text": "Cluster"
         },
         "tracegroupgap": 0
        },
        "margin": {
         "t": 60
        },
        "template": {
         "data": {
          "bar": [
           {
            "error_x": {
             "color": "#2a3f5f"
            },
            "error_y": {
             "color": "#2a3f5f"
            },
            "marker": {
             "line": {
              "color": "#E5ECF6",
              "width": 0.5
             }
            },
            "type": "bar"
           }
          ],
          "barpolar": [
           {
            "marker": {
             "line": {
              "color": "#E5ECF6",
              "width": 0.5
             }
            },
            "type": "barpolar"
           }
          ],
          "carpet": [
           {
            "aaxis": {
             "endlinecolor": "#2a3f5f",
             "gridcolor": "white",
             "linecolor": "white",
             "minorgridcolor": "white",
             "startlinecolor": "#2a3f5f"
            },
            "baxis": {
             "endlinecolor": "#2a3f5f",
             "gridcolor": "white",
             "linecolor": "white",
             "minorgridcolor": "white",
             "startlinecolor": "#2a3f5f"
            },
            "type": "carpet"
           }
          ],
          "choropleth": [
           {
            "colorbar": {
             "outlinewidth": 0,
             "ticks": ""
            },
            "type": "choropleth"
           }
          ],
          "contour": [
           {
            "colorbar": {
             "outlinewidth": 0,
             "ticks": ""
            },
            "colorscale": [
             [
              0,
              "#0d0887"
             ],
             [
              0.1111111111111111,
              "#46039f"
             ],
             [
              0.2222222222222222,
              "#7201a8"
             ],
             [
              0.3333333333333333,
              "#9c179e"
             ],
             [
              0.4444444444444444,
              "#bd3786"
             ],
             [
              0.5555555555555556,
              "#d8576b"
             ],
             [
              0.6666666666666666,
              "#ed7953"
             ],
             [
              0.7777777777777778,
              "#fb9f3a"
             ],
             [
              0.8888888888888888,
              "#fdca26"
             ],
             [
              1,
              "#f0f921"
             ]
            ],
            "type": "contour"
           }
          ],
          "contourcarpet": [
           {
            "colorbar": {
             "outlinewidth": 0,
             "ticks": ""
            },
            "type": "contourcarpet"
           }
          ],
          "heatmap": [
           {
            "colorbar": {
             "outlinewidth": 0,
             "ticks": ""
            },
            "colorscale": [
             [
              0,
              "#0d0887"
             ],
             [
              0.1111111111111111,
              "#46039f"
             ],
             [
              0.2222222222222222,
              "#7201a8"
             ],
             [
              0.3333333333333333,
              "#9c179e"
             ],
             [
              0.4444444444444444,
              "#bd3786"
             ],
             [
              0.5555555555555556,
              "#d8576b"
             ],
             [
              0.6666666666666666,
              "#ed7953"
             ],
             [
              0.7777777777777778,
              "#fb9f3a"
             ],
             [
              0.8888888888888888,
              "#fdca26"
             ],
             [
              1,
              "#f0f921"
             ]
            ],
            "type": "heatmap"
           }
          ],
          "heatmapgl": [
           {
            "colorbar": {
             "outlinewidth": 0,
             "ticks": ""
            },
            "colorscale": [
             [
              0,
              "#0d0887"
             ],
             [
              0.1111111111111111,
              "#46039f"
             ],
             [
              0.2222222222222222,
              "#7201a8"
             ],
             [
              0.3333333333333333,
              "#9c179e"
             ],
             [
              0.4444444444444444,
              "#bd3786"
             ],
             [
              0.5555555555555556,
              "#d8576b"
             ],
             [
              0.6666666666666666,
              "#ed7953"
             ],
             [
              0.7777777777777778,
              "#fb9f3a"
             ],
             [
              0.8888888888888888,
              "#fdca26"
             ],
             [
              1,
              "#f0f921"
             ]
            ],
            "type": "heatmapgl"
           }
          ],
          "histogram": [
           {
            "marker": {
             "colorbar": {
              "outlinewidth": 0,
              "ticks": ""
             }
            },
            "type": "histogram"
           }
          ],
          "histogram2d": [
           {
            "colorbar": {
             "outlinewidth": 0,
             "ticks": ""
            },
            "colorscale": [
             [
              0,
              "#0d0887"
             ],
             [
              0.1111111111111111,
              "#46039f"
             ],
             [
              0.2222222222222222,
              "#7201a8"
             ],
             [
              0.3333333333333333,
              "#9c179e"
             ],
             [
              0.4444444444444444,
              "#bd3786"
             ],
             [
              0.5555555555555556,
              "#d8576b"
             ],
             [
              0.6666666666666666,
              "#ed7953"
             ],
             [
              0.7777777777777778,
              "#fb9f3a"
             ],
             [
              0.8888888888888888,
              "#fdca26"
             ],
             [
              1,
              "#f0f921"
             ]
            ],
            "type": "histogram2d"
           }
          ],
          "histogram2dcontour": [
           {
            "colorbar": {
             "outlinewidth": 0,
             "ticks": ""
            },
            "colorscale": [
             [
              0,
              "#0d0887"
             ],
             [
              0.1111111111111111,
              "#46039f"
             ],
             [
              0.2222222222222222,
              "#7201a8"
             ],
             [
              0.3333333333333333,
              "#9c179e"
             ],
             [
              0.4444444444444444,
              "#bd3786"
             ],
             [
              0.5555555555555556,
              "#d8576b"
             ],
             [
              0.6666666666666666,
              "#ed7953"
             ],
             [
              0.7777777777777778,
              "#fb9f3a"
             ],
             [
              0.8888888888888888,
              "#fdca26"
             ],
             [
              1,
              "#f0f921"
             ]
            ],
            "type": "histogram2dcontour"
           }
          ],
          "mesh3d": [
           {
            "colorbar": {
             "outlinewidth": 0,
             "ticks": ""
            },
            "type": "mesh3d"
           }
          ],
          "parcoords": [
           {
            "line": {
             "colorbar": {
              "outlinewidth": 0,
              "ticks": ""
             }
            },
            "type": "parcoords"
           }
          ],
          "pie": [
           {
            "automargin": true,
            "type": "pie"
           }
          ],
          "scatter": [
           {
            "marker": {
             "colorbar": {
              "outlinewidth": 0,
              "ticks": ""
             }
            },
            "type": "scatter"
           }
          ],
          "scatter3d": [
           {
            "line": {
             "colorbar": {
              "outlinewidth": 0,
              "ticks": ""
             }
            },
            "marker": {
             "colorbar": {
              "outlinewidth": 0,
              "ticks": ""
             }
            },
            "type": "scatter3d"
           }
          ],
          "scattercarpet": [
           {
            "marker": {
             "colorbar": {
              "outlinewidth": 0,
              "ticks": ""
             }
            },
            "type": "scattercarpet"
           }
          ],
          "scattergeo": [
           {
            "marker": {
             "colorbar": {
              "outlinewidth": 0,
              "ticks": ""
             }
            },
            "type": "scattergeo"
           }
          ],
          "scattergl": [
           {
            "marker": {
             "colorbar": {
              "outlinewidth": 0,
              "ticks": ""
             }
            },
            "type": "scattergl"
           }
          ],
          "scattermapbox": [
           {
            "marker": {
             "colorbar": {
              "outlinewidth": 0,
              "ticks": ""
             }
            },
            "type": "scattermapbox"
           }
          ],
          "scatterpolar": [
           {
            "marker": {
             "colorbar": {
              "outlinewidth": 0,
              "ticks": ""
             }
            },
            "type": "scatterpolar"
           }
          ],
          "scatterpolargl": [
           {
            "marker": {
             "colorbar": {
              "outlinewidth": 0,
              "ticks": ""
             }
            },
            "type": "scatterpolargl"
           }
          ],
          "scatterternary": [
           {
            "marker": {
             "colorbar": {
              "outlinewidth": 0,
              "ticks": ""
             }
            },
            "type": "scatterternary"
           }
          ],
          "surface": [
           {
            "colorbar": {
             "outlinewidth": 0,
             "ticks": ""
            },
            "colorscale": [
             [
              0,
              "#0d0887"
             ],
             [
              0.1111111111111111,
              "#46039f"
             ],
             [
              0.2222222222222222,
              "#7201a8"
             ],
             [
              0.3333333333333333,
              "#9c179e"
             ],
             [
              0.4444444444444444,
              "#bd3786"
             ],
             [
              0.5555555555555556,
              "#d8576b"
             ],
             [
              0.6666666666666666,
              "#ed7953"
             ],
             [
              0.7777777777777778,
              "#fb9f3a"
             ],
             [
              0.8888888888888888,
              "#fdca26"
             ],
             [
              1,
              "#f0f921"
             ]
            ],
            "type": "surface"
           }
          ],
          "table": [
           {
            "cells": {
             "fill": {
              "color": "#EBF0F8"
             },
             "line": {
              "color": "white"
             }
            },
            "header": {
             "fill": {
              "color": "#C8D4E3"
             },
             "line": {
              "color": "white"
             }
            },
            "type": "table"
           }
          ]
         },
         "layout": {
          "annotationdefaults": {
           "arrowcolor": "#2a3f5f",
           "arrowhead": 0,
           "arrowwidth": 1
          },
          "autotypenumbers": "strict",
          "coloraxis": {
           "colorbar": {
            "outlinewidth": 0,
            "ticks": ""
           }
          },
          "colorscale": {
           "diverging": [
            [
             0,
             "#8e0152"
            ],
            [
             0.1,
             "#c51b7d"
            ],
            [
             0.2,
             "#de77ae"
            ],
            [
             0.3,
             "#f1b6da"
            ],
            [
             0.4,
             "#fde0ef"
            ],
            [
             0.5,
             "#f7f7f7"
            ],
            [
             0.6,
             "#e6f5d0"
            ],
            [
             0.7,
             "#b8e186"
            ],
            [
             0.8,
             "#7fbc41"
            ],
            [
             0.9,
             "#4d9221"
            ],
            [
             1,
             "#276419"
            ]
           ],
           "sequential": [
            [
             0,
             "#0d0887"
            ],
            [
             0.1111111111111111,
             "#46039f"
            ],
            [
             0.2222222222222222,
             "#7201a8"
            ],
            [
             0.3333333333333333,
             "#9c179e"
            ],
            [
             0.4444444444444444,
             "#bd3786"
            ],
            [
             0.5555555555555556,
             "#d8576b"
            ],
            [
             0.6666666666666666,
             "#ed7953"
            ],
            [
             0.7777777777777778,
             "#fb9f3a"
            ],
            [
             0.8888888888888888,
             "#fdca26"
            ],
            [
             1,
             "#f0f921"
            ]
           ],
           "sequentialminus": [
            [
             0,
             "#0d0887"
            ],
            [
             0.1111111111111111,
             "#46039f"
            ],
            [
             0.2222222222222222,
             "#7201a8"
            ],
            [
             0.3333333333333333,
             "#9c179e"
            ],
            [
             0.4444444444444444,
             "#bd3786"
            ],
            [
             0.5555555555555556,
             "#d8576b"
            ],
            [
             0.6666666666666666,
             "#ed7953"
            ],
            [
             0.7777777777777778,
             "#fb9f3a"
            ],
            [
             0.8888888888888888,
             "#fdca26"
            ],
            [
             1,
             "#f0f921"
            ]
           ]
          },
          "colorway": [
           "#636efa",
           "#EF553B",
           "#00cc96",
           "#ab63fa",
           "#FFA15A",
           "#19d3f3",
           "#FF6692",
           "#B6E880",
           "#FF97FF",
           "#FECB52"
          ],
          "font": {
           "color": "#2a3f5f"
          },
          "geo": {
           "bgcolor": "white",
           "lakecolor": "white",
           "landcolor": "#E5ECF6",
           "showlakes": true,
           "showland": true,
           "subunitcolor": "white"
          },
          "hoverlabel": {
           "align": "left"
          },
          "hovermode": "closest",
          "mapbox": {
           "style": "light"
          },
          "paper_bgcolor": "white",
          "plot_bgcolor": "#E5ECF6",
          "polar": {
           "angularaxis": {
            "gridcolor": "white",
            "linecolor": "white",
            "ticks": ""
           },
           "bgcolor": "#E5ECF6",
           "radialaxis": {
            "gridcolor": "white",
            "linecolor": "white",
            "ticks": ""
           }
          },
          "scene": {
           "xaxis": {
            "backgroundcolor": "#E5ECF6",
            "gridcolor": "white",
            "gridwidth": 2,
            "linecolor": "white",
            "showbackground": true,
            "ticks": "",
            "zerolinecolor": "white"
           },
           "yaxis": {
            "backgroundcolor": "#E5ECF6",
            "gridcolor": "white",
            "gridwidth": 2,
            "linecolor": "white",
            "showbackground": true,
            "ticks": "",
            "zerolinecolor": "white"
           },
           "zaxis": {
            "backgroundcolor": "#E5ECF6",
            "gridcolor": "white",
            "gridwidth": 2,
            "linecolor": "white",
            "showbackground": true,
            "ticks": "",
            "zerolinecolor": "white"
           }
          },
          "shapedefaults": {
           "line": {
            "color": "#2a3f5f"
           }
          },
          "ternary": {
           "aaxis": {
            "gridcolor": "white",
            "linecolor": "white",
            "ticks": ""
           },
           "baxis": {
            "gridcolor": "white",
            "linecolor": "white",
            "ticks": ""
           },
           "bgcolor": "#E5ECF6",
           "caxis": {
            "gridcolor": "white",
            "linecolor": "white",
            "ticks": ""
           }
          },
          "title": {
           "x": 0.05
          },
          "xaxis": {
           "automargin": true,
           "gridcolor": "white",
           "linecolor": "white",
           "ticks": "",
           "title": {
            "standoff": 15
           },
           "zerolinecolor": "white",
           "zerolinewidth": 2
          },
          "yaxis": {
           "automargin": true,
           "gridcolor": "white",
           "linecolor": "white",
           "ticks": "",
           "title": {
            "standoff": 15
           },
           "zerolinecolor": "white",
           "zerolinewidth": 2
          }
         }
        },
        "xaxis": {
         "anchor": "y",
         "categoryarray": [
          "Cluster 0",
          "Cluster 1",
          "Cluster 2",
          "Cluster 3",
          "Cluster 4",
          "Cluster 5",
          "Cluster 6"
         ],
         "categoryorder": "array",
         "domain": [
          0,
          1
         ],
         "title": {
          "text": "Cluster"
         }
        },
        "xaxis2": {
         "anchor": "y2",
         "domain": [
          0,
          1
         ],
         "matches": "x",
         "showgrid": true,
         "showticklabels": false
        },
        "yaxis": {
         "anchor": "x",
         "domain": [
          0,
          0.7326
         ],
         "title": {
          "text": "count"
         }
        },
        "yaxis2": {
         "anchor": "x2",
         "domain": [
          0.7426,
          1
         ],
         "matches": "y2",
         "showgrid": false,
         "showline": false,
         "showticklabels": false,
         "ticks": ""
        }
       }
      },
      "text/html": [
       "<div>                            <div id=\"53c0d39d-b131-4e65-882d-f5bf138b6ca5\" class=\"plotly-graph-div\" style=\"height:600px; width:100%;\"></div>            <script type=\"text/javascript\">                require([\"plotly\"], function(Plotly) {                    window.PLOTLYENV=window.PLOTLYENV || {};                                    if (document.getElementById(\"53c0d39d-b131-4e65-882d-f5bf138b6ca5\")) {                    Plotly.newPlot(                        \"53c0d39d-b131-4e65-882d-f5bf138b6ca5\",                        [{\"alignmentgroup\": \"True\", \"bingroup\": \"x\", \"hovertemplate\": \"Cluster=%{x}<br>count=%{y}<extra></extra>\", \"legendgroup\": \"Cluster 0\", \"marker\": {\"color\": \"#636efa\", \"opacity\": 0.7}, \"name\": \"Cluster 0\", \"offsetgroup\": \"Cluster 0\", \"orientation\": \"v\", \"showlegend\": true, \"type\": \"histogram\", \"x\": [\"Cluster 0\", \"Cluster 0\", \"Cluster 0\", \"Cluster 0\", \"Cluster 0\", \"Cluster 0\", \"Cluster 0\", \"Cluster 0\", \"Cluster 0\", \"Cluster 0\", \"Cluster 0\", \"Cluster 0\", \"Cluster 0\", \"Cluster 0\", \"Cluster 0\", \"Cluster 0\", \"Cluster 0\", \"Cluster 0\", \"Cluster 0\", \"Cluster 0\", \"Cluster 0\", \"Cluster 0\", \"Cluster 0\", \"Cluster 0\", \"Cluster 0\", \"Cluster 0\", \"Cluster 0\", \"Cluster 0\", \"Cluster 0\", \"Cluster 0\", \"Cluster 0\", \"Cluster 0\", \"Cluster 0\"], \"xaxis\": \"x\", \"yaxis\": \"y\"}, {\"alignmentgroup\": \"True\", \"customdata\": [[\"ZW\", -19.015438, 29.154857, \"Zimbabwe\", \"Cluster 0\"], [\"MZ\", -18.665695, 35.529562, \"Mozambique\", \"Cluster 0\"], [null, -22.957639999999998, 18.49041, \"Namibia\", \"Cluster 0\"], [\"BV\", -54.423199, 3.4131940000000003, \"Bouvet Island\", \"Cluster 0\"], [\"BW\", -22.328474, 24.684866, \"Botswana\", \"Cluster 0\"], [\"TF\", -49.280366, 69.348557, \"French Southern Territories\", \"Cluster 0\"], [\"CD\", -4.038333000000001, 21.758664000000003, \"Congo [DRC]\", \"Cluster 0\"], [\"CF\", 6.611111, 20.939444, \"Central African Republic\", \"Cluster 0\"], [\"CG\", -0.228021, 15.827658999999999, \"Congo [Republic]\", \"Cluster 0\"], [\"SZ\", -26.522503000000004, 31.465866, \"Swaziland\", \"Cluster 0\"], [\"GA\", -0.803689, 11.609444, \"Gabon\", \"Cluster 0\"], [\"CM\", 7.369722, 12.354722, \"Cameroon\", \"Cluster 0\"], [\"ST\", 0.18636, 6.613081, \"S\\u00e3o Tom\\u00e9 and Pr\\u00edncipe\", \"Cluster 0\"], [\"RE\", -21.115141, 55.536384, \"R\\u00e9union\", \"Cluster 0\"], [\"RW\", -1.940278, 29.873888, \"Rwanda\", \"Cluster 0\"], [\"SC\", -4.679574, 55.491977, \"Seychelles\", \"Cluster 0\"], [\"ZM\", -13.133897, 27.849332, \"Zambia\", \"Cluster 0\"], [\"SH\", -24.143473999999998, -10.030696, \"Saint Helena\", \"Cluster 0\"], [\"BI\", -3.3730559999999996, 29.918885999999997, \"Burundi\", \"Cluster 0\"], [\"TZ\", -6.369028, 34.888822, \"Tanzania\", \"Cluster 0\"], [\"GQ\", 1.6508009999999997, 10.267895, \"Equatorial Guinea\", \"Cluster 0\"], [\"MG\", -18.766947000000002, 46.869107, \"Madagascar\", \"Cluster 0\"], [\"MW\", -13.254307999999998, 34.301525, \"Malawi\", \"Cluster 0\"], [\"ZA\", -30.559482, 22.937506, \"South Africa\", \"Cluster 0\"], [\"YT\", -12.8275, 45.166244, \"Mayotte\", \"Cluster 0\"], [\"AQ\", -75.250973, -0.071389, \"Antarctica\", \"Cluster 0\"], [\"MU\", -20.348404000000002, 57.552152, \"Mauritius\", \"Cluster 0\"], [\"KM\", -11.875001, 43.872219, \"Comoros\", \"Cluster 0\"], [\"AO\", -11.202691999999999, 17.873887, \"Angola\", \"Cluster 0\"], [\"HM\", -53.08181, 73.50415799999999, \"Heard Island and McDonald Islands\", \"Cluster 0\"], [\"UG\", 1.373333, 32.290275, \"Uganda\", \"Cluster 0\"], [\"LS\", -29.609988, 28.233608, \"Lesotho\", \"Cluster 0\"], [\"KE\", -0.023559, 37.906193, \"Kenya\", \"Cluster 0\"]], \"hovertemplate\": \"Cluster=%{customdata[4]}<br>country=%{customdata[0]}<br>latitude=%{customdata[1]}<br>longitude=%{customdata[2]}<br>name=%{customdata[3]}<extra></extra>\", \"legendgroup\": \"Cluster 0\", \"marker\": {\"color\": \"#636efa\"}, \"name\": \"Cluster 0\", \"notched\": true, \"offsetgroup\": \"Cluster 0\", \"showlegend\": false, \"type\": \"box\", \"x\": [\"Cluster 0\", \"Cluster 0\", \"Cluster 0\", \"Cluster 0\", \"Cluster 0\", \"Cluster 0\", \"Cluster 0\", \"Cluster 0\", \"Cluster 0\", \"Cluster 0\", \"Cluster 0\", \"Cluster 0\", \"Cluster 0\", \"Cluster 0\", \"Cluster 0\", \"Cluster 0\", \"Cluster 0\", \"Cluster 0\", \"Cluster 0\", \"Cluster 0\", \"Cluster 0\", \"Cluster 0\", \"Cluster 0\", \"Cluster 0\", \"Cluster 0\", \"Cluster 0\", \"Cluster 0\", \"Cluster 0\", \"Cluster 0\", \"Cluster 0\", \"Cluster 0\", \"Cluster 0\", \"Cluster 0\"], \"xaxis\": \"x2\", \"yaxis\": \"y2\"}, {\"alignmentgroup\": \"True\", \"bingroup\": \"x\", \"hovertemplate\": \"Cluster=%{x}<br>count=%{y}<extra></extra>\", \"legendgroup\": \"Cluster 1\", \"marker\": {\"color\": \"#EF553B\", \"opacity\": 0.7}, \"name\": \"Cluster 1\", \"offsetgroup\": \"Cluster 1\", \"orientation\": \"v\", \"showlegend\": true, \"type\": \"histogram\", \"x\": [\"Cluster 1\", \"Cluster 1\", \"Cluster 1\", \"Cluster 1\", \"Cluster 1\", \"Cluster 1\", \"Cluster 1\", \"Cluster 1\", \"Cluster 1\", \"Cluster 1\", \"Cluster 1\", \"Cluster 1\", \"Cluster 1\", \"Cluster 1\", \"Cluster 1\", \"Cluster 1\", \"Cluster 1\", \"Cluster 1\", \"Cluster 1\", \"Cluster 1\", \"Cluster 1\", \"Cluster 1\", \"Cluster 1\", \"Cluster 1\", \"Cluster 1\", \"Cluster 1\", \"Cluster 1\", \"Cluster 1\", \"Cluster 1\", \"Cluster 1\", \"Cluster 1\", \"Cluster 1\", \"Cluster 1\", \"Cluster 1\", \"Cluster 1\", \"Cluster 1\", \"Cluster 1\", \"Cluster 1\", \"Cluster 1\", \"Cluster 1\", \"Cluster 1\", \"Cluster 1\", \"Cluster 1\", \"Cluster 1\", \"Cluster 1\", \"Cluster 1\", \"Cluster 1\", \"Cluster 1\", \"Cluster 1\", \"Cluster 1\", \"Cluster 1\"], \"xaxis\": \"x\", \"yaxis\": \"y\"}, {\"alignmentgroup\": \"True\", \"customdata\": [[\"PM\", 46.941936, -56.27111, \"Saint Pierre and Miquelon\", \"Cluster 1\"], [\"PY\", -23.442503, -58.44383199999999, \"Paraguay\", \"Cluster 1\"], [\"FK\", -51.796253, -59.523613, \"Falkland Islands [Islas Malvinas]\", \"Cluster 1\"], [\"LC\", 13.909444, -60.97889300000001, \"Saint Lucia\", \"Cluster 1\"], [\"KN\", 17.357822, -62.782998, \"Saint Kitts and Nevis\", \"Cluster 1\"], [\"PR\", 18.220833, -66.590149, \"Puerto Rico\", \"Cluster 1\"], [\"PE\", -9.189967, -75.015152, \"Peru\", \"Cluster 1\"], [\"MX\", 23.634501, -102.552784, \"Mexico\", \"Cluster 1\"], [\"MQ\", 14.641528, -61.024174, \"Martinique\", \"Cluster 1\"], [\"GD\", 12.262775999999999, -61.604170999999994, \"Grenada\", \"Cluster 1\"], [\"PA\", 8.537981, -80.782127, \"Panama\", \"Cluster 1\"], [\"GF\", 3.9338889999999997, -53.125781999999994, \"French Guiana\", \"Cluster 1\"], [\"HT\", 18.971187, -72.28521500000001, \"Haiti\", \"Cluster 1\"], [\"MS\", 16.742498, -62.187366000000004, \"Montserrat\", \"Cluster 1\"], [\"HN\", 15.199998999999998, -86.241905, \"Honduras\", \"Cluster 1\"], [\"NI\", 12.865416, -85.207229, \"Nicaragua\", \"Cluster 1\"], [\"GP\", 16.995971, -62.067641, \"Guadeloupe\", \"Cluster 1\"], [\"DO\", 18.735692999999998, -70.162651, \"Dominican Republic\", \"Cluster 1\"], [\"GS\", -54.429579000000004, -36.587909, \"South Georgia and the South Sandwich Islands\", \"Cluster 1\"], [\"GT\", 15.783470999999999, -90.23075899999999, \"Guatemala\", \"Cluster 1\"], [\"GY\", 4.860416000000001, -58.93018000000001, \"Guyana\", \"Cluster 1\"], [\"JM\", 18.109581, -77.297508, \"Jamaica\", \"Cluster 1\"], [\"DM\", 15.414999, -61.370976, \"Dominica\", \"Cluster 1\"], [\"EC\", -1.8312389999999998, -78.183406, \"Ecuador\", \"Cluster 1\"], [\"KY\", 19.513469, -80.566956, \"Cayman Islands\", \"Cluster 1\"], [\"VE\", 6.42375, -66.58973, \"Venezuela\", \"Cluster 1\"], [\"UY\", -32.522779, -55.765834999999996, \"Uruguay\", \"Cluster 1\"], [\"BB\", 13.193887, -59.543198, \"Barbados\", \"Cluster 1\"], [\"US\", 37.09024, -95.712891, \"United States\", \"Cluster 1\"], [\"VG\", 18.420695000000002, -64.63996800000001, \"British Virgin Islands\", \"Cluster 1\"], [\"TT\", 10.691803, -61.222503, \"Trinidad and Tobago\", \"Cluster 1\"], [\"BM\", 32.321384, -64.75737, \"Bermuda\", \"Cluster 1\"], [\"BO\", -16.290154, -63.588653, \"Bolivia\", \"Cluster 1\"], [\"BR\", -14.235004, -51.92528, \"Brazil\", \"Cluster 1\"], [\"BS\", 25.03428, -77.39628, \"Bahamas\", \"Cluster 1\"], [\"AW\", 12.52111, -69.968338, \"Aruba\", \"Cluster 1\"], [\"CA\", 56.130366, -106.34677099999999, \"Canada\", \"Cluster 1\"], [\"TC\", 21.694025, -71.797928, \"Turks and Caicos Islands\", \"Cluster 1\"], [\"SV\", 13.794185, -88.89653, \"El Salvador\", \"Cluster 1\"], [\"BZ\", 17.189877, -88.49765, \"Belize\", \"Cluster 1\"], [\"CL\", -35.675146999999996, -71.542969, \"Chile\", \"Cluster 1\"], [\"AG\", 17.060816, -61.796428000000006, \"Antigua and Barbuda\", \"Cluster 1\"], [\"AI\", 18.220554, -63.068615, \"Anguilla\", \"Cluster 1\"], [\"VI\", 18.335765, -64.896335, \"U.S. Virgin Islands\", \"Cluster 1\"], [\"AN\", 12.226078999999999, -69.060087, \"Netherlands Antilles\", \"Cluster 1\"], [\"AR\", -38.416097, -63.616671999999994, \"Argentina\", \"Cluster 1\"], [\"CU\", 21.521757, -77.78116700000001, \"Cuba\", \"Cluster 1\"], [\"SR\", 3.9193050000000005, -56.02778299999999, \"Suriname\", \"Cluster 1\"], [\"CR\", 9.748917, -83.753428, \"Costa Rica\", \"Cluster 1\"], [\"CO\", 4.570868, -74.297333, \"Colombia\", \"Cluster 1\"], [\"VC\", 12.984305, -61.287228000000006, \"Saint Vincent and the Grenadines\", \"Cluster 1\"]], \"hovertemplate\": \"Cluster=%{customdata[4]}<br>country=%{customdata[0]}<br>latitude=%{customdata[1]}<br>longitude=%{customdata[2]}<br>name=%{customdata[3]}<extra></extra>\", \"legendgroup\": \"Cluster 1\", \"marker\": {\"color\": \"#EF553B\"}, \"name\": \"Cluster 1\", \"notched\": true, \"offsetgroup\": \"Cluster 1\", \"showlegend\": false, \"type\": \"box\", \"x\": [\"Cluster 1\", \"Cluster 1\", \"Cluster 1\", \"Cluster 1\", \"Cluster 1\", \"Cluster 1\", \"Cluster 1\", \"Cluster 1\", \"Cluster 1\", \"Cluster 1\", \"Cluster 1\", \"Cluster 1\", \"Cluster 1\", \"Cluster 1\", \"Cluster 1\", \"Cluster 1\", \"Cluster 1\", \"Cluster 1\", \"Cluster 1\", \"Cluster 1\", \"Cluster 1\", \"Cluster 1\", \"Cluster 1\", \"Cluster 1\", \"Cluster 1\", \"Cluster 1\", \"Cluster 1\", \"Cluster 1\", \"Cluster 1\", \"Cluster 1\", \"Cluster 1\", \"Cluster 1\", \"Cluster 1\", \"Cluster 1\", \"Cluster 1\", \"Cluster 1\", \"Cluster 1\", \"Cluster 1\", \"Cluster 1\", \"Cluster 1\", \"Cluster 1\", \"Cluster 1\", \"Cluster 1\", \"Cluster 1\", \"Cluster 1\", \"Cluster 1\", \"Cluster 1\", \"Cluster 1\", \"Cluster 1\", \"Cluster 1\", \"Cluster 1\"], \"xaxis\": \"x2\", \"yaxis\": \"y2\"}, {\"alignmentgroup\": \"True\", \"bingroup\": \"x\", \"hovertemplate\": \"Cluster=%{x}<br>count=%{y}<extra></extra>\", \"legendgroup\": \"Cluster 2\", \"marker\": {\"color\": \"#00cc96\", \"opacity\": 0.7}, \"name\": \"Cluster 2\", \"offsetgroup\": \"Cluster 2\", \"orientation\": \"v\", \"showlegend\": true, \"type\": \"histogram\", \"x\": [\"Cluster 2\", \"Cluster 2\", \"Cluster 2\", \"Cluster 2\", \"Cluster 2\", \"Cluster 2\", \"Cluster 2\", \"Cluster 2\", \"Cluster 2\", \"Cluster 2\", \"Cluster 2\", \"Cluster 2\", \"Cluster 2\", \"Cluster 2\", \"Cluster 2\", \"Cluster 2\", \"Cluster 2\", \"Cluster 2\", \"Cluster 2\", \"Cluster 2\", \"Cluster 2\", \"Cluster 2\", \"Cluster 2\", \"Cluster 2\", \"Cluster 2\", \"Cluster 2\", \"Cluster 2\", \"Cluster 2\", \"Cluster 2\", \"Cluster 2\", \"Cluster 2\", \"Cluster 2\", \"Cluster 2\", \"Cluster 2\", \"Cluster 2\", \"Cluster 2\", \"Cluster 2\", \"Cluster 2\", \"Cluster 2\", \"Cluster 2\", \"Cluster 2\", \"Cluster 2\", \"Cluster 2\", \"Cluster 2\", \"Cluster 2\", \"Cluster 2\", \"Cluster 2\", \"Cluster 2\", \"Cluster 2\", \"Cluster 2\", \"Cluster 2\", \"Cluster 2\", \"Cluster 2\", \"Cluster 2\", \"Cluster 2\", \"Cluster 2\", \"Cluster 2\", \"Cluster 2\", \"Cluster 2\", \"Cluster 2\", \"Cluster 2\", \"Cluster 2\", \"Cluster 2\", \"Cluster 2\", \"Cluster 2\", \"Cluster 2\", \"Cluster 2\", \"Cluster 2\", \"Cluster 2\", \"Cluster 2\", \"Cluster 2\", \"Cluster 2\", \"Cluster 2\", \"Cluster 2\"], \"xaxis\": \"x\", \"yaxis\": \"y\"}, {\"alignmentgroup\": \"True\", \"customdata\": [[\"MD\", 47.411631, 28.369884999999996, \"Moldova\", \"Cluster 2\"], [\"LT\", 55.169438, 23.881275, \"Lithuania\", \"Cluster 2\"], [\"MA\", 31.791702, -7.09262, \"Morocco\", \"Cluster 2\"], [\"LY\", 26.3351, 17.228331, \"Libya\", \"Cluster 2\"], [\"ME\", 42.708678000000006, 19.37439, \"Montenegro\", \"Cluster 2\"], [\"LV\", 56.879635, 24.603189, \"Latvia\", \"Cluster 2\"], [\"LR\", 6.4280550000000005, -9.429499, \"Liberia\", \"Cluster 2\"], [\"MK\", 41.608635, 21.745275, \"Macedonia [FYROM]\", \"Cluster 2\"], [\"LI\", 47.166000000000004, 9.555373, \"Liechtenstein\", \"Cluster 2\"], [\"XK\", 42.602636, 20.902977, \"Kosovo\", \"Cluster 2\"], [\"ML\", 17.570692, -3.9961660000000006, \"Mali\", \"Cluster 2\"], [\"LU\", 49.815273, 6.129583, \"Luxembourg\", \"Cluster 2\"], [\"MC\", 43.750298, 7.412841, \"Monaco\", \"Cluster 2\"], [\"SJ\", 77.553604, 23.670272, \"Svalbard and Jan Mayen\", \"Cluster 2\"], [\"VA\", 41.902916, 12.453389, \"Vatican City\", \"Cluster 2\"], [\"SK\", 48.669026, 19.699023999999998, \"Slovakia\", \"Cluster 2\"], [\"SL\", 8.460555000000001, -11.779889, \"Sierra Leone\", \"Cluster 2\"], [\"SE\", 60.128161, 18.643501, \"Sweden\", \"Cluster 2\"], [\"SM\", 43.94236, 12.457777, \"San Marino\", \"Cluster 2\"], [\"SN\", 14.497401000000002, -14.452361999999999, \"Senegal\", \"Cluster 2\"], [\"RS\", 44.016521000000004, 21.005859, \"Serbia\", \"Cluster 2\"], [\"RO\", 45.943160999999996, 24.96676, \"Romania\", \"Cluster 2\"], [\"PT\", 39.399871999999995, -8.224454, \"Portugal\", \"Cluster 2\"], [\"PL\", 51.919438, 19.145135999999997, \"Poland\", \"Cluster 2\"], [\"TD\", 15.454166, 18.732207, \"Chad\", \"Cluster 2\"], [\"NO\", 60.472024, 8.468946, \"Norway\", \"Cluster 2\"], [\"NL\", 52.132633, 5.291266, \"Netherlands\", \"Cluster 2\"], [\"TG\", 8.619543, 0.824782, \"Togo\", \"Cluster 2\"], [\"NG\", 9.081999, 8.675277000000001, \"Nigeria\", \"Cluster 2\"], [\"NE\", 17.607789, 8.081666, \"Niger\", \"Cluster 2\"], [\"TN\", 33.886917, 9.537499, \"Tunisia\", \"Cluster 2\"], [\"SI\", 46.151241, 14.995463, \"Slovenia\", \"Cluster 2\"], [\"UM\", null, null, \"U.S. Minor Outlying Islands\", \"Cluster 2\"], [\"MT\", 35.937496, 14.375416, \"Malta\", \"Cluster 2\"], [\"MR\", 21.00789, -10.940835, \"Mauritania\", \"Cluster 2\"], [\"UA\", 48.379433, 31.16558, \"Ukraine\", \"Cluster 2\"], [\"AD\", 42.546245, 1.6015540000000001, \"Andorra\", \"Cluster 2\"], [\"FI\", 61.92411, 25.748151, \"Finland\", \"Cluster 2\"], [\"HU\", 47.162494, 19.503304, \"Hungary\", \"Cluster 2\"], [\"HR\", 45.1, 15.2, \"Croatia\", \"Cluster 2\"], [\"CZ\", 49.817492, 15.472961999999999, \"Czech Republic\", \"Cluster 2\"], [\"DE\", 51.165690999999995, 10.451526, \"Germany\", \"Cluster 2\"], [\"GW\", 11.803749, -15.180413, \"Guinea-Bissau\", \"Cluster 2\"], [\"DK\", 56.26392, 9.501785, \"Denmark\", \"Cluster 2\"], [\"DZ\", 28.033886, 1.6596259999999998, \"Algeria\", \"Cluster 2\"], [\"GR\", 39.074208, 21.824312, \"Greece\", \"Cluster 2\"], [\"GN\", 9.945587, -9.696645, \"Guinea\", \"Cluster 2\"], [\"GM\", 13.443182, -15.310139000000001, \"Gambia\", \"Cluster 2\"], [\"EE\", 58.595271999999994, 25.013607, \"Estonia\", \"Cluster 2\"], [\"GL\", 71.706936, -42.604303, \"Greenland\", \"Cluster 2\"], [\"GI\", 36.137741, -5.345374, \"Gibraltar\", \"Cluster 2\"], [\"GH\", 7.946527000000001, -1.0231940000000002, \"Ghana\", \"Cluster 2\"], [\"GG\", 49.465691, -2.5852779999999997, \"Guernsey\", \"Cluster 2\"], [\"EH\", 24.215526999999998, -12.885834, \"Western Sahara\", \"Cluster 2\"], [\"ES\", 40.463667, -3.7492199999999998, \"Spain\", \"Cluster 2\"], [\"FO\", 61.892635, -6.9118059999999995, \"Faroe Islands\", \"Cluster 2\"], [\"FR\", 46.227638, 2.213749, \"France\", \"Cluster 2\"], [\"GB\", 55.378051, -3.435973, \"United Kingdom\", \"Cluster 2\"], [\"CI\", 7.539989, -5.54708, \"C\\u00f4te d'Ivoire\", \"Cluster 2\"], [\"CV\", 16.002082, -24.013197, \"Cape Verde\", \"Cluster 2\"], [\"BA\", 43.915886, 17.679076000000002, \"Bosnia and Herzegovina\", \"Cluster 2\"], [\"BG\", 42.733883, 25.48583, \"Bulgaria\", \"Cluster 2\"], [\"JE\", 49.214439, -2.13125, \"Jersey\", \"Cluster 2\"], [\"CH\", 46.818188, 8.227511999999999, \"Switzerland\", \"Cluster 2\"], [\"IT\", 41.87194, 12.56738, \"Italy\", \"Cluster 2\"], [\"IS\", 64.96305100000001, -19.020835, \"Iceland\", \"Cluster 2\"], [\"BJ\", 9.30769, 2.315834, \"Benin\", \"Cluster 2\"], [\"BF\", 12.238333, -1.561593, \"Burkina Faso\", \"Cluster 2\"], [\"BE\", 50.503887, 4.469936, \"Belgium\", \"Cluster 2\"], [\"AT\", 47.516231, 14.550072, \"Austria\", \"Cluster 2\"], [\"IM\", 54.236107, -4.548056, \"Isle of Man\", \"Cluster 2\"], [\"BY\", 53.709807, 27.953389, \"Belarus\", \"Cluster 2\"], [\"IE\", 53.41291, -8.243889999999999, \"Ireland\", \"Cluster 2\"], [\"AL\", 41.153332, 20.168331, \"Albania\", \"Cluster 2\"]], \"hovertemplate\": \"Cluster=%{customdata[4]}<br>country=%{customdata[0]}<br>latitude=%{customdata[1]}<br>longitude=%{customdata[2]}<br>name=%{customdata[3]}<extra></extra>\", \"legendgroup\": \"Cluster 2\", \"marker\": {\"color\": \"#00cc96\"}, \"name\": \"Cluster 2\", \"notched\": true, \"offsetgroup\": \"Cluster 2\", \"showlegend\": false, \"type\": \"box\", \"x\": [\"Cluster 2\", \"Cluster 2\", \"Cluster 2\", \"Cluster 2\", \"Cluster 2\", \"Cluster 2\", \"Cluster 2\", \"Cluster 2\", \"Cluster 2\", \"Cluster 2\", \"Cluster 2\", \"Cluster 2\", \"Cluster 2\", \"Cluster 2\", \"Cluster 2\", \"Cluster 2\", \"Cluster 2\", \"Cluster 2\", \"Cluster 2\", \"Cluster 2\", \"Cluster 2\", \"Cluster 2\", \"Cluster 2\", \"Cluster 2\", \"Cluster 2\", \"Cluster 2\", \"Cluster 2\", \"Cluster 2\", \"Cluster 2\", \"Cluster 2\", \"Cluster 2\", \"Cluster 2\", \"Cluster 2\", \"Cluster 2\", \"Cluster 2\", \"Cluster 2\", \"Cluster 2\", \"Cluster 2\", \"Cluster 2\", \"Cluster 2\", \"Cluster 2\", \"Cluster 2\", \"Cluster 2\", \"Cluster 2\", \"Cluster 2\", \"Cluster 2\", \"Cluster 2\", \"Cluster 2\", \"Cluster 2\", \"Cluster 2\", \"Cluster 2\", \"Cluster 2\", \"Cluster 2\", \"Cluster 2\", \"Cluster 2\", \"Cluster 2\", \"Cluster 2\", \"Cluster 2\", \"Cluster 2\", \"Cluster 2\", \"Cluster 2\", \"Cluster 2\", \"Cluster 2\", \"Cluster 2\", \"Cluster 2\", \"Cluster 2\", \"Cluster 2\", \"Cluster 2\", \"Cluster 2\", \"Cluster 2\", \"Cluster 2\", \"Cluster 2\", \"Cluster 2\", \"Cluster 2\"], \"xaxis\": \"x2\", \"yaxis\": \"y2\"}, {\"alignmentgroup\": \"True\", \"bingroup\": \"x\", \"hovertemplate\": \"Cluster=%{x}<br>count=%{y}<extra></extra>\", \"legendgroup\": \"Cluster 3\", \"marker\": {\"color\": \"#ab63fa\", \"opacity\": 0.7}, \"name\": \"Cluster 3\", \"offsetgroup\": \"Cluster 3\", \"orientation\": \"v\", \"showlegend\": true, \"type\": \"histogram\", \"x\": [\"Cluster 3\", \"Cluster 3\", \"Cluster 3\", \"Cluster 3\", \"Cluster 3\", \"Cluster 3\", \"Cluster 3\", \"Cluster 3\", \"Cluster 3\", \"Cluster 3\", \"Cluster 3\", \"Cluster 3\", \"Cluster 3\", \"Cluster 3\", \"Cluster 3\", \"Cluster 3\", \"Cluster 3\", \"Cluster 3\", \"Cluster 3\", \"Cluster 3\", \"Cluster 3\", \"Cluster 3\", \"Cluster 3\", \"Cluster 3\", \"Cluster 3\", \"Cluster 3\", \"Cluster 3\", \"Cluster 3\"], \"xaxis\": \"x\", \"yaxis\": \"y\"}, {\"alignmentgroup\": \"True\", \"customdata\": [[\"PW\", 7.51498, 134.58252, \"Palau\", \"Cluster 3\"], [\"VN\", 14.058323999999999, 108.277199, \"Vietnam\", \"Cluster 3\"], [\"BD\", 23.684994, 90.35633100000001, \"Bangladesh\", \"Cluster 3\"], [\"RU\", 61.52401, 105.31875600000001, \"Russia\", \"Cluster 3\"], [\"CC\", -12.164164999999999, 96.870956, \"Cocos [Keeling] Islands\", \"Cluster 3\"], [\"SG\", 1.352083, 103.819836, \"Singapore\", \"Cluster 3\"], [\"BN\", 4.535277, 114.72766899999999, \"Brunei\", \"Cluster 3\"], [\"TL\", -8.874217, 125.727539, \"Timor-Leste\", \"Cluster 3\"], [\"TH\", 15.870032, 100.992541, \"Thailand\", \"Cluster 3\"], [\"CX\", -10.447525, 105.690449, \"Christmas Island\", \"Cluster 3\"], [\"BT\", 27.514162, 90.433601, \"Bhutan\", \"Cluster 3\"], [\"CN\", 35.86166, 104.195397, \"China\", \"Cluster 3\"], [\"TW\", 23.69781, 120.96051499999999, \"Taiwan\", \"Cluster 3\"], [\"PH\", 12.879721, 121.77401699999999, \"Philippines\", \"Cluster 3\"], [\"KR\", 35.907757000000004, 127.766922, \"South Korea\", \"Cluster 3\"], [\"MN\", 46.862496, 103.84665600000001, \"Mongolia\", \"Cluster 3\"], [\"ID\", -0.789275, 113.921327, \"Indonesia\", \"Cluster 3\"], [\"NP\", 28.394857000000002, 84.12400799999999, \"Nepal\", \"Cluster 3\"], [\"MO\", 22.198745000000002, 113.543873, \"Macau\", \"Cluster 3\"], [\"MM\", 21.913965, 95.956223, \"Myanmar [Burma]\", \"Cluster 3\"], [\"IN\", 20.593684, 78.96288, \"India\", \"Cluster 3\"], [\"HK\", 22.396428, 114.10949699999999, \"Hong Kong\", \"Cluster 3\"], [\"LK\", 7.873054, 80.77179699999999, \"Sri Lanka\", \"Cluster 3\"], [\"JP\", 36.204824, 138.252924, \"Japan\", \"Cluster 3\"], [\"LA\", 19.856270000000002, 102.495496, \"Laos\", \"Cluster 3\"], [\"KP\", 40.339852, 127.510093, \"North Korea\", \"Cluster 3\"], [\"KH\", 12.565679, 104.990963, \"Cambodia\", \"Cluster 3\"], [\"MY\", 4.210483999999999, 101.97576600000001, \"Malaysia\", \"Cluster 3\"]], \"hovertemplate\": \"Cluster=%{customdata[4]}<br>country=%{customdata[0]}<br>latitude=%{customdata[1]}<br>longitude=%{customdata[2]}<br>name=%{customdata[3]}<extra></extra>\", \"legendgroup\": \"Cluster 3\", \"marker\": {\"color\": \"#ab63fa\"}, \"name\": \"Cluster 3\", \"notched\": true, \"offsetgroup\": \"Cluster 3\", \"showlegend\": false, \"type\": \"box\", \"x\": [\"Cluster 3\", \"Cluster 3\", \"Cluster 3\", \"Cluster 3\", \"Cluster 3\", \"Cluster 3\", \"Cluster 3\", \"Cluster 3\", \"Cluster 3\", \"Cluster 3\", \"Cluster 3\", \"Cluster 3\", \"Cluster 3\", \"Cluster 3\", \"Cluster 3\", \"Cluster 3\", \"Cluster 3\", \"Cluster 3\", \"Cluster 3\", \"Cluster 3\", \"Cluster 3\", \"Cluster 3\", \"Cluster 3\", \"Cluster 3\", \"Cluster 3\", \"Cluster 3\", \"Cluster 3\", \"Cluster 3\"], \"xaxis\": \"x2\", \"yaxis\": \"y2\"}, {\"alignmentgroup\": \"True\", \"bingroup\": \"x\", \"hovertemplate\": \"Cluster=%{x}<br>count=%{y}<extra></extra>\", \"legendgroup\": \"Cluster 4\", \"marker\": {\"color\": \"#FFA15A\", \"opacity\": 0.7}, \"name\": \"Cluster 4\", \"offsetgroup\": \"Cluster 4\", \"orientation\": \"v\", \"showlegend\": true, \"type\": \"histogram\", \"x\": [\"Cluster 4\", \"Cluster 4\", \"Cluster 4\", \"Cluster 4\", \"Cluster 4\", \"Cluster 4\", \"Cluster 4\", \"Cluster 4\", \"Cluster 4\", \"Cluster 4\"], \"xaxis\": \"x\", \"yaxis\": \"y\"}, {\"alignmentgroup\": \"True\", \"customdata\": [[\"KI\", -3.3704169999999998, -168.734039, \"Kiribati\", \"Cluster 4\"], [\"TO\", -21.178986, -175.198242, \"Tonga\", \"Cluster 4\"], [\"TK\", -8.967363, -171.855881, \"Tokelau\", \"Cluster 4\"], [\"AS\", -14.270972, -170.132217, \"American Samoa\", \"Cluster 4\"], [\"WF\", -13.768752, -177.156097, \"Wallis and Futuna\", \"Cluster 4\"], [\"WS\", -13.759029, -172.10462900000002, \"Samoa\", \"Cluster 4\"], [\"CK\", -21.236735999999997, -159.777671, \"Cook Islands\", \"Cluster 4\"], [\"PF\", -17.679742, -149.40684299999998, \"French Polynesia\", \"Cluster 4\"], [\"NU\", -19.054445, -169.867233, \"Niue\", \"Cluster 4\"], [\"PN\", -24.703615, -127.43930800000001, \"Pitcairn Islands\", \"Cluster 4\"]], \"hovertemplate\": \"Cluster=%{customdata[4]}<br>country=%{customdata[0]}<br>latitude=%{customdata[1]}<br>longitude=%{customdata[2]}<br>name=%{customdata[3]}<extra></extra>\", \"legendgroup\": \"Cluster 4\", \"marker\": {\"color\": \"#FFA15A\"}, \"name\": \"Cluster 4\", \"notched\": true, \"offsetgroup\": \"Cluster 4\", \"showlegend\": false, \"type\": \"box\", \"x\": [\"Cluster 4\", \"Cluster 4\", \"Cluster 4\", \"Cluster 4\", \"Cluster 4\", \"Cluster 4\", \"Cluster 4\", \"Cluster 4\", \"Cluster 4\", \"Cluster 4\"], \"xaxis\": \"x2\", \"yaxis\": \"y2\"}, {\"alignmentgroup\": \"True\", \"bingroup\": \"x\", \"hovertemplate\": \"Cluster=%{x}<br>count=%{y}<extra></extra>\", \"legendgroup\": \"Cluster 5\", \"marker\": {\"color\": \"#19d3f3\", \"opacity\": 0.7}, \"name\": \"Cluster 5\", \"offsetgroup\": \"Cluster 5\", \"orientation\": \"v\", \"showlegend\": true, \"type\": \"histogram\", \"x\": [\"Cluster 5\", \"Cluster 5\", \"Cluster 5\", \"Cluster 5\", \"Cluster 5\", \"Cluster 5\", \"Cluster 5\", \"Cluster 5\", \"Cluster 5\", \"Cluster 5\", \"Cluster 5\", \"Cluster 5\", \"Cluster 5\", \"Cluster 5\"], \"xaxis\": \"x\", \"yaxis\": \"y\"}, {\"alignmentgroup\": \"True\", \"customdata\": [[\"NC\", -20.904304999999997, 165.618042, \"New Caledonia\", \"Cluster 5\"], [\"NF\", -29.040834999999998, 167.954712, \"Norfolk Island\", \"Cluster 5\"], [\"NZ\", -40.900557, 174.88597099999998, \"New Zealand\", \"Cluster 5\"], [\"FJ\", -16.578193, 179.414413, \"Fiji\", \"Cluster 5\"], [\"AU\", -25.274398, 133.775136, \"Australia\", \"Cluster 5\"], [\"MH\", 7.131474000000001, 171.184478, \"Marshall Islands\", \"Cluster 5\"], [\"FM\", 7.425553999999999, 150.550812, \"Micronesia\", \"Cluster 5\"], [\"TV\", -7.109535, 177.64933, \"Tuvalu\", \"Cluster 5\"], [\"NR\", -0.522778, 166.931503, \"Nauru\", \"Cluster 5\"], [\"PG\", -6.314993, 143.95555, \"Papua New Guinea\", \"Cluster 5\"], [\"SB\", -9.645710000000001, 160.156194, \"Solomon Islands\", \"Cluster 5\"], [\"VU\", -15.376706, 166.959158, \"Vanuatu\", \"Cluster 5\"], [\"GU\", 13.444304, 144.793731, \"Guam\", \"Cluster 5\"], [\"MP\", 17.33083, 145.38468999999998, \"Northern Mariana Islands\", \"Cluster 5\"]], \"hovertemplate\": \"Cluster=%{customdata[4]}<br>country=%{customdata[0]}<br>latitude=%{customdata[1]}<br>longitude=%{customdata[2]}<br>name=%{customdata[3]}<extra></extra>\", \"legendgroup\": \"Cluster 5\", \"marker\": {\"color\": \"#19d3f3\"}, \"name\": \"Cluster 5\", \"notched\": true, \"offsetgroup\": \"Cluster 5\", \"showlegend\": false, \"type\": \"box\", \"x\": [\"Cluster 5\", \"Cluster 5\", \"Cluster 5\", \"Cluster 5\", \"Cluster 5\", \"Cluster 5\", \"Cluster 5\", \"Cluster 5\", \"Cluster 5\", \"Cluster 5\", \"Cluster 5\", \"Cluster 5\", \"Cluster 5\", \"Cluster 5\"], \"xaxis\": \"x2\", \"yaxis\": \"y2\"}, {\"alignmentgroup\": \"True\", \"bingroup\": \"x\", \"hovertemplate\": \"Cluster=%{x}<br>count=%{y}<extra></extra>\", \"legendgroup\": \"Cluster 6\", \"marker\": {\"color\": \"#FF6692\", \"opacity\": 0.7}, \"name\": \"Cluster 6\", \"offsetgroup\": \"Cluster 6\", \"orientation\": \"v\", \"showlegend\": true, \"type\": \"histogram\", \"x\": [\"Cluster 6\", \"Cluster 6\", \"Cluster 6\", \"Cluster 6\", \"Cluster 6\", \"Cluster 6\", \"Cluster 6\", \"Cluster 6\", \"Cluster 6\", \"Cluster 6\", \"Cluster 6\", \"Cluster 6\", \"Cluster 6\", \"Cluster 6\", \"Cluster 6\", \"Cluster 6\", \"Cluster 6\", \"Cluster 6\", \"Cluster 6\", \"Cluster 6\", \"Cluster 6\", \"Cluster 6\", \"Cluster 6\", \"Cluster 6\", \"Cluster 6\", \"Cluster 6\", \"Cluster 6\", \"Cluster 6\", \"Cluster 6\", \"Cluster 6\", \"Cluster 6\", \"Cluster 6\", \"Cluster 6\", \"Cluster 6\", \"Cluster 6\"], \"xaxis\": \"x\", \"yaxis\": \"y\"}, {\"alignmentgroup\": \"True\", \"customdata\": [[\"AM\", 40.069099, 45.038189, \"Armenia\", \"Cluster 6\"], [\"KG\", 41.20438, 74.766098, \"Kyrgyzstan\", \"Cluster 6\"], [\"AE\", 23.424076, 53.847818000000004, \"United Arab Emirates\", \"Cluster 6\"], [\"AF\", 33.93911, 67.709953, \"Afghanistan\", \"Cluster 6\"], [\"PS\", 31.952162, 35.233154, \"Palestinian Territories\", \"Cluster 6\"], [\"AZ\", 40.143105, 47.576927000000005, \"Azerbaijan\", \"Cluster 6\"], [\"YE\", 15.552726999999999, 48.516388, \"Yemen\", \"Cluster 6\"], [\"PK\", 30.375321000000003, 69.345116, \"Pakistan\", \"Cluster 6\"], [\"GE\", 42.315407, 43.356891999999995, \"Georgia\", \"Cluster 6\"], [\"LB\", 33.854721000000005, 35.862285, \"Lebanon\", \"Cluster 6\"], [\"OM\", 21.512583, 55.923255000000005, \"Oman\", \"Cluster 6\"], [\"UZ\", 41.377491, 64.585262, \"Uzbekistan\", \"Cluster 6\"], [\"KW\", 29.311659999999996, 47.481766, \"Kuwait\", \"Cluster 6\"], [\"TR\", 38.963745, 35.243322, \"Turkey\", \"Cluster 6\"], [\"JO\", 30.585164000000002, 36.238414, \"Jordan\", \"Cluster 6\"], [\"SD\", 12.862807, 30.217636, \"Sudan\", \"Cluster 6\"], [\"DJ\", 11.825138, 42.590275, \"Djibouti\", \"Cluster 6\"], [\"MV\", 3.202778, 73.22068, \"Maldives\", \"Cluster 6\"], [\"GZ\", 31.354676, 34.308825, \"Gaza Strip\", \"Cluster 6\"], [\"CY\", 35.126413, 33.429859, \"Cyprus\", \"Cluster 6\"], [\"EG\", 26.820553000000004, 30.802497999999996, \"Egypt\", \"Cluster 6\"], [\"SO\", 5.152149, 46.199616, \"Somalia\", \"Cluster 6\"], [\"SA\", 23.885942, 45.079162, \"Saudi Arabia\", \"Cluster 6\"], [\"BH\", 25.930414000000003, 50.637772, \"Bahrain\", \"Cluster 6\"], [\"SY\", 34.802075, 38.996815000000005, \"Syria\", \"Cluster 6\"], [\"IL\", 31.046051000000002, 34.851612, \"Israel\", \"Cluster 6\"], [\"TJ\", 38.861034000000004, 71.276093, \"Tajikistan\", \"Cluster 6\"], [\"ET\", 9.145, 40.489672999999996, \"Ethiopia\", \"Cluster 6\"], [\"IO\", -6.343194, 71.87651899999999, \"British Indian Ocean Territory\", \"Cluster 6\"], [\"TM\", 38.969719, 59.556278000000006, \"Turkmenistan\", \"Cluster 6\"], [\"IQ\", 33.223191, 43.679291, \"Iraq\", \"Cluster 6\"], [\"QA\", 25.354826, 51.183884, \"Qatar\", \"Cluster 6\"], [\"IR\", 32.427908, 53.68804599999999, \"Iran\", \"Cluster 6\"], [\"ER\", 15.179383999999999, 39.782334000000006, \"Eritrea\", \"Cluster 6\"], [\"KZ\", 48.019573, 66.923684, \"Kazakhstan\", \"Cluster 6\"]], \"hovertemplate\": \"Cluster=%{customdata[4]}<br>country=%{customdata[0]}<br>latitude=%{customdata[1]}<br>longitude=%{customdata[2]}<br>name=%{customdata[3]}<extra></extra>\", \"legendgroup\": \"Cluster 6\", \"marker\": {\"color\": \"#FF6692\"}, \"name\": \"Cluster 6\", \"notched\": true, \"offsetgroup\": \"Cluster 6\", \"showlegend\": false, \"type\": \"box\", \"x\": [\"Cluster 6\", \"Cluster 6\", \"Cluster 6\", \"Cluster 6\", \"Cluster 6\", \"Cluster 6\", \"Cluster 6\", \"Cluster 6\", \"Cluster 6\", \"Cluster 6\", \"Cluster 6\", \"Cluster 6\", \"Cluster 6\", \"Cluster 6\", \"Cluster 6\", \"Cluster 6\", \"Cluster 6\", \"Cluster 6\", \"Cluster 6\", \"Cluster 6\", \"Cluster 6\", \"Cluster 6\", \"Cluster 6\", \"Cluster 6\", \"Cluster 6\", \"Cluster 6\", \"Cluster 6\", \"Cluster 6\", \"Cluster 6\", \"Cluster 6\", \"Cluster 6\", \"Cluster 6\", \"Cluster 6\", \"Cluster 6\", \"Cluster 6\"], \"xaxis\": \"x2\", \"yaxis\": \"y2\"}],                        {\"barmode\": \"relative\", \"height\": 600, \"legend\": {\"title\": {\"text\": \"Cluster\"}, \"tracegroupgap\": 0}, \"margin\": {\"t\": 60}, \"template\": {\"data\": {\"bar\": [{\"error_x\": {\"color\": \"#2a3f5f\"}, \"error_y\": {\"color\": \"#2a3f5f\"}, \"marker\": {\"line\": {\"color\": \"#E5ECF6\", \"width\": 0.5}}, \"type\": \"bar\"}], \"barpolar\": [{\"marker\": {\"line\": {\"color\": \"#E5ECF6\", \"width\": 0.5}}, \"type\": \"barpolar\"}], \"carpet\": [{\"aaxis\": {\"endlinecolor\": \"#2a3f5f\", \"gridcolor\": \"white\", \"linecolor\": \"white\", \"minorgridcolor\": \"white\", \"startlinecolor\": \"#2a3f5f\"}, \"baxis\": {\"endlinecolor\": \"#2a3f5f\", \"gridcolor\": \"white\", \"linecolor\": \"white\", \"minorgridcolor\": \"white\", \"startlinecolor\": \"#2a3f5f\"}, \"type\": \"carpet\"}], \"choropleth\": [{\"colorbar\": {\"outlinewidth\": 0, \"ticks\": \"\"}, \"type\": \"choropleth\"}], \"contour\": [{\"colorbar\": {\"outlinewidth\": 0, \"ticks\": \"\"}, \"colorscale\": [[0.0, \"#0d0887\"], [0.1111111111111111, \"#46039f\"], [0.2222222222222222, \"#7201a8\"], [0.3333333333333333, \"#9c179e\"], [0.4444444444444444, \"#bd3786\"], [0.5555555555555556, \"#d8576b\"], [0.6666666666666666, \"#ed7953\"], [0.7777777777777778, \"#fb9f3a\"], [0.8888888888888888, \"#fdca26\"], [1.0, \"#f0f921\"]], \"type\": \"contour\"}], \"contourcarpet\": [{\"colorbar\": {\"outlinewidth\": 0, \"ticks\": \"\"}, \"type\": \"contourcarpet\"}], \"heatmap\": [{\"colorbar\": {\"outlinewidth\": 0, \"ticks\": \"\"}, \"colorscale\": [[0.0, \"#0d0887\"], [0.1111111111111111, \"#46039f\"], [0.2222222222222222, \"#7201a8\"], [0.3333333333333333, \"#9c179e\"], [0.4444444444444444, \"#bd3786\"], [0.5555555555555556, \"#d8576b\"], [0.6666666666666666, \"#ed7953\"], [0.7777777777777778, \"#fb9f3a\"], [0.8888888888888888, \"#fdca26\"], [1.0, \"#f0f921\"]], \"type\": \"heatmap\"}], \"heatmapgl\": [{\"colorbar\": {\"outlinewidth\": 0, \"ticks\": \"\"}, \"colorscale\": [[0.0, \"#0d0887\"], [0.1111111111111111, \"#46039f\"], [0.2222222222222222, \"#7201a8\"], [0.3333333333333333, \"#9c179e\"], [0.4444444444444444, \"#bd3786\"], [0.5555555555555556, \"#d8576b\"], [0.6666666666666666, \"#ed7953\"], [0.7777777777777778, \"#fb9f3a\"], [0.8888888888888888, \"#fdca26\"], [1.0, \"#f0f921\"]], \"type\": \"heatmapgl\"}], \"histogram\": [{\"marker\": {\"colorbar\": {\"outlinewidth\": 0, \"ticks\": \"\"}}, \"type\": \"histogram\"}], \"histogram2d\": [{\"colorbar\": {\"outlinewidth\": 0, \"ticks\": \"\"}, \"colorscale\": [[0.0, \"#0d0887\"], [0.1111111111111111, \"#46039f\"], [0.2222222222222222, \"#7201a8\"], [0.3333333333333333, \"#9c179e\"], [0.4444444444444444, \"#bd3786\"], [0.5555555555555556, \"#d8576b\"], [0.6666666666666666, \"#ed7953\"], [0.7777777777777778, \"#fb9f3a\"], [0.8888888888888888, \"#fdca26\"], [1.0, \"#f0f921\"]], \"type\": \"histogram2d\"}], \"histogram2dcontour\": [{\"colorbar\": {\"outlinewidth\": 0, \"ticks\": \"\"}, \"colorscale\": [[0.0, \"#0d0887\"], [0.1111111111111111, \"#46039f\"], [0.2222222222222222, \"#7201a8\"], [0.3333333333333333, \"#9c179e\"], [0.4444444444444444, \"#bd3786\"], [0.5555555555555556, \"#d8576b\"], [0.6666666666666666, \"#ed7953\"], [0.7777777777777778, \"#fb9f3a\"], [0.8888888888888888, \"#fdca26\"], [1.0, \"#f0f921\"]], \"type\": \"histogram2dcontour\"}], \"mesh3d\": [{\"colorbar\": {\"outlinewidth\": 0, \"ticks\": \"\"}, \"type\": \"mesh3d\"}], \"parcoords\": [{\"line\": {\"colorbar\": {\"outlinewidth\": 0, \"ticks\": \"\"}}, \"type\": \"parcoords\"}], \"pie\": [{\"automargin\": true, \"type\": \"pie\"}], \"scatter\": [{\"marker\": {\"colorbar\": {\"outlinewidth\": 0, \"ticks\": \"\"}}, \"type\": \"scatter\"}], \"scatter3d\": [{\"line\": {\"colorbar\": {\"outlinewidth\": 0, \"ticks\": \"\"}}, \"marker\": {\"colorbar\": {\"outlinewidth\": 0, \"ticks\": \"\"}}, \"type\": \"scatter3d\"}], \"scattercarpet\": [{\"marker\": {\"colorbar\": {\"outlinewidth\": 0, \"ticks\": \"\"}}, \"type\": \"scattercarpet\"}], \"scattergeo\": [{\"marker\": {\"colorbar\": {\"outlinewidth\": 0, \"ticks\": \"\"}}, \"type\": \"scattergeo\"}], \"scattergl\": [{\"marker\": {\"colorbar\": {\"outlinewidth\": 0, \"ticks\": \"\"}}, \"type\": \"scattergl\"}], \"scattermapbox\": [{\"marker\": {\"colorbar\": {\"outlinewidth\": 0, \"ticks\": \"\"}}, \"type\": \"scattermapbox\"}], \"scatterpolar\": [{\"marker\": {\"colorbar\": {\"outlinewidth\": 0, \"ticks\": \"\"}}, \"type\": \"scatterpolar\"}], \"scatterpolargl\": [{\"marker\": {\"colorbar\": {\"outlinewidth\": 0, \"ticks\": \"\"}}, \"type\": \"scatterpolargl\"}], \"scatterternary\": [{\"marker\": {\"colorbar\": {\"outlinewidth\": 0, \"ticks\": \"\"}}, \"type\": \"scatterternary\"}], \"surface\": [{\"colorbar\": {\"outlinewidth\": 0, \"ticks\": \"\"}, \"colorscale\": [[0.0, \"#0d0887\"], [0.1111111111111111, \"#46039f\"], [0.2222222222222222, \"#7201a8\"], [0.3333333333333333, \"#9c179e\"], [0.4444444444444444, \"#bd3786\"], [0.5555555555555556, \"#d8576b\"], [0.6666666666666666, \"#ed7953\"], [0.7777777777777778, \"#fb9f3a\"], [0.8888888888888888, \"#fdca26\"], [1.0, \"#f0f921\"]], \"type\": \"surface\"}], \"table\": [{\"cells\": {\"fill\": {\"color\": \"#EBF0F8\"}, \"line\": {\"color\": \"white\"}}, \"header\": {\"fill\": {\"color\": \"#C8D4E3\"}, \"line\": {\"color\": \"white\"}}, \"type\": \"table\"}]}, \"layout\": {\"annotationdefaults\": {\"arrowcolor\": \"#2a3f5f\", \"arrowhead\": 0, \"arrowwidth\": 1}, \"autotypenumbers\": \"strict\", \"coloraxis\": {\"colorbar\": {\"outlinewidth\": 0, \"ticks\": \"\"}}, \"colorscale\": {\"diverging\": [[0, \"#8e0152\"], [0.1, \"#c51b7d\"], [0.2, \"#de77ae\"], [0.3, \"#f1b6da\"], [0.4, \"#fde0ef\"], [0.5, \"#f7f7f7\"], [0.6, \"#e6f5d0\"], [0.7, \"#b8e186\"], [0.8, \"#7fbc41\"], [0.9, \"#4d9221\"], [1, \"#276419\"]], \"sequential\": [[0.0, \"#0d0887\"], [0.1111111111111111, \"#46039f\"], [0.2222222222222222, \"#7201a8\"], [0.3333333333333333, \"#9c179e\"], [0.4444444444444444, \"#bd3786\"], [0.5555555555555556, \"#d8576b\"], [0.6666666666666666, \"#ed7953\"], [0.7777777777777778, \"#fb9f3a\"], [0.8888888888888888, \"#fdca26\"], [1.0, \"#f0f921\"]], \"sequentialminus\": [[0.0, \"#0d0887\"], [0.1111111111111111, \"#46039f\"], [0.2222222222222222, \"#7201a8\"], [0.3333333333333333, \"#9c179e\"], [0.4444444444444444, \"#bd3786\"], [0.5555555555555556, \"#d8576b\"], [0.6666666666666666, \"#ed7953\"], [0.7777777777777778, \"#fb9f3a\"], [0.8888888888888888, \"#fdca26\"], [1.0, \"#f0f921\"]]}, \"colorway\": [\"#636efa\", \"#EF553B\", \"#00cc96\", \"#ab63fa\", \"#FFA15A\", \"#19d3f3\", \"#FF6692\", \"#B6E880\", \"#FF97FF\", \"#FECB52\"], \"font\": {\"color\": \"#2a3f5f\"}, \"geo\": {\"bgcolor\": \"white\", \"lakecolor\": \"white\", \"landcolor\": \"#E5ECF6\", \"showlakes\": true, \"showland\": true, \"subunitcolor\": \"white\"}, \"hoverlabel\": {\"align\": \"left\"}, \"hovermode\": \"closest\", \"mapbox\": {\"style\": \"light\"}, \"paper_bgcolor\": \"white\", \"plot_bgcolor\": \"#E5ECF6\", \"polar\": {\"angularaxis\": {\"gridcolor\": \"white\", \"linecolor\": \"white\", \"ticks\": \"\"}, \"bgcolor\": \"#E5ECF6\", \"radialaxis\": {\"gridcolor\": \"white\", \"linecolor\": \"white\", \"ticks\": \"\"}}, \"scene\": {\"xaxis\": {\"backgroundcolor\": \"#E5ECF6\", \"gridcolor\": \"white\", \"gridwidth\": 2, \"linecolor\": \"white\", \"showbackground\": true, \"ticks\": \"\", \"zerolinecolor\": \"white\"}, \"yaxis\": {\"backgroundcolor\": \"#E5ECF6\", \"gridcolor\": \"white\", \"gridwidth\": 2, \"linecolor\": \"white\", \"showbackground\": true, \"ticks\": \"\", \"zerolinecolor\": \"white\"}, \"zaxis\": {\"backgroundcolor\": \"#E5ECF6\", \"gridcolor\": \"white\", \"gridwidth\": 2, \"linecolor\": \"white\", \"showbackground\": true, \"ticks\": \"\", \"zerolinecolor\": \"white\"}}, \"shapedefaults\": {\"line\": {\"color\": \"#2a3f5f\"}}, \"ternary\": {\"aaxis\": {\"gridcolor\": \"white\", \"linecolor\": \"white\", \"ticks\": \"\"}, \"baxis\": {\"gridcolor\": \"white\", \"linecolor\": \"white\", \"ticks\": \"\"}, \"bgcolor\": \"#E5ECF6\", \"caxis\": {\"gridcolor\": \"white\", \"linecolor\": \"white\", \"ticks\": \"\"}}, \"title\": {\"x\": 0.05}, \"xaxis\": {\"automargin\": true, \"gridcolor\": \"white\", \"linecolor\": \"white\", \"ticks\": \"\", \"title\": {\"standoff\": 15}, \"zerolinecolor\": \"white\", \"zerolinewidth\": 2}, \"yaxis\": {\"automargin\": true, \"gridcolor\": \"white\", \"linecolor\": \"white\", \"ticks\": \"\", \"title\": {\"standoff\": 15}, \"zerolinecolor\": \"white\", \"zerolinewidth\": 2}}}, \"xaxis\": {\"anchor\": \"y\", \"categoryarray\": [\"Cluster 0\", \"Cluster 1\", \"Cluster 2\", \"Cluster 3\", \"Cluster 4\", \"Cluster 5\", \"Cluster 6\"], \"categoryorder\": \"array\", \"domain\": [0.0, 1.0], \"title\": {\"text\": \"Cluster\"}}, \"xaxis2\": {\"anchor\": \"y2\", \"domain\": [0.0, 1.0], \"matches\": \"x\", \"showgrid\": true, \"showticklabels\": false}, \"yaxis\": {\"anchor\": \"x\", \"domain\": [0.0, 0.7326], \"title\": {\"text\": \"count\"}}, \"yaxis2\": {\"anchor\": \"x2\", \"domain\": [0.7426, 1.0], \"matches\": \"y2\", \"showgrid\": false, \"showline\": false, \"showticklabels\": false, \"ticks\": \"\"}},                        {\"responsive\": true}                    ).then(function(){\n",
       "                            \n",
       "var gd = document.getElementById('53c0d39d-b131-4e65-882d-f5bf138b6ca5');\n",
       "var x = new MutationObserver(function (mutations, observer) {{\n",
       "        var display = window.getComputedStyle(gd).display;\n",
       "        if (!display || display === 'none') {{\n",
       "            console.log([gd, 'removed!']);\n",
       "            Plotly.purge(gd);\n",
       "            observer.disconnect();\n",
       "        }}\n",
       "}});\n",
       "\n",
       "// Listen for the removal of the full notebook cells\n",
       "var notebookContainer = gd.closest('#notebook-container');\n",
       "if (notebookContainer) {{\n",
       "    x.observe(notebookContainer, {childList: true});\n",
       "}}\n",
       "\n",
       "// Listen for the clearing of the current output cell\n",
       "var outputEl = gd.closest('.output');\n",
       "if (outputEl) {{\n",
       "    x.observe(outputEl, {childList: true});\n",
       "}}\n",
       "\n",
       "                        })                };                });            </script>        </div>"
      ]
     },
     "metadata": {},
     "output_type": "display_data"
    }
   ],
   "source": [
    "pc.plot_model(km, plot = 'distribution')"
   ]
  },
  {
   "cell_type": "code",
   "execution_count": 23,
   "metadata": {},
   "outputs": [],
   "source": [
    "#Assigning Clusters to countries\n",
    "km_df = pc.assign_model(km)"
   ]
  },
  {
   "cell_type": "code",
   "execution_count": 24,
   "metadata": {},
   "outputs": [
    {
     "data": {
      "text/html": [
       "<div>\n",
       "<style scoped>\n",
       "    .dataframe tbody tr th:only-of-type {\n",
       "        vertical-align: middle;\n",
       "    }\n",
       "\n",
       "    .dataframe tbody tr th {\n",
       "        vertical-align: top;\n",
       "    }\n",
       "\n",
       "    .dataframe thead th {\n",
       "        text-align: right;\n",
       "    }\n",
       "</style>\n",
       "<table border=\"1\" class=\"dataframe\">\n",
       "  <thead>\n",
       "    <tr style=\"text-align: right;\">\n",
       "      <th></th>\n",
       "      <th>country</th>\n",
       "      <th>latitude</th>\n",
       "      <th>longitude</th>\n",
       "      <th>name</th>\n",
       "      <th>Cluster</th>\n",
       "    </tr>\n",
       "  </thead>\n",
       "  <tbody>\n",
       "    <tr>\n",
       "      <th>0</th>\n",
       "      <td>AD</td>\n",
       "      <td>42.546245</td>\n",
       "      <td>1.601554</td>\n",
       "      <td>Andorra</td>\n",
       "      <td>Cluster 2</td>\n",
       "    </tr>\n",
       "    <tr>\n",
       "      <th>1</th>\n",
       "      <td>AE</td>\n",
       "      <td>23.424076</td>\n",
       "      <td>53.847818</td>\n",
       "      <td>United Arab Emirates</td>\n",
       "      <td>Cluster 6</td>\n",
       "    </tr>\n",
       "    <tr>\n",
       "      <th>2</th>\n",
       "      <td>AF</td>\n",
       "      <td>33.939110</td>\n",
       "      <td>67.709953</td>\n",
       "      <td>Afghanistan</td>\n",
       "      <td>Cluster 6</td>\n",
       "    </tr>\n",
       "    <tr>\n",
       "      <th>3</th>\n",
       "      <td>AG</td>\n",
       "      <td>17.060816</td>\n",
       "      <td>-61.796428</td>\n",
       "      <td>Antigua and Barbuda</td>\n",
       "      <td>Cluster 1</td>\n",
       "    </tr>\n",
       "    <tr>\n",
       "      <th>4</th>\n",
       "      <td>AI</td>\n",
       "      <td>18.220554</td>\n",
       "      <td>-63.068615</td>\n",
       "      <td>Anguilla</td>\n",
       "      <td>Cluster 1</td>\n",
       "    </tr>\n",
       "  </tbody>\n",
       "</table>\n",
       "</div>"
      ],
      "text/plain": [
       "  country   latitude  longitude                  name    Cluster\n",
       "0      AD  42.546245   1.601554               Andorra  Cluster 2\n",
       "1      AE  23.424076  53.847818  United Arab Emirates  Cluster 6\n",
       "2      AF  33.939110  67.709953           Afghanistan  Cluster 6\n",
       "3      AG  17.060816 -61.796428   Antigua and Barbuda  Cluster 1\n",
       "4      AI  18.220554 -63.068615              Anguilla  Cluster 1"
      ]
     },
     "execution_count": 24,
     "metadata": {},
     "output_type": "execute_result"
    }
   ],
   "source": [
    "km_df.head()"
   ]
  },
  {
   "cell_type": "code",
   "execution_count": 25,
   "metadata": {},
   "outputs": [],
   "source": [
    "km_df2 = km_df.copy()"
   ]
  },
  {
   "cell_type": "code",
   "execution_count": 26,
   "metadata": {},
   "outputs": [],
   "source": [
    "km_df2['Cluster'] = km_df2['Cluster'].str.replace('Cluster','').apply(int)"
   ]
  },
  {
   "cell_type": "code",
   "execution_count": 27,
   "metadata": {},
   "outputs": [
    {
     "data": {
      "text/html": [
       "<div>\n",
       "<style scoped>\n",
       "    .dataframe tbody tr th:only-of-type {\n",
       "        vertical-align: middle;\n",
       "    }\n",
       "\n",
       "    .dataframe tbody tr th {\n",
       "        vertical-align: top;\n",
       "    }\n",
       "\n",
       "    .dataframe thead th {\n",
       "        text-align: right;\n",
       "    }\n",
       "</style>\n",
       "<table border=\"1\" class=\"dataframe\">\n",
       "  <thead>\n",
       "    <tr style=\"text-align: right;\">\n",
       "      <th></th>\n",
       "      <th>country</th>\n",
       "      <th>latitude</th>\n",
       "      <th>longitude</th>\n",
       "      <th>name</th>\n",
       "      <th>Cluster</th>\n",
       "    </tr>\n",
       "  </thead>\n",
       "  <tbody>\n",
       "    <tr>\n",
       "      <th>0</th>\n",
       "      <td>AD</td>\n",
       "      <td>42.546245</td>\n",
       "      <td>1.601554</td>\n",
       "      <td>Andorra</td>\n",
       "      <td>2</td>\n",
       "    </tr>\n",
       "    <tr>\n",
       "      <th>1</th>\n",
       "      <td>AE</td>\n",
       "      <td>23.424076</td>\n",
       "      <td>53.847818</td>\n",
       "      <td>United Arab Emirates</td>\n",
       "      <td>6</td>\n",
       "    </tr>\n",
       "    <tr>\n",
       "      <th>2</th>\n",
       "      <td>AF</td>\n",
       "      <td>33.939110</td>\n",
       "      <td>67.709953</td>\n",
       "      <td>Afghanistan</td>\n",
       "      <td>6</td>\n",
       "    </tr>\n",
       "    <tr>\n",
       "      <th>3</th>\n",
       "      <td>AG</td>\n",
       "      <td>17.060816</td>\n",
       "      <td>-61.796428</td>\n",
       "      <td>Antigua and Barbuda</td>\n",
       "      <td>1</td>\n",
       "    </tr>\n",
       "    <tr>\n",
       "      <th>4</th>\n",
       "      <td>AI</td>\n",
       "      <td>18.220554</td>\n",
       "      <td>-63.068615</td>\n",
       "      <td>Anguilla</td>\n",
       "      <td>1</td>\n",
       "    </tr>\n",
       "  </tbody>\n",
       "</table>\n",
       "</div>"
      ],
      "text/plain": [
       "  country   latitude  longitude                  name  Cluster\n",
       "0      AD  42.546245   1.601554               Andorra        2\n",
       "1      AE  23.424076  53.847818  United Arab Emirates        6\n",
       "2      AF  33.939110  67.709953           Afghanistan        6\n",
       "3      AG  17.060816 -61.796428   Antigua and Barbuda        1\n",
       "4      AI  18.220554 -63.068615              Anguilla        1"
      ]
     },
     "execution_count": 27,
     "metadata": {},
     "output_type": "execute_result"
    }
   ],
   "source": [
    "km_df2.head()"
   ]
  },
  {
   "cell_type": "code",
   "execution_count": 32,
   "metadata": {},
   "outputs": [
    {
     "data": {
      "text/plain": [
       "<matplotlib.collections.PathCollection at 0x19d6460d610>"
      ]
     },
     "execution_count": 32,
     "metadata": {},
     "output_type": "execute_result"
    },
    {
     "data": {
      "image/png": "[encoded data removed]",
      "text/plain": [
       "<Figure size 576x396 with 1 Axes>"
      ]
     },
     "metadata": {},
     "output_type": "display_data"
    }
   ],
   "source": [
    "#Plot the clusters\n",
    "plt.scatter(km_df2['longitude'],km_df2['latitude'], c = km_df2['Cluster'], cmap = 'jet')"
   ]
  },
  {
   "cell_type": "code",
   "execution_count": 33,
   "metadata": {},
   "outputs": [
    {
     "name": "stdout",
     "output_type": "stream",
     "text": [
      "Collecting geopandas\n",
      "  Using cached geopandas-0.8.1-py2.py3-none-any.whl (962 kB)\n",
      "Collecting descartes\n",
      "  Using cached descartes-1.1.0-py3-none-any.whl (5.8 kB)\n",
      "Collecting shapely\n",
      "  Downloading Shapely-1.7.1-cp38-cp38-win_amd64.whl (1.0 MB)\n",
      "Collecting pyproj>=2.2.0\n",
      "  Downloading pyproj-3.0.0.post1-cp38-cp38-win_amd64.whl (14.4 MB)\n",
      "Collecting fiona\n",
      "  Using cached Fiona-1.8.18.tar.gz (1.3 MB)\n"
     ]
    },
    {
     "name": "stderr",
     "output_type": "stream",
     "text": [
      "    ERROR: Command errored out with exit status 1:\n",
      "     command: 'C:\\Users\\savil\\anaconda3\\python.exe' -c 'import sys, setuptools, tokenize; sys.argv[0] = '\"'\"'C:\\\\Users\\\\savil\\\\AppData\\\\Local\\\\Temp\\\\pip-install-n6p0oqa5\\\\fiona\\\\setup.py'\"'\"'; __file__='\"'\"'C:\\\\Users\\\\savil\\\\AppData\\\\Local\\\\Temp\\\\pip-install-n6p0oqa5\\\\fiona\\\\setup.py'\"'\"';f=getattr(tokenize, '\"'\"'open'\"'\"', open)(__file__);code=f.read().replace('\"'\"'\\r\\n'\"'\"', '\"'\"'\\n'\"'\"');f.close();exec(compile(code, __file__, '\"'\"'exec'\"'\"'))' egg_info --egg-base 'C:\\Users\\savil\\AppData\\Local\\Temp\\pip-pip-egg-info-wjg1lgxo'\n",
      "         cwd: C:\\Users\\savil\\AppData\\Local\\Temp\\pip-install-n6p0oqa5\\fiona\\\n",
      "    Complete output (1 lines):\n",
      "    A GDAL API version must be specified. Provide a path to gdal-config using a GDAL_CONFIG environment variable or use a GDAL_VERSION environment variable.\n",
      "    ----------------------------------------\n",
      "ERROR: Command errored out with exit status 1: python setup.py egg_info Check the logs for full command output.\n"
     ]
    }
   ],
   "source": [
    "!pip install geopandas descartes"
   ]
  },
  {
   "cell_type": "markdown",
   "metadata": {},
   "source": [
    "## Need to fix Gdal error within machine before continuing this project"
   ]
  }
 ],
 "metadata": {
  "kernelspec": {
   "display_name": "Python 3",
   "language": "python",
   "name": "python3"
  },
  "language_info": {
   "codemirror_mode": {
    "name": "ipython",
    "version": 3
   },
   "file_extension": ".py",
   "mimetype": "text/x-python",
   "name": "python",
   "nbconvert_exporter": "python",
   "pygments_lexer": "ipython3",
   "version": "3.8.5"
  }
 },
 "nbformat": 4,
 "nbformat_minor": 4
}
